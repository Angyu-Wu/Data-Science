{
 "cells": [
  {
   "cell_type": "code",
   "execution_count": 1,
   "id": "11df4c9c",
   "metadata": {},
   "outputs": [],
   "source": [
    "import pandas as pd\n",
    "\n",
    "data = pd.read_csv('chatbot_data_1.csv')"
   ]
  },
  {
   "cell_type": "code",
   "execution_count": 2,
   "id": "7c416929",
   "metadata": {},
   "outputs": [
    {
     "data": {
      "text/html": [
       "<div>\n",
       "<style scoped>\n",
       "    .dataframe tbody tr th:only-of-type {\n",
       "        vertical-align: middle;\n",
       "    }\n",
       "\n",
       "    .dataframe tbody tr th {\n",
       "        vertical-align: top;\n",
       "    }\n",
       "\n",
       "    .dataframe thead th {\n",
       "        text-align: right;\n",
       "    }\n",
       "</style>\n",
       "<table border=\"1\" class=\"dataframe\">\n",
       "  <thead>\n",
       "    <tr style=\"text-align: right;\">\n",
       "      <th></th>\n",
       "      <th>Question</th>\n",
       "      <th>Answer</th>\n",
       "      <th>Intent</th>\n",
       "      <th>tag</th>\n",
       "    </tr>\n",
       "  </thead>\n",
       "  <tbody>\n",
       "    <tr>\n",
       "      <th>0</th>\n",
       "      <td>Hi</td>\n",
       "      <td>Hey :-)</td>\n",
       "      <td>greeting</td>\n",
       "      <td>Welcome</td>\n",
       "    </tr>\n",
       "    <tr>\n",
       "      <th>1</th>\n",
       "      <td>Hey</td>\n",
       "      <td>Hello, thanks for visiting</td>\n",
       "      <td>greeting</td>\n",
       "      <td>Welcome</td>\n",
       "    </tr>\n",
       "    <tr>\n",
       "      <th>2</th>\n",
       "      <td>How are you</td>\n",
       "      <td>Hi there, what can I do for you?</td>\n",
       "      <td>greeting</td>\n",
       "      <td>Welcome</td>\n",
       "    </tr>\n",
       "    <tr>\n",
       "      <th>3</th>\n",
       "      <td>Is anyone there?</td>\n",
       "      <td>Hi there, how can I help?</td>\n",
       "      <td>greeting</td>\n",
       "      <td>Welcome</td>\n",
       "    </tr>\n",
       "    <tr>\n",
       "      <th>4</th>\n",
       "      <td>Hello</td>\n",
       "      <td>Is there anything I can help you.</td>\n",
       "      <td>greeting</td>\n",
       "      <td>Welcome</td>\n",
       "    </tr>\n",
       "    <tr>\n",
       "      <th>...</th>\n",
       "      <td>...</td>\n",
       "      <td>...</td>\n",
       "      <td>...</td>\n",
       "      <td>...</td>\n",
       "    </tr>\n",
       "    <tr>\n",
       "      <th>70</th>\n",
       "      <td>A small chicken pizza and a Pepsi plz.</td>\n",
       "      <td>Sure, one small chicken pizza and one Pepsi ar...</td>\n",
       "      <td>order - pizza</td>\n",
       "      <td>Order</td>\n",
       "    </tr>\n",
       "    <tr>\n",
       "      <th>71</th>\n",
       "      <td>I wanna order a large chicken pizza and a Coca.</td>\n",
       "      <td>Sure, one large chicken pizza and one Coca are...</td>\n",
       "      <td>order - pizza</td>\n",
       "      <td>Order</td>\n",
       "    </tr>\n",
       "    <tr>\n",
       "      <th>72</th>\n",
       "      <td>Two large veg pizzas, please.</td>\n",
       "      <td>Sure, one large veg pizza is in your order. Wh...</td>\n",
       "      <td>order - pizza</td>\n",
       "      <td>Order</td>\n",
       "    </tr>\n",
       "    <tr>\n",
       "      <th>73</th>\n",
       "      <td>One chicken pizza, please.</td>\n",
       "      <td>Sure, one chicken pizza is in your order. Wher...</td>\n",
       "      <td>order - pizza</td>\n",
       "      <td>Order</td>\n",
       "    </tr>\n",
       "    <tr>\n",
       "      <th>74</th>\n",
       "      <td>Five small vegetarian pizzas plz.</td>\n",
       "      <td>Sure, five small vegetarian is in your order. ...</td>\n",
       "      <td>order - pizza</td>\n",
       "      <td>Order</td>\n",
       "    </tr>\n",
       "  </tbody>\n",
       "</table>\n",
       "<p>75 rows × 4 columns</p>\n",
       "</div>"
      ],
      "text/plain": [
       "                                           Question  \\\n",
       "0                                                Hi   \n",
       "1                                               Hey   \n",
       "2                                       How are you   \n",
       "3                                  Is anyone there?   \n",
       "4                                             Hello   \n",
       "..                                              ...   \n",
       "70           A small chicken pizza and a Pepsi plz.   \n",
       "71  I wanna order a large chicken pizza and a Coca.   \n",
       "72                    Two large veg pizzas, please.   \n",
       "73                       One chicken pizza, please.   \n",
       "74                Five small vegetarian pizzas plz.   \n",
       "\n",
       "                                               Answer         Intent      tag  \n",
       "0                                             Hey :-)       greeting  Welcome  \n",
       "1                          Hello, thanks for visiting       greeting  Welcome  \n",
       "2                    Hi there, what can I do for you?       greeting  Welcome  \n",
       "3                           Hi there, how can I help?       greeting  Welcome  \n",
       "4                   Is there anything I can help you.       greeting  Welcome  \n",
       "..                                                ...            ...      ...  \n",
       "70  Sure, one small chicken pizza and one Pepsi ar...  order - pizza    Order  \n",
       "71  Sure, one large chicken pizza and one Coca are...  order - pizza    Order  \n",
       "72  Sure, one large veg pizza is in your order. Wh...  order - pizza    Order  \n",
       "73  Sure, one chicken pizza is in your order. Wher...  order - pizza    Order  \n",
       "74  Sure, five small vegetarian is in your order. ...  order - pizza    Order  \n",
       "\n",
       "[75 rows x 4 columns]"
      ]
     },
     "execution_count": 2,
     "metadata": {},
     "output_type": "execute_result"
    }
   ],
   "source": [
    "data"
   ]
  },
  {
   "cell_type": "code",
   "execution_count": 3,
   "id": "60432f31",
   "metadata": {},
   "outputs": [],
   "source": [
    "temp = pd.DataFrame()\n",
    "temp['Question'] = data['Answer']\n",
    "temp['tag'] = data['tag']"
   ]
  },
  {
   "cell_type": "code",
   "execution_count": 4,
   "id": "c7fae1a3",
   "metadata": {},
   "outputs": [
    {
     "name": "stderr",
     "output_type": "stream",
     "text": [
      "C:\\Users\\Wu\\AppData\\Local\\Temp/ipykernel_304/2506823793.py:2: FutureWarning: The frame.append method is deprecated and will be removed from pandas in a future version. Use pandas.concat instead.\n",
      "  data = data.append(temp,ignore_index=True)\n"
     ]
    }
   ],
   "source": [
    "data = data.drop([\"Answer\"],axis = 1)\n",
    "data = data.append(temp,ignore_index=True)"
   ]
  },
  {
   "cell_type": "code",
   "execution_count": 5,
   "id": "b4630768",
   "metadata": {},
   "outputs": [],
   "source": [
    "data = data.rename(columns={'Question':'text'})"
   ]
  },
  {
   "cell_type": "code",
   "execution_count": 6,
   "id": "51f0cd3c",
   "metadata": {},
   "outputs": [],
   "source": [
    "import re\n",
    "import nltk\n",
    "def utils_preprocess_text(text, flg_lemm=True,lst_stopwords=None):\n",
    "    ## clean (convert to lowercase and remove punctuations and characters and then strip)\n",
    "    text = re.sub(r'[^\\w\\s]', '', str(text).lower().strip())\n",
    "            \n",
    "    ## Tokenize (convert from string to list)\n",
    "    lst_text = text.split()\n",
    "    ## remove Stopwords\n",
    "    if lst_stopwords is not None:\n",
    "        lst_text = [word for word in lst_text if word not in \n",
    "                    lst_stopwords]\n",
    "                \n",
    "                \n",
    "    ## Lemmatisation (convert the word into root word)\n",
    "    if flg_lemm == True:\n",
    "        lem = nltk.stem.wordnet.WordNetLemmatizer()\n",
    "        lst_text = [lem.lemmatize(word) for word in lst_text]\n",
    "            \n",
    "    ## back to string from list\n",
    "    text = \" \".join(lst_text)\n",
    "    return text"
   ]
  },
  {
   "cell_type": "code",
   "execution_count": 7,
   "id": "20e82d07",
   "metadata": {},
   "outputs": [
    {
     "data": {
      "text/html": [
       "<div>\n",
       "<style scoped>\n",
       "    .dataframe tbody tr th:only-of-type {\n",
       "        vertical-align: middle;\n",
       "    }\n",
       "\n",
       "    .dataframe tbody tr th {\n",
       "        vertical-align: top;\n",
       "    }\n",
       "\n",
       "    .dataframe thead th {\n",
       "        text-align: right;\n",
       "    }\n",
       "</style>\n",
       "<table border=\"1\" class=\"dataframe\">\n",
       "  <thead>\n",
       "    <tr style=\"text-align: right;\">\n",
       "      <th></th>\n",
       "      <th>text</th>\n",
       "      <th>Intent</th>\n",
       "      <th>tag</th>\n",
       "      <th>text_clean</th>\n",
       "    </tr>\n",
       "  </thead>\n",
       "  <tbody>\n",
       "    <tr>\n",
       "      <th>0</th>\n",
       "      <td>Hi</td>\n",
       "      <td>greeting</td>\n",
       "      <td>Welcome</td>\n",
       "      <td>hi</td>\n",
       "    </tr>\n",
       "    <tr>\n",
       "      <th>1</th>\n",
       "      <td>Hey</td>\n",
       "      <td>greeting</td>\n",
       "      <td>Welcome</td>\n",
       "      <td>hey</td>\n",
       "    </tr>\n",
       "    <tr>\n",
       "      <th>2</th>\n",
       "      <td>How are you</td>\n",
       "      <td>greeting</td>\n",
       "      <td>Welcome</td>\n",
       "      <td></td>\n",
       "    </tr>\n",
       "    <tr>\n",
       "      <th>3</th>\n",
       "      <td>Is anyone there?</td>\n",
       "      <td>greeting</td>\n",
       "      <td>Welcome</td>\n",
       "      <td>anyone</td>\n",
       "    </tr>\n",
       "    <tr>\n",
       "      <th>4</th>\n",
       "      <td>Hello</td>\n",
       "      <td>greeting</td>\n",
       "      <td>Welcome</td>\n",
       "      <td>hello</td>\n",
       "    </tr>\n",
       "    <tr>\n",
       "      <th>...</th>\n",
       "      <td>...</td>\n",
       "      <td>...</td>\n",
       "      <td>...</td>\n",
       "      <td>...</td>\n",
       "    </tr>\n",
       "    <tr>\n",
       "      <th>145</th>\n",
       "      <td>Sure, one small chicken pizza and one Pepsi ar...</td>\n",
       "      <td>NaN</td>\n",
       "      <td>Order</td>\n",
       "      <td>sure one small chicken pizza one pepsi order d...</td>\n",
       "    </tr>\n",
       "    <tr>\n",
       "      <th>146</th>\n",
       "      <td>Sure, one large chicken pizza and one Coca are...</td>\n",
       "      <td>NaN</td>\n",
       "      <td>Order</td>\n",
       "      <td>sure one large chicken pizza one coca order de...</td>\n",
       "    </tr>\n",
       "    <tr>\n",
       "      <th>147</th>\n",
       "      <td>Sure, one large veg pizza is in your order. Wh...</td>\n",
       "      <td>NaN</td>\n",
       "      <td>Order</td>\n",
       "      <td>sure one large veg pizza order deliver</td>\n",
       "    </tr>\n",
       "    <tr>\n",
       "      <th>148</th>\n",
       "      <td>Sure, one chicken pizza is in your order. Wher...</td>\n",
       "      <td>NaN</td>\n",
       "      <td>Order</td>\n",
       "      <td>sure one chicken pizza order deliver</td>\n",
       "    </tr>\n",
       "    <tr>\n",
       "      <th>149</th>\n",
       "      <td>Sure, five small vegetarian is in your order. ...</td>\n",
       "      <td>NaN</td>\n",
       "      <td>Order</td>\n",
       "      <td>sure five small vegetarian order deliver</td>\n",
       "    </tr>\n",
       "  </tbody>\n",
       "</table>\n",
       "<p>150 rows × 4 columns</p>\n",
       "</div>"
      ],
      "text/plain": [
       "                                                  text    Intent      tag  \\\n",
       "0                                                   Hi  greeting  Welcome   \n",
       "1                                                  Hey  greeting  Welcome   \n",
       "2                                          How are you  greeting  Welcome   \n",
       "3                                     Is anyone there?  greeting  Welcome   \n",
       "4                                                Hello  greeting  Welcome   \n",
       "..                                                 ...       ...      ...   \n",
       "145  Sure, one small chicken pizza and one Pepsi ar...       NaN    Order   \n",
       "146  Sure, one large chicken pizza and one Coca are...       NaN    Order   \n",
       "147  Sure, one large veg pizza is in your order. Wh...       NaN    Order   \n",
       "148  Sure, one chicken pizza is in your order. Wher...       NaN    Order   \n",
       "149  Sure, five small vegetarian is in your order. ...       NaN    Order   \n",
       "\n",
       "                                            text_clean  \n",
       "0                                                   hi  \n",
       "1                                                  hey  \n",
       "2                                                       \n",
       "3                                               anyone  \n",
       "4                                                hello  \n",
       "..                                                 ...  \n",
       "145  sure one small chicken pizza one pepsi order d...  \n",
       "146  sure one large chicken pizza one coca order de...  \n",
       "147             sure one large veg pizza order deliver  \n",
       "148               sure one chicken pizza order deliver  \n",
       "149           sure five small vegetarian order deliver  \n",
       "\n",
       "[150 rows x 4 columns]"
      ]
     },
     "execution_count": 7,
     "metadata": {},
     "output_type": "execute_result"
    }
   ],
   "source": [
    "lst_stopwords = nltk.corpus.stopwords.words(\"english\")\n",
    "\n",
    "data[\"text_clean\"] = data[\"text\"].apply(lambda x: utils_preprocess_text(x, flg_lemm=True,lst_stopwords = lst_stopwords))\n",
    "data"
   ]
  },
  {
   "cell_type": "code",
   "execution_count": 8,
   "id": "87803f96",
   "metadata": {},
   "outputs": [],
   "source": [
    "from sklearn.feature_extraction.text import CountVectorizer\n",
    "from sklearn.feature_extraction.text import TfidfVectorizer\n",
    "count_vect = CountVectorizer()\n",
    "tfidf_vect = TfidfVectorizer()\n",
    "\n",
    "text_vect = count_vect.fit_transform(data[\"text_clean\"])\n",
    "#text_vect = tfidf_vect.fit_transform(data[\"text_clean\"])"
   ]
  },
  {
   "cell_type": "code",
   "execution_count": 9,
   "id": "38c4f13a",
   "metadata": {},
   "outputs": [],
   "source": [
    "from sklearn.model_selection import train_test_split\n",
    "\n",
    "x_train, x_test, y_train, y_test = train_test_split(text_vect, data[\"tag\"], test_size = 0.3, random_state = 0)"
   ]
  },
  {
   "cell_type": "code",
   "execution_count": 10,
   "id": "428e48a0",
   "metadata": {},
   "outputs": [
    {
     "name": "stdout",
     "output_type": "stream",
     "text": [
      "Training accuracy is 1.00 and test accuracy is 0.93\n"
     ]
    }
   ],
   "source": [
    "# Apply linear SVM model\n",
    "from sklearn.svm import LinearSVC\n",
    "\n",
    "svc = LinearSVC(C=1.5, penalty='l2').fit(x_train, y_train)\n",
    "print('Training accuracy is %.2f and test accuracy is %.2f' %(svc.score(x_train,y_train),svc.score(x_test,y_test)))"
   ]
  },
  {
   "cell_type": "code",
   "execution_count": 11,
   "id": "a98a1c44",
   "metadata": {},
   "outputs": [
    {
     "name": "stdout",
     "output_type": "stream",
     "text": [
      "[[ 6  0  0  0  0  0  0]\n",
      " [ 0  1  0  0  0  0  0]\n",
      " [ 0  0 12  0  0  0  1]\n",
      " [ 0  0  0  4  0  0  0]\n",
      " [ 0  1  0  0  2  1  0]\n",
      " [ 0  0  0  0  0  8  0]\n",
      " [ 0  0  0  0  0  0  9]]\n"
     ]
    }
   ],
   "source": [
    "from sklearn.metrics import confusion_matrix \n",
    "import numpy as np\n",
    "\n",
    "cm_svc = confusion_matrix(y_test, svc.predict(x_test))\n",
    "print(cm_svc)"
   ]
  },
  {
   "cell_type": "code",
   "execution_count": 12,
   "id": "31b00e9c",
   "metadata": {},
   "outputs": [
    {
     "data": {
      "text/plain": [
       "<AxesSubplot:>"
      ]
     },
     "execution_count": 12,
     "metadata": {},
     "output_type": "execute_result"
    },
    {
     "data": {
      "image/png": "[encoded data removed]",
      "text/plain": [
       "<Figure size 432x288 with 2 Axes>"
      ]
     },
     "metadata": {
      "needs_background": "light"
     },
     "output_type": "display_data"
    }
   ],
   "source": [
    "import numpy as np\n",
    "import seaborn as sns\n",
    "sns.heatmap(cm_svc, annot=True, \n",
    "             cmap='Blues')"
   ]
  },
  {
   "cell_type": "code",
   "execution_count": 13,
   "id": "89d2926e",
   "metadata": {},
   "outputs": [
    {
     "name": "stdout",
     "output_type": "stream",
     "text": [
      "                precision    recall  f1-score   support\n",
      "\n",
      "       Booking       1.00      1.00      1.00         6\n",
      "      Delivery       0.50      1.00      0.67         1\n",
      "          Food       1.00      0.92      0.96        13\n",
      "         Order       1.00      1.00      1.00         4\n",
      "       Payment       1.00      0.50      0.67         4\n",
      "Price and Size       0.89      1.00      0.94         8\n",
      "       Welcome       0.90      1.00      0.95         9\n",
      "\n",
      "      accuracy                           0.93        45\n",
      "     macro avg       0.90      0.92      0.88        45\n",
      "  weighted avg       0.95      0.93      0.93        45\n",
      "\n"
     ]
    }
   ],
   "source": [
    "from sklearn import metrics\n",
    "print(metrics.classification_report(y_test, svc.predict(x_test)))"
   ]
  },
  {
   "cell_type": "code",
   "execution_count": 14,
   "id": "5d25054d",
   "metadata": {},
   "outputs": [
    {
     "name": "stdout",
     "output_type": "stream",
     "text": [
      "Training accuracy is 0.69 and test accuracy is 0.69\n"
     ]
    }
   ],
   "source": [
    "# Apply decision tree model\n",
    "from sklearn.tree import DecisionTreeClassifier\n",
    "dt = DecisionTreeClassifier(max_depth=5)  # build the model\n",
    "dt.fit(x_train, y_train)\n",
    "print('Training accuracy is %.2f and test accuracy is %.2f' %(dt.score(x_train, y_train),dt.score(x_test, y_test)))"
   ]
  },
  {
   "cell_type": "code",
   "execution_count": 15,
   "id": "af172608",
   "metadata": {},
   "outputs": [
    {
     "name": "stdout",
     "output_type": "stream",
     "text": [
      "[[ 5  0  0  0  0  0  1]\n",
      " [ 0  0  0  0  0  0  1]\n",
      " [ 0  0 10  0  0  0  3]\n",
      " [ 0  0  1  2  0  0  1]\n",
      " [ 0  0  0  1  2  0  1]\n",
      " [ 0  0  5  0  0  3  0]\n",
      " [ 0  0  0  0  0  0  9]]\n"
     ]
    }
   ],
   "source": [
    "from sklearn.metrics import confusion_matrix \n",
    "import numpy as np\n",
    "\n",
    "cm_dt = confusion_matrix(y_test, dt.predict(x_test))\n",
    "print(cm_dt)"
   ]
  },
  {
   "cell_type": "code",
   "execution_count": 16,
   "id": "c699adcd",
   "metadata": {},
   "outputs": [
    {
     "data": {
      "text/plain": [
       "<AxesSubplot:>"
      ]
     },
     "execution_count": 16,
     "metadata": {},
     "output_type": "execute_result"
    },
    {
     "data": {
      "image/png": "[encoded data removed]",
      "text/plain": [
       "<Figure size 432x288 with 2 Axes>"
      ]
     },
     "metadata": {
      "needs_background": "light"
     },
     "output_type": "display_data"
    }
   ],
   "source": [
    "import numpy as np\n",
    "import seaborn as sns\n",
    "sns.heatmap(cm_dt, annot=True, \n",
    "             cmap='Blues')"
   ]
  },
  {
   "cell_type": "code",
   "execution_count": 17,
   "id": "a17dd059",
   "metadata": {},
   "outputs": [
    {
     "name": "stdout",
     "output_type": "stream",
     "text": [
      "                precision    recall  f1-score   support\n",
      "\n",
      "       Booking       1.00      0.83      0.91         6\n",
      "      Delivery       0.00      0.00      0.00         1\n",
      "          Food       0.62      0.77      0.69        13\n",
      "         Order       0.67      0.50      0.57         4\n",
      "       Payment       1.00      0.50      0.67         4\n",
      "Price and Size       1.00      0.38      0.55         8\n",
      "       Welcome       0.56      1.00      0.72         9\n",
      "\n",
      "      accuracy                           0.69        45\n",
      "     macro avg       0.69      0.57      0.59        45\n",
      "  weighted avg       0.75      0.69      0.67        45\n",
      "\n"
     ]
    },
    {
     "name": "stderr",
     "output_type": "stream",
     "text": [
      "C:\\Users\\Wu\\anaconda3\\lib\\site-packages\\sklearn\\metrics\\_classification.py:1245: UndefinedMetricWarning: Precision and F-score are ill-defined and being set to 0.0 in labels with no predicted samples. Use `zero_division` parameter to control this behavior.\n",
      "  _warn_prf(average, modifier, msg_start, len(result))\n",
      "C:\\Users\\Wu\\anaconda3\\lib\\site-packages\\sklearn\\metrics\\_classification.py:1245: UndefinedMetricWarning: Precision and F-score are ill-defined and being set to 0.0 in labels with no predicted samples. Use `zero_division` parameter to control this behavior.\n",
      "  _warn_prf(average, modifier, msg_start, len(result))\n",
      "C:\\Users\\Wu\\anaconda3\\lib\\site-packages\\sklearn\\metrics\\_classification.py:1245: UndefinedMetricWarning: Precision and F-score are ill-defined and being set to 0.0 in labels with no predicted samples. Use `zero_division` parameter to control this behavior.\n",
      "  _warn_prf(average, modifier, msg_start, len(result))\n"
     ]
    }
   ],
   "source": [
    "from sklearn import metrics\n",
    "print(metrics.classification_report(y_test, dt.predict(x_test)))"
   ]
  },
  {
   "cell_type": "code",
   "execution_count": 18,
   "id": "830a8bcf",
   "metadata": {},
   "outputs": [
    {
     "name": "stdout",
     "output_type": "stream",
     "text": [
      "Training accuracy is 1.00 and test accuracy is 0.89\n"
     ]
    }
   ],
   "source": [
    "# Apply GradientBoosting model\n",
    "from sklearn.ensemble import GradientBoostingClassifier\n",
    "gbrt = GradientBoostingClassifier(random_state=0)\n",
    "gbrt.fit(x_train, y_train)\n",
    "print('Training accuracy is %.2f and test accuracy is %.2f' %(gbrt.score(x_train, y_train),gbrt.score(x_test, y_test)))"
   ]
  },
  {
   "cell_type": "code",
   "execution_count": 19,
   "id": "939f7228",
   "metadata": {},
   "outputs": [
    {
     "name": "stdout",
     "output_type": "stream",
     "text": [
      "[[ 5  0  0  0  0  0  1]\n",
      " [ 0  1  0  0  0  0  0]\n",
      " [ 0  0 11  0  0  0  2]\n",
      " [ 0  0  0  4  0  0  0]\n",
      " [ 0  1  0  0  2  0  1]\n",
      " [ 0  0  0  0  0  8  0]\n",
      " [ 0  0  0  0  0  0  9]]\n"
     ]
    }
   ],
   "source": [
    "cm_gbrt = confusion_matrix(y_test, gbrt.predict(x_test))\n",
    "print(cm_gbrt)"
   ]
  },
  {
   "cell_type": "code",
   "execution_count": 20,
   "id": "149942f4",
   "metadata": {},
   "outputs": [
    {
     "data": {
      "text/plain": [
       "<AxesSubplot:>"
      ]
     },
     "execution_count": 20,
     "metadata": {},
     "output_type": "execute_result"
    },
    {
     "data": {
      "image/png": "[encoded data removed]",
      "text/plain": [
       "<Figure size 432x288 with 2 Axes>"
      ]
     },
     "metadata": {
      "needs_background": "light"
     },
     "output_type": "display_data"
    }
   ],
   "source": [
    "sns.heatmap(cm_gbrt, annot=True, \n",
    "             cmap='Blues')"
   ]
  },
  {
   "cell_type": "code",
   "execution_count": 21,
   "id": "0691b62e",
   "metadata": {},
   "outputs": [
    {
     "name": "stdout",
     "output_type": "stream",
     "text": [
      "                precision    recall  f1-score   support\n",
      "\n",
      "       Booking       1.00      0.83      0.91         6\n",
      "      Delivery       0.50      1.00      0.67         1\n",
      "          Food       1.00      0.85      0.92        13\n",
      "         Order       1.00      1.00      1.00         4\n",
      "       Payment       1.00      0.50      0.67         4\n",
      "Price and Size       1.00      1.00      1.00         8\n",
      "       Welcome       0.69      1.00      0.82         9\n",
      "\n",
      "      accuracy                           0.89        45\n",
      "     macro avg       0.88      0.88      0.85        45\n",
      "  weighted avg       0.93      0.89      0.89        45\n",
      "\n"
     ]
    }
   ],
   "source": [
    "print(metrics.classification_report(y_test, gbrt.predict(x_test)))"
   ]
  },
  {
   "cell_type": "code",
   "execution_count": 22,
   "id": "007c7d0b",
   "metadata": {},
   "outputs": [
    {
     "name": "stdout",
     "output_type": "stream",
     "text": [
      "Training accuracy is 1.00 and test accuracy is 0.87\n"
     ]
    }
   ],
   "source": [
    "# Apply KNN model\n",
    "from sklearn.neighbors import KNeighborsClassifier\n",
    "\n",
    "KNN = KNeighborsClassifier(n_neighbors=1)\n",
    "KNN.fit(x_train, y_train)\n",
    "print('Training accuracy is %.2f and test accuracy is %.2f' %(KNN.score(x_train, y_train),KNN.score(x_test, y_test)))"
   ]
  },
  {
   "cell_type": "code",
   "execution_count": 23,
   "id": "eac41357",
   "metadata": {},
   "outputs": [
    {
     "name": "stdout",
     "output_type": "stream",
     "text": [
      "[[ 6  0  0  0  0  0  0]\n",
      " [ 0  1  0  0  0  0  0]\n",
      " [ 0  0 11  0  0  2  0]\n",
      " [ 0  0  0  3  0  1  0]\n",
      " [ 0  1  0  0  3  0  0]\n",
      " [ 0  0  0  0  0  8  0]\n",
      " [ 0  0  2  0  0  0  7]]\n"
     ]
    }
   ],
   "source": [
    "cm_KNN = confusion_matrix(y_test, KNN.predict(x_test))\n",
    "print(cm_KNN)"
   ]
  },
  {
   "cell_type": "code",
   "execution_count": 24,
   "id": "801c0b31",
   "metadata": {},
   "outputs": [
    {
     "data": {
      "text/plain": [
       "<AxesSubplot:>"
      ]
     },
     "execution_count": 24,
     "metadata": {},
     "output_type": "execute_result"
    },
    {
     "data": {
      "image/png": "[encoded data removed]",
      "text/plain": [
       "<Figure size 432x288 with 2 Axes>"
      ]
     },
     "metadata": {
      "needs_background": "light"
     },
     "output_type": "display_data"
    }
   ],
   "source": [
    "sns.heatmap(cm_KNN, annot=True, \n",
    "             cmap='Blues')"
   ]
  },
  {
   "cell_type": "code",
   "execution_count": 25,
   "id": "6f109879",
   "metadata": {
    "scrolled": true
   },
   "outputs": [
    {
     "name": "stdout",
     "output_type": "stream",
     "text": [
      "                precision    recall  f1-score   support\n",
      "\n",
      "       Booking       1.00      1.00      1.00         6\n",
      "      Delivery       0.50      1.00      0.67         1\n",
      "          Food       0.85      0.85      0.85        13\n",
      "         Order       1.00      0.75      0.86         4\n",
      "       Payment       1.00      0.75      0.86         4\n",
      "Price and Size       0.73      1.00      0.84         8\n",
      "       Welcome       1.00      0.78      0.88         9\n",
      "\n",
      "      accuracy                           0.87        45\n",
      "     macro avg       0.87      0.87      0.85        45\n",
      "  weighted avg       0.90      0.87      0.87        45\n",
      "\n"
     ]
    }
   ],
   "source": [
    "print(metrics.classification_report(y_test, KNN.predict(x_test)))"
   ]
  },
  {
   "cell_type": "code",
   "execution_count": 26,
   "id": "3885de9f",
   "metadata": {},
   "outputs": [
    {
     "data": {
      "text/html": [
       "<div>\n",
       "<style scoped>\n",
       "    .dataframe tbody tr th:only-of-type {\n",
       "        vertical-align: middle;\n",
       "    }\n",
       "\n",
       "    .dataframe tbody tr th {\n",
       "        vertical-align: top;\n",
       "    }\n",
       "\n",
       "    .dataframe thead th {\n",
       "        text-align: right;\n",
       "    }\n",
       "</style>\n",
       "<table border=\"1\" class=\"dataframe\">\n",
       "  <thead>\n",
       "    <tr style=\"text-align: right;\">\n",
       "      <th></th>\n",
       "      <th>text</th>\n",
       "      <th>Intent</th>\n",
       "      <th>tag</th>\n",
       "      <th>text_clean</th>\n",
       "    </tr>\n",
       "  </thead>\n",
       "  <tbody>\n",
       "    <tr>\n",
       "      <th>0</th>\n",
       "      <td>Hi</td>\n",
       "      <td>greeting</td>\n",
       "      <td>Welcome</td>\n",
       "      <td>hi</td>\n",
       "    </tr>\n",
       "    <tr>\n",
       "      <th>1</th>\n",
       "      <td>Hey</td>\n",
       "      <td>greeting</td>\n",
       "      <td>Welcome</td>\n",
       "      <td>hey</td>\n",
       "    </tr>\n",
       "    <tr>\n",
       "      <th>2</th>\n",
       "      <td>How are you</td>\n",
       "      <td>greeting</td>\n",
       "      <td>Welcome</td>\n",
       "      <td></td>\n",
       "    </tr>\n",
       "    <tr>\n",
       "      <th>3</th>\n",
       "      <td>Is anyone there?</td>\n",
       "      <td>greeting</td>\n",
       "      <td>Welcome</td>\n",
       "      <td>anyone</td>\n",
       "    </tr>\n",
       "    <tr>\n",
       "      <th>4</th>\n",
       "      <td>Hello</td>\n",
       "      <td>greeting</td>\n",
       "      <td>Welcome</td>\n",
       "      <td>hello</td>\n",
       "    </tr>\n",
       "    <tr>\n",
       "      <th>...</th>\n",
       "      <td>...</td>\n",
       "      <td>...</td>\n",
       "      <td>...</td>\n",
       "      <td>...</td>\n",
       "    </tr>\n",
       "    <tr>\n",
       "      <th>145</th>\n",
       "      <td>Sure, one small chicken pizza and one Pepsi ar...</td>\n",
       "      <td>NaN</td>\n",
       "      <td>Order</td>\n",
       "      <td>sure one small chicken pizza one pepsi order d...</td>\n",
       "    </tr>\n",
       "    <tr>\n",
       "      <th>146</th>\n",
       "      <td>Sure, one large chicken pizza and one Coca are...</td>\n",
       "      <td>NaN</td>\n",
       "      <td>Order</td>\n",
       "      <td>sure one large chicken pizza one coca order de...</td>\n",
       "    </tr>\n",
       "    <tr>\n",
       "      <th>147</th>\n",
       "      <td>Sure, one large veg pizza is in your order. Wh...</td>\n",
       "      <td>NaN</td>\n",
       "      <td>Order</td>\n",
       "      <td>sure one large veg pizza order deliver</td>\n",
       "    </tr>\n",
       "    <tr>\n",
       "      <th>148</th>\n",
       "      <td>Sure, one chicken pizza is in your order. Wher...</td>\n",
       "      <td>NaN</td>\n",
       "      <td>Order</td>\n",
       "      <td>sure one chicken pizza order deliver</td>\n",
       "    </tr>\n",
       "    <tr>\n",
       "      <th>149</th>\n",
       "      <td>Sure, five small vegetarian is in your order. ...</td>\n",
       "      <td>NaN</td>\n",
       "      <td>Order</td>\n",
       "      <td>sure five small vegetarian order deliver</td>\n",
       "    </tr>\n",
       "  </tbody>\n",
       "</table>\n",
       "<p>150 rows × 4 columns</p>\n",
       "</div>"
      ],
      "text/plain": [
       "                                                  text    Intent      tag  \\\n",
       "0                                                   Hi  greeting  Welcome   \n",
       "1                                                  Hey  greeting  Welcome   \n",
       "2                                          How are you  greeting  Welcome   \n",
       "3                                     Is anyone there?  greeting  Welcome   \n",
       "4                                                Hello  greeting  Welcome   \n",
       "..                                                 ...       ...      ...   \n",
       "145  Sure, one small chicken pizza and one Pepsi ar...       NaN    Order   \n",
       "146  Sure, one large chicken pizza and one Coca are...       NaN    Order   \n",
       "147  Sure, one large veg pizza is in your order. Wh...       NaN    Order   \n",
       "148  Sure, one chicken pizza is in your order. Wher...       NaN    Order   \n",
       "149  Sure, five small vegetarian is in your order. ...       NaN    Order   \n",
       "\n",
       "                                            text_clean  \n",
       "0                                                   hi  \n",
       "1                                                  hey  \n",
       "2                                                       \n",
       "3                                               anyone  \n",
       "4                                                hello  \n",
       "..                                                 ...  \n",
       "145  sure one small chicken pizza one pepsi order d...  \n",
       "146  sure one large chicken pizza one coca order de...  \n",
       "147             sure one large veg pizza order deliver  \n",
       "148               sure one chicken pizza order deliver  \n",
       "149           sure five small vegetarian order deliver  \n",
       "\n",
       "[150 rows x 4 columns]"
      ]
     },
     "execution_count": 26,
     "metadata": {},
     "output_type": "execute_result"
    }
   ],
   "source": [
    "data"
   ]
  },
  {
   "cell_type": "code",
   "execution_count": 27,
   "id": "7e2d5791",
   "metadata": {},
   "outputs": [],
   "source": [
    "# Deep learning models\n",
    "\n",
    "Y = pd.get_dummies(data[\"tag\"]).values"
   ]
  },
  {
   "cell_type": "code",
   "execution_count": 28,
   "id": "19439793",
   "metadata": {},
   "outputs": [],
   "source": [
    "from tensorflow.keras.preprocessing.text import Tokenizer\n",
    "from tensorflow.keras.preprocessing.sequence import pad_sequences\n",
    "\n",
    "sentence = data.text_clean.values\n",
    "tokenizer = Tokenizer(num_words=5000)\n",
    "tokenizer.fit_on_texts(sentence)\n",
    "vocab_size = len(tokenizer.word_index) + 1\n",
    "encoded_docs = tokenizer.texts_to_sequences(sentence)\n",
    "padded_sequence = pad_sequences(encoded_docs, maxlen = 200)"
   ]
  },
  {
   "cell_type": "code",
   "execution_count": 29,
   "id": "fb2d9284",
   "metadata": {},
   "outputs": [],
   "source": [
    "x_train, x_test, y_train, y_test = train_test_split(padded_sequence,Y, test_size = 0.3, random_state = 0)"
   ]
  },
  {
   "cell_type": "code",
   "execution_count": 32,
   "id": "e1228223",
   "metadata": {},
   "outputs": [
    {
     "name": "stdout",
     "output_type": "stream",
     "text": [
      "Model: \"sequential_1\"\n",
      "_________________________________________________________________\n",
      " Layer (type)                Output Shape              Param #   \n",
      "=================================================================\n",
      " embedding_1 (Embedding)     (None, 200, 32)           4864      \n",
      "                                                                 \n",
      " spatial_dropout1d_1 (Spatia  (None, 200, 32)          0         \n",
      " lDropout1D)                                                     \n",
      "                                                                 \n",
      " lstm_1 (LSTM)               (None, 50)                16600     \n",
      "                                                                 \n",
      " dropout_1 (Dropout)         (None, 50)                0         \n",
      "                                                                 \n",
      " dense_1 (Dense)             (None, 7)                 357       \n",
      "                                                                 \n",
      "=================================================================\n",
      "Total params: 21,821\n",
      "Trainable params: 21,821\n",
      "Non-trainable params: 0\n",
      "_________________________________________________________________\n",
      "None\n"
     ]
    }
   ],
   "source": [
    "from tensorflow.keras.models import Sequential\n",
    "from tensorflow.keras.layers import LSTM, Dense, Dropout\n",
    "from tensorflow.keras.layers import SpatialDropout1D\n",
    "from tensorflow.keras.layers import Embedding\n",
    "\n",
    "# LSTM model\n",
    "embedding_vector_length = 32\n",
    "model1 = Sequential()\n",
    "model1.add(Embedding(vocab_size, embedding_vector_length,  input_length=200) )  \n",
    "                                    # input_length=padded_sequence.shape[1]) )\n",
    "model1.add(SpatialDropout1D(0.25))\n",
    "#model1.add(LSTM(50, return_sequences = True, dropout=0.5, recurrent_dropout=0.5))\n",
    "model1.add(LSTM(50, dropout=0.5, recurrent_dropout=0.5))\n",
    "model1.add(Dropout(0.2))\n",
    "model1.add(Dense(7, activation='softmax'))\n",
    "model1.compile(loss='categorical_crossentropy',optimizer='adam',metrics=['accuracy'])\n",
    "print(model1.summary())"
   ]
  },
  {
   "cell_type": "code",
   "execution_count": 33,
   "id": "b5e70f0a",
   "metadata": {},
   "outputs": [
    {
     "name": "stdout",
     "output_type": "stream",
     "text": [
      "Epoch 1/40\n",
      "105/105 [==============================] - 12s 91ms/step - loss: 1.9063 - accuracy: 0.2095 - val_loss: 1.8322 - val_accuracy: 0.2889\n",
      "Epoch 2/40\n",
      "105/105 [==============================] - 9s 91ms/step - loss: 1.7917 - accuracy: 0.2952 - val_loss: 1.7856 - val_accuracy: 0.2889\n",
      "Epoch 3/40\n",
      "105/105 [==============================] - 9s 82ms/step - loss: 1.6888 - accuracy: 0.3524 - val_loss: 1.6596 - val_accuracy: 0.3111\n",
      "Epoch 4/40\n",
      "105/105 [==============================] - 9s 81ms/step - loss: 1.5457 - accuracy: 0.5048 - val_loss: 1.5149 - val_accuracy: 0.4889\n",
      "Epoch 5/40\n",
      "105/105 [==============================] - 9s 81ms/step - loss: 1.2644 - accuracy: 0.6095 - val_loss: 1.2903 - val_accuracy: 0.5333\n",
      "Epoch 6/40\n",
      "105/105 [==============================] - 8s 81ms/step - loss: 0.9951 - accuracy: 0.6952 - val_loss: 1.0496 - val_accuracy: 0.7111\n",
      "Epoch 7/40\n",
      "105/105 [==============================] - 8s 78ms/step - loss: 0.8380 - accuracy: 0.7048 - val_loss: 0.9075 - val_accuracy: 0.7333\n",
      "Epoch 8/40\n",
      "105/105 [==============================] - 8s 78ms/step - loss: 0.6580 - accuracy: 0.7905 - val_loss: 0.7012 - val_accuracy: 0.8222\n",
      "Epoch 9/40\n",
      "105/105 [==============================] - 8s 78ms/step - loss: 0.5588 - accuracy: 0.8190 - val_loss: 0.6437 - val_accuracy: 0.7778\n",
      "Epoch 10/40\n",
      "105/105 [==============================] - 8s 76ms/step - loss: 0.4002 - accuracy: 0.9048 - val_loss: 0.4767 - val_accuracy: 0.9111\n",
      "Epoch 11/40\n",
      "105/105 [==============================] - 7s 71ms/step - loss: 0.3397 - accuracy: 0.9143 - val_loss: 0.4467 - val_accuracy: 0.8667\n",
      "Epoch 12/40\n",
      "105/105 [==============================] - 8s 77ms/step - loss: 0.3263 - accuracy: 0.8952 - val_loss: 0.3698 - val_accuracy: 0.9333\n",
      "Epoch 13/40\n",
      "105/105 [==============================] - 8s 78ms/step - loss: 0.2301 - accuracy: 0.9333 - val_loss: 0.3064 - val_accuracy: 0.9778\n",
      "Epoch 14/40\n",
      "105/105 [==============================] - 9s 83ms/step - loss: 0.2060 - accuracy: 0.9714 - val_loss: 0.2481 - val_accuracy: 0.9778\n",
      "Epoch 15/40\n",
      "105/105 [==============================] - 9s 84ms/step - loss: 0.1501 - accuracy: 0.9810 - val_loss: 0.2410 - val_accuracy: 0.9333\n",
      "Epoch 16/40\n",
      "105/105 [==============================] - 8s 81ms/step - loss: 0.2158 - accuracy: 0.9143 - val_loss: 0.2683 - val_accuracy: 0.9778\n",
      "Epoch 17/40\n",
      "105/105 [==============================] - 9s 84ms/step - loss: 0.1835 - accuracy: 0.9810 - val_loss: 0.2183 - val_accuracy: 0.9778\n",
      "Epoch 18/40\n",
      "105/105 [==============================] - 9s 85ms/step - loss: 0.1265 - accuracy: 0.9619 - val_loss: 0.2010 - val_accuracy: 0.9778\n",
      "Epoch 19/40\n",
      "105/105 [==============================] - 9s 85ms/step - loss: 0.1091 - accuracy: 0.9905 - val_loss: 0.1861 - val_accuracy: 0.9556\n",
      "Epoch 20/40\n",
      "105/105 [==============================] - 9s 83ms/step - loss: 0.0936 - accuracy: 0.9714 - val_loss: 0.1971 - val_accuracy: 0.9556\n",
      "Epoch 21/40\n",
      "105/105 [==============================] - 9s 82ms/step - loss: 0.0934 - accuracy: 0.9810 - val_loss: 0.1901 - val_accuracy: 0.9556\n",
      "Epoch 22/40\n",
      "105/105 [==============================] - 9s 83ms/step - loss: 0.0829 - accuracy: 0.9905 - val_loss: 0.1546 - val_accuracy: 0.9778\n",
      "Epoch 23/40\n",
      "105/105 [==============================] - 9s 82ms/step - loss: 0.0478 - accuracy: 1.0000 - val_loss: 0.1596 - val_accuracy: 0.9778\n",
      "Epoch 24/40\n",
      "105/105 [==============================] - 9s 85ms/step - loss: 0.0648 - accuracy: 0.9810 - val_loss: 0.2051 - val_accuracy: 0.9556\n",
      "Epoch 25/40\n",
      "105/105 [==============================] - 9s 82ms/step - loss: 0.0657 - accuracy: 0.9905 - val_loss: 0.1661 - val_accuracy: 0.9556\n",
      "Epoch 26/40\n",
      "105/105 [==============================] - 9s 82ms/step - loss: 0.0503 - accuracy: 1.0000 - val_loss: 0.1977 - val_accuracy: 0.9333\n",
      "Epoch 27/40\n",
      "105/105 [==============================] - 9s 81ms/step - loss: 0.0636 - accuracy: 0.9714 - val_loss: 0.1656 - val_accuracy: 0.9556\n",
      "Epoch 28/40\n",
      "105/105 [==============================] - 9s 84ms/step - loss: 0.0365 - accuracy: 1.0000 - val_loss: 0.2462 - val_accuracy: 0.9333\n",
      "Epoch 29/40\n",
      "105/105 [==============================] - 9s 85ms/step - loss: 0.0473 - accuracy: 0.9905 - val_loss: 0.2359 - val_accuracy: 0.9333\n",
      "Epoch 30/40\n",
      "105/105 [==============================] - 9s 86ms/step - loss: 0.0477 - accuracy: 0.9905 - val_loss: 0.2324 - val_accuracy: 0.9111\n",
      "Epoch 31/40\n",
      "105/105 [==============================] - 9s 84ms/step - loss: 0.0539 - accuracy: 0.9810 - val_loss: 0.2221 - val_accuracy: 0.9556\n",
      "Epoch 32/40\n",
      "105/105 [==============================] - 9s 82ms/step - loss: 0.0177 - accuracy: 1.0000 - val_loss: 0.2144 - val_accuracy: 0.9333\n",
      "Epoch 33/40\n",
      "105/105 [==============================] - 9s 84ms/step - loss: 0.0274 - accuracy: 0.9905 - val_loss: 0.2158 - val_accuracy: 0.9333\n",
      "Epoch 34/40\n",
      "105/105 [==============================] - 9s 83ms/step - loss: 0.0274 - accuracy: 1.0000 - val_loss: 0.2517 - val_accuracy: 0.9333\n",
      "Epoch 35/40\n",
      "105/105 [==============================] - 9s 83ms/step - loss: 0.0267 - accuracy: 0.9905 - val_loss: 0.2397 - val_accuracy: 0.9333\n",
      "Epoch 36/40\n",
      "105/105 [==============================] - 9s 82ms/step - loss: 0.0457 - accuracy: 0.9905 - val_loss: 0.2226 - val_accuracy: 0.9333\n",
      "Epoch 37/40\n",
      "105/105 [==============================] - 9s 84ms/step - loss: 0.0221 - accuracy: 1.0000 - val_loss: 0.2003 - val_accuracy: 0.9556\n",
      "Epoch 38/40\n",
      "105/105 [==============================] - 9s 84ms/step - loss: 0.0295 - accuracy: 0.9905 - val_loss: 0.2099 - val_accuracy: 0.9556\n",
      "Epoch 39/40\n",
      "105/105 [==============================] - 9s 83ms/step - loss: 0.0215 - accuracy: 1.0000 - val_loss: 0.2384 - val_accuracy: 0.9111\n",
      "Epoch 40/40\n",
      "105/105 [==============================] - 9s 85ms/step - loss: 0.0467 - accuracy: 0.9905 - val_loss: 0.1789 - val_accuracy: 0.9556\n"
     ]
    },
    {
     "data": {
      "text/plain": [
       "<keras.callbacks.History at 0x28d5f8e3d90>"
      ]
     },
     "execution_count": 33,
     "metadata": {},
     "output_type": "execute_result"
    }
   ],
   "source": [
    "model1.fit(x_train, y_train, validation_data=(x_test, y_test), epochs=40, batch_size=1) "
   ]
  },
  {
   "cell_type": "code",
   "execution_count": 34,
   "id": "96faa10e",
   "metadata": {},
   "outputs": [
    {
     "data": {
      "text/plain": [
       "array([[ 6,  0,  0,  0,  0,  0,  0],\n",
       "       [ 0,  1,  0,  0,  0,  0,  0],\n",
       "       [ 0,  0, 13,  0,  0,  0,  0],\n",
       "       [ 0,  0,  0,  4,  0,  0,  0],\n",
       "       [ 1,  0,  0,  0,  3,  0,  0],\n",
       "       [ 0,  0,  0,  0,  0,  8,  0],\n",
       "       [ 1,  1,  0,  0,  0,  0,  7]], dtype=int64)"
      ]
     },
     "execution_count": 34,
     "metadata": {},
     "output_type": "execute_result"
    }
   ],
   "source": [
    "y_pred = model1.predict(x_test).round()\n",
    "\n",
    "cm_LSTM = confusion_matrix(y_test.argmax(axis=1), y_pred.argmax(axis=1))\n",
    "cm_LSTM"
   ]
  },
  {
   "cell_type": "code",
   "execution_count": 35,
   "id": "18e9bcc4",
   "metadata": {},
   "outputs": [
    {
     "data": {
      "text/plain": [
       "<AxesSubplot:>"
      ]
     },
     "execution_count": 35,
     "metadata": {},
     "output_type": "execute_result"
    },
    {
     "data": {
      "image/png": "[encoded data removed]",
      "text/plain": [
       "<Figure size 432x288 with 2 Axes>"
      ]
     },
     "metadata": {
      "needs_background": "light"
     },
     "output_type": "display_data"
    }
   ],
   "source": [
    "sns.heatmap(cm_LSTM, annot=True, \n",
    "            cmap='Blues')"
   ]
  },
  {
   "cell_type": "code",
   "execution_count": 36,
   "id": "873ebcc7",
   "metadata": {},
   "outputs": [
    {
     "name": "stdout",
     "output_type": "stream",
     "text": [
      "              precision    recall  f1-score   support\n",
      "\n",
      "           0       0.75      1.00      0.86         6\n",
      "           1       0.50      1.00      0.67         1\n",
      "           2       1.00      1.00      1.00        13\n",
      "           3       1.00      1.00      1.00         4\n",
      "           4       1.00      0.75      0.86         4\n",
      "           5       1.00      1.00      1.00         8\n",
      "           6       1.00      0.78      0.88         9\n",
      "\n",
      "    accuracy                           0.93        45\n",
      "   macro avg       0.89      0.93      0.89        45\n",
      "weighted avg       0.96      0.93      0.94        45\n",
      "\n"
     ]
    }
   ],
   "source": [
    "print(metrics.classification_report(y_test.argmax(axis=1),y_pred.argmax(axis=1)))"
   ]
  },
  {
   "cell_type": "code",
   "execution_count": null,
   "id": "4b95bf4a",
   "metadata": {},
   "outputs": [],
   "source": [
    "\n",
    "print(metrics.classification_report(y_test.argmax(axis=1),y_pred.argmax(axis=1)))"
   ]
  },
  {
   "cell_type": "code",
   "execution_count": null,
   "id": "d7e1f5ee",
   "metadata": {},
   "outputs": [],
   "source": []
  },
  {
   "cell_type": "code",
   "execution_count": 37,
   "id": "36116b39",
   "metadata": {},
   "outputs": [],
   "source": [
    "# Bidrectional LSTM\n",
    "from tensorflow.keras.layers import Bidirectional\n",
    "\n",
    "embedding_vector_length = 32\n",
    "model2 = Sequential()\n",
    "model2.add(Embedding(vocab_size, embedding_vector_length,     \n",
    "                                     input_length=200) )\n",
    "model2.add(SpatialDropout1D(0.25))\n",
    "model2.add(Bidirectional(LSTM(50, dropout=0.5, recurrent_dropout=0.5)))\n",
    "model2.add(Dropout(0.2))\n",
    "model2.add(Dense(7, activation='softmax'))\n",
    "model2.compile(loss='categorical_crossentropy',optimizer='adam',metrics=['accuracy'])"
   ]
  },
  {
   "cell_type": "code",
   "execution_count": 38,
   "id": "edb591c9",
   "metadata": {},
   "outputs": [
    {
     "name": "stdout",
     "output_type": "stream",
     "text": [
      "Epoch 1/30\n",
      "105/105 [==============================] - 20s 156ms/step - loss: 1.9075 - accuracy: 0.2571 - val_loss: 1.8323 - val_accuracy: 0.2889\n",
      "Epoch 2/30\n",
      "105/105 [==============================] - 16s 154ms/step - loss: 1.7789 - accuracy: 0.2952 - val_loss: 1.7964 - val_accuracy: 0.2889\n",
      "Epoch 3/30\n",
      "105/105 [==============================] - 16s 150ms/step - loss: 1.7160 - accuracy: 0.2857 - val_loss: 1.6969 - val_accuracy: 0.3556\n",
      "Epoch 4/30\n",
      "105/105 [==============================] - 16s 151ms/step - loss: 1.5241 - accuracy: 0.4857 - val_loss: 1.5087 - val_accuracy: 0.3778\n",
      "Epoch 5/30\n",
      "105/105 [==============================] - 16s 152ms/step - loss: 1.3069 - accuracy: 0.5429 - val_loss: 1.3007 - val_accuracy: 0.5556\n",
      "Epoch 6/30\n",
      "105/105 [==============================] - 16s 148ms/step - loss: 0.9981 - accuracy: 0.7048 - val_loss: 1.0743 - val_accuracy: 0.6889\n",
      "Epoch 7/30\n",
      "105/105 [==============================] - 16s 148ms/step - loss: 0.8622 - accuracy: 0.6762 - val_loss: 0.9007 - val_accuracy: 0.7556\n",
      "Epoch 8/30\n",
      "105/105 [==============================] - 16s 148ms/step - loss: 0.7119 - accuracy: 0.8000 - val_loss: 0.6754 - val_accuracy: 0.8000\n",
      "Epoch 9/30\n",
      "105/105 [==============================] - 16s 150ms/step - loss: 0.5384 - accuracy: 0.8667 - val_loss: 0.5742 - val_accuracy: 0.8667\n",
      "Epoch 10/30\n",
      "105/105 [==============================] - 16s 149ms/step - loss: 0.4386 - accuracy: 0.8857 - val_loss: 0.4802 - val_accuracy: 0.8667\n",
      "Epoch 11/30\n",
      "105/105 [==============================] - 15s 148ms/step - loss: 0.3909 - accuracy: 0.8762 - val_loss: 0.3971 - val_accuracy: 0.9333\n",
      "Epoch 12/30\n",
      "105/105 [==============================] - 16s 151ms/step - loss: 0.3624 - accuracy: 0.9048 - val_loss: 0.3933 - val_accuracy: 0.9333\n",
      "Epoch 13/30\n",
      "105/105 [==============================] - 16s 150ms/step - loss: 0.2975 - accuracy: 0.9238 - val_loss: 0.3552 - val_accuracy: 0.9333\n",
      "Epoch 14/30\n",
      "105/105 [==============================] - 16s 149ms/step - loss: 0.2261 - accuracy: 0.9714 - val_loss: 0.3311 - val_accuracy: 0.9111\n",
      "Epoch 15/30\n",
      "105/105 [==============================] - 16s 149ms/step - loss: 0.1979 - accuracy: 0.9714 - val_loss: 0.2965 - val_accuracy: 0.9333\n",
      "Epoch 16/30\n",
      "105/105 [==============================] - 15s 148ms/step - loss: 0.1942 - accuracy: 0.9619 - val_loss: 0.2736 - val_accuracy: 0.9556\n",
      "Epoch 17/30\n",
      "105/105 [==============================] - 15s 148ms/step - loss: 0.1445 - accuracy: 0.9714 - val_loss: 0.2587 - val_accuracy: 0.9333\n",
      "Epoch 18/30\n",
      "105/105 [==============================] - 16s 149ms/step - loss: 0.1736 - accuracy: 0.9524 - val_loss: 0.2457 - val_accuracy: 0.9333\n",
      "Epoch 19/30\n",
      "105/105 [==============================] - 16s 151ms/step - loss: 0.1088 - accuracy: 0.9810 - val_loss: 0.2308 - val_accuracy: 0.9333\n",
      "Epoch 20/30\n",
      "105/105 [==============================] - 16s 150ms/step - loss: 0.1360 - accuracy: 0.9810 - val_loss: 0.2489 - val_accuracy: 0.9333\n",
      "Epoch 21/30\n",
      "105/105 [==============================] - 16s 149ms/step - loss: 0.1359 - accuracy: 0.9619 - val_loss: 0.2615 - val_accuracy: 0.9556\n",
      "Epoch 22/30\n",
      "105/105 [==============================] - 16s 148ms/step - loss: 0.0747 - accuracy: 0.9905 - val_loss: 0.2102 - val_accuracy: 0.9556\n",
      "Epoch 23/30\n",
      "105/105 [==============================] - 15s 147ms/step - loss: 0.0828 - accuracy: 1.0000 - val_loss: 0.2717 - val_accuracy: 0.9111\n",
      "Epoch 24/30\n",
      "105/105 [==============================] - 16s 153ms/step - loss: 0.0687 - accuracy: 0.9905 - val_loss: 0.2578 - val_accuracy: 0.9111\n",
      "Epoch 25/30\n",
      "105/105 [==============================] - 16s 148ms/step - loss: 0.1000 - accuracy: 0.9810 - val_loss: 0.1911 - val_accuracy: 0.9556\n",
      "Epoch 26/30\n",
      "105/105 [==============================] - 16s 151ms/step - loss: 0.0789 - accuracy: 0.9905 - val_loss: 0.2369 - val_accuracy: 0.9333\n",
      "Epoch 27/30\n",
      "105/105 [==============================] - 16s 154ms/step - loss: 0.0580 - accuracy: 0.9905 - val_loss: 0.2404 - val_accuracy: 0.9333\n",
      "Epoch 28/30\n",
      "105/105 [==============================] - 16s 150ms/step - loss: 0.0550 - accuracy: 0.9810 - val_loss: 0.1645 - val_accuracy: 0.9556\n",
      "Epoch 29/30\n",
      "105/105 [==============================] - 16s 149ms/step - loss: 0.0406 - accuracy: 0.9905 - val_loss: 0.2242 - val_accuracy: 0.9556\n",
      "Epoch 30/30\n",
      "105/105 [==============================] - 16s 148ms/step - loss: 0.0659 - accuracy: 0.9905 - val_loss: 0.2177 - val_accuracy: 0.9556\n"
     ]
    },
    {
     "data": {
      "text/plain": [
       "<keras.callbacks.History at 0x28d583ec4c0>"
      ]
     },
     "execution_count": 38,
     "metadata": {},
     "output_type": "execute_result"
    }
   ],
   "source": [
    "model2.fit(x_train, y_train, validation_data=(x_test, y_test), epochs=30, batch_size=1) "
   ]
  },
  {
   "cell_type": "code",
   "execution_count": 39,
   "id": "7f1ce7d8",
   "metadata": {},
   "outputs": [
    {
     "data": {
      "text/plain": [
       "array([[ 6,  0,  0,  0,  0,  0,  0],\n",
       "       [ 0,  1,  0,  0,  0,  0,  0],\n",
       "       [ 0,  0, 13,  0,  0,  0,  0],\n",
       "       [ 0,  0,  0,  4,  0,  0,  0],\n",
       "       [ 1,  0,  0,  0,  3,  0,  0],\n",
       "       [ 0,  0,  0,  0,  0,  8,  0],\n",
       "       [ 0,  1,  0,  0,  0,  0,  8]], dtype=int64)"
      ]
     },
     "execution_count": 39,
     "metadata": {},
     "output_type": "execute_result"
    }
   ],
   "source": [
    "y_pred = model2.predict(x_test).round()\n",
    "\n",
    "cm_BiLSTM = confusion_matrix(y_test.argmax(axis=1), y_pred.argmax(axis=1))\n",
    "cm_BiLSTM"
   ]
  },
  {
   "cell_type": "code",
   "execution_count": 40,
   "id": "c8edc85b",
   "metadata": {},
   "outputs": [
    {
     "data": {
      "text/plain": [
       "<AxesSubplot:>"
      ]
     },
     "execution_count": 40,
     "metadata": {},
     "output_type": "execute_result"
    },
    {
     "data": {
      "image/png": "[encoded data removed]",
      "text/plain": [
       "<Figure size 432x288 with 2 Axes>"
      ]
     },
     "metadata": {
      "needs_background": "light"
     },
     "output_type": "display_data"
    }
   ],
   "source": [
    "sns.heatmap(cm_BiLSTM, annot=True, \n",
    "             cmap='Blues')"
   ]
  },
  {
   "cell_type": "code",
   "execution_count": 41,
   "id": "64ae1569",
   "metadata": {},
   "outputs": [
    {
     "name": "stdout",
     "output_type": "stream",
     "text": [
      "              precision    recall  f1-score   support\n",
      "\n",
      "           0       0.86      1.00      0.92         6\n",
      "           1       0.50      1.00      0.67         1\n",
      "           2       1.00      1.00      1.00        13\n",
      "           3       1.00      1.00      1.00         4\n",
      "           4       1.00      0.75      0.86         4\n",
      "           5       1.00      1.00      1.00         8\n",
      "           6       1.00      0.89      0.94         9\n",
      "\n",
      "    accuracy                           0.96        45\n",
      "   macro avg       0.91      0.95      0.91        45\n",
      "weighted avg       0.97      0.96      0.96        45\n",
      "\n"
     ]
    }
   ],
   "source": [
    "print(metrics.classification_report(y_test.argmax(axis=1),y_pred.argmax(axis=1)))"
   ]
  },
  {
   "cell_type": "code",
   "execution_count": 42,
   "id": "8d2e1b10",
   "metadata": {},
   "outputs": [],
   "source": [
    "# 1D CNN\n",
    "from tensorflow.keras.layers import Conv1D,GlobalMaxPooling1D\n",
    "\n",
    "embedding_vector_length = 32\n",
    "model3 = Sequential()\n",
    "model3.add(Embedding(vocab_size, embedding_vector_length, input_length=200) )\n",
    "model3.add(Conv1D(50, 6, activation='relu'))\n",
    "#model.add(layers.MaxPooling1D(5))\n",
    "#model3.add(layers.Conv1D(20, 6, activation='relu',kernel_regularizer=regularizers.l1_l2(l1=2e-3, l2=2e-3),bias_regularizer=regularizers.l2(2e-3)))\n",
    "model3.add(GlobalMaxPooling1D())\n",
    "model3.add(Dense(7, activation='softmax'))\n",
    "model3.compile(loss='categorical_crossentropy',optimizer='adam',metrics=['accuracy'])"
   ]
  },
  {
   "cell_type": "code",
   "execution_count": 43,
   "id": "a70d5045",
   "metadata": {},
   "outputs": [
    {
     "name": "stdout",
     "output_type": "stream",
     "text": [
      "Epoch 1/40\n",
      "105/105 [==============================] - 1s 4ms/step - loss: 1.8580 - accuracy: 0.2667 - val_loss: 1.7983 - val_accuracy: 0.3333\n",
      "Epoch 2/40\n",
      "105/105 [==============================] - 0s 2ms/step - loss: 1.6136 - accuracy: 0.4857 - val_loss: 1.6519 - val_accuracy: 0.4667\n",
      "Epoch 3/40\n",
      "105/105 [==============================] - 0s 3ms/step - loss: 1.2935 - accuracy: 0.6667 - val_loss: 1.3224 - val_accuracy: 0.6667\n",
      "Epoch 4/40\n",
      "105/105 [==============================] - 0s 2ms/step - loss: 0.9503 - accuracy: 0.7619 - val_loss: 0.9988 - val_accuracy: 0.8444\n",
      "Epoch 5/40\n",
      "105/105 [==============================] - 0s 2ms/step - loss: 0.6473 - accuracy: 0.9143 - val_loss: 0.6953 - val_accuracy: 0.8667\n",
      "Epoch 6/40\n",
      "105/105 [==============================] - 0s 2ms/step - loss: 0.4142 - accuracy: 0.9238 - val_loss: 0.5170 - val_accuracy: 0.8889\n",
      "Epoch 7/40\n",
      "105/105 [==============================] - 0s 2ms/step - loss: 0.2645 - accuracy: 0.9429 - val_loss: 0.4311 - val_accuracy: 0.9333\n",
      "Epoch 8/40\n",
      "105/105 [==============================] - 0s 2ms/step - loss: 0.1684 - accuracy: 0.9619 - val_loss: 0.3233 - val_accuracy: 0.9556\n",
      "Epoch 9/40\n",
      "105/105 [==============================] - 0s 2ms/step - loss: 0.1195 - accuracy: 0.9810 - val_loss: 0.2864 - val_accuracy: 0.9556\n",
      "Epoch 10/40\n",
      "105/105 [==============================] - 0s 2ms/step - loss: 0.0746 - accuracy: 1.0000 - val_loss: 0.2475 - val_accuracy: 0.9556\n",
      "Epoch 11/40\n",
      "105/105 [==============================] - 0s 2ms/step - loss: 0.0513 - accuracy: 1.0000 - val_loss: 0.2290 - val_accuracy: 0.9556\n",
      "Epoch 12/40\n",
      "105/105 [==============================] - 0s 2ms/step - loss: 0.0367 - accuracy: 1.0000 - val_loss: 0.2190 - val_accuracy: 0.9556\n",
      "Epoch 13/40\n",
      "105/105 [==============================] - 0s 2ms/step - loss: 0.0278 - accuracy: 1.0000 - val_loss: 0.1902 - val_accuracy: 0.9556\n",
      "Epoch 14/40\n",
      "105/105 [==============================] - 0s 2ms/step - loss: 0.0197 - accuracy: 1.0000 - val_loss: 0.1724 - val_accuracy: 0.9556\n",
      "Epoch 15/40\n",
      "105/105 [==============================] - 0s 2ms/step - loss: 0.0148 - accuracy: 1.0000 - val_loss: 0.1746 - val_accuracy: 0.9556\n",
      "Epoch 16/40\n",
      "105/105 [==============================] - 0s 2ms/step - loss: 0.0113 - accuracy: 1.0000 - val_loss: 0.1639 - val_accuracy: 0.9556\n",
      "Epoch 17/40\n",
      "105/105 [==============================] - 0s 2ms/step - loss: 0.0092 - accuracy: 1.0000 - val_loss: 0.1606 - val_accuracy: 0.9556\n",
      "Epoch 18/40\n",
      "105/105 [==============================] - 0s 2ms/step - loss: 0.0076 - accuracy: 1.0000 - val_loss: 0.1542 - val_accuracy: 0.9556\n",
      "Epoch 19/40\n",
      "105/105 [==============================] - 0s 2ms/step - loss: 0.0063 - accuracy: 1.0000 - val_loss: 0.1544 - val_accuracy: 0.9556\n",
      "Epoch 20/40\n",
      "105/105 [==============================] - 0s 2ms/step - loss: 0.0054 - accuracy: 1.0000 - val_loss: 0.1497 - val_accuracy: 0.9556\n",
      "Epoch 21/40\n",
      "105/105 [==============================] - 0s 2ms/step - loss: 0.0047 - accuracy: 1.0000 - val_loss: 0.1480 - val_accuracy: 0.9556\n",
      "Epoch 22/40\n",
      "105/105 [==============================] - 0s 2ms/step - loss: 0.0040 - accuracy: 1.0000 - val_loss: 0.1446 - val_accuracy: 0.9556\n",
      "Epoch 23/40\n",
      "105/105 [==============================] - 0s 2ms/step - loss: 0.0034 - accuracy: 1.0000 - val_loss: 0.1415 - val_accuracy: 0.9556\n",
      "Epoch 24/40\n",
      "105/105 [==============================] - 0s 3ms/step - loss: 0.0030 - accuracy: 1.0000 - val_loss: 0.1402 - val_accuracy: 0.9556\n",
      "Epoch 25/40\n",
      "105/105 [==============================] - 0s 2ms/step - loss: 0.0026 - accuracy: 1.0000 - val_loss: 0.1389 - val_accuracy: 0.9556\n",
      "Epoch 26/40\n",
      "105/105 [==============================] - 0s 2ms/step - loss: 0.0023 - accuracy: 1.0000 - val_loss: 0.1389 - val_accuracy: 0.9556\n",
      "Epoch 27/40\n",
      "105/105 [==============================] - 0s 2ms/step - loss: 0.0021 - accuracy: 1.0000 - val_loss: 0.1372 - val_accuracy: 0.9556\n",
      "Epoch 28/40\n",
      "105/105 [==============================] - 0s 2ms/step - loss: 0.0019 - accuracy: 1.0000 - val_loss: 0.1359 - val_accuracy: 0.9556\n",
      "Epoch 29/40\n",
      "105/105 [==============================] - 0s 2ms/step - loss: 0.0017 - accuracy: 1.0000 - val_loss: 0.1349 - val_accuracy: 0.9556\n",
      "Epoch 30/40\n",
      "105/105 [==============================] - 0s 2ms/step - loss: 0.0015 - accuracy: 1.0000 - val_loss: 0.1336 - val_accuracy: 0.9556\n",
      "Epoch 31/40\n",
      "105/105 [==============================] - 0s 2ms/step - loss: 0.0014 - accuracy: 1.0000 - val_loss: 0.1331 - val_accuracy: 0.9556\n",
      "Epoch 32/40\n",
      "105/105 [==============================] - 0s 2ms/step - loss: 0.0012 - accuracy: 1.0000 - val_loss: 0.1329 - val_accuracy: 0.9556\n",
      "Epoch 33/40\n",
      "105/105 [==============================] - 0s 2ms/step - loss: 0.0011 - accuracy: 1.0000 - val_loss: 0.1335 - val_accuracy: 0.9556\n",
      "Epoch 34/40\n",
      "105/105 [==============================] - 0s 2ms/step - loss: 0.0010 - accuracy: 1.0000 - val_loss: 0.1323 - val_accuracy: 0.9556\n",
      "Epoch 35/40\n",
      "105/105 [==============================] - 0s 2ms/step - loss: 9.3186e-04 - accuracy: 1.0000 - val_loss: 0.1316 - val_accuracy: 0.9556\n",
      "Epoch 36/40\n",
      "105/105 [==============================] - 0s 2ms/step - loss: 8.5231e-04 - accuracy: 1.0000 - val_loss: 0.1315 - val_accuracy: 0.9556\n",
      "Epoch 37/40\n",
      "105/105 [==============================] - 0s 2ms/step - loss: 7.8054e-04 - accuracy: 1.0000 - val_loss: 0.1312 - val_accuracy: 0.9556\n",
      "Epoch 38/40\n",
      "105/105 [==============================] - 0s 2ms/step - loss: 7.1266e-04 - accuracy: 1.0000 - val_loss: 0.1309 - val_accuracy: 0.9556\n",
      "Epoch 39/40\n",
      "105/105 [==============================] - 0s 2ms/step - loss: 6.5957e-04 - accuracy: 1.0000 - val_loss: 0.1303 - val_accuracy: 0.9556\n",
      "Epoch 40/40\n",
      "105/105 [==============================] - 0s 3ms/step - loss: 6.0276e-04 - accuracy: 1.0000 - val_loss: 0.1298 - val_accuracy: 0.9556\n"
     ]
    },
    {
     "data": {
      "text/plain": [
       "<keras.callbacks.History at 0x28d5e286ee0>"
      ]
     },
     "execution_count": 43,
     "metadata": {},
     "output_type": "execute_result"
    }
   ],
   "source": [
    " model3.fit(x_train, y_train, validation_data=(x_test, y_test), epochs=40, batch_size=1) "
   ]
  },
  {
   "cell_type": "code",
   "execution_count": 44,
   "id": "502a41e4",
   "metadata": {},
   "outputs": [
    {
     "data": {
      "text/plain": [
       "array([[ 5,  0,  0,  0,  0,  0,  1],\n",
       "       [ 0,  1,  0,  0,  0,  0,  0],\n",
       "       [ 0,  0, 13,  0,  0,  0,  0],\n",
       "       [ 0,  0,  0,  4,  0,  0,  0],\n",
       "       [ 1,  0,  0,  0,  3,  0,  0],\n",
       "       [ 0,  0,  0,  0,  0,  8,  0],\n",
       "       [ 0,  0,  0,  0,  0,  0,  9]], dtype=int64)"
      ]
     },
     "execution_count": 44,
     "metadata": {},
     "output_type": "execute_result"
    }
   ],
   "source": [
    "y_pred = model3.predict(x_test).round()\n",
    "\n",
    "cm_cnn = confusion_matrix(y_test.argmax(axis=1), y_pred.argmax(axis=1))\n",
    "cm_cnn"
   ]
  },
  {
   "cell_type": "code",
   "execution_count": 45,
   "id": "64fd6506",
   "metadata": {},
   "outputs": [
    {
     "data": {
      "text/plain": [
       "<AxesSubplot:>"
      ]
     },
     "execution_count": 45,
     "metadata": {},
     "output_type": "execute_result"
    },
    {
     "data": {
      "image/png": "[encoded data removed]",
      "text/plain": [
       "<Figure size 432x288 with 2 Axes>"
      ]
     },
     "metadata": {
      "needs_background": "light"
     },
     "output_type": "display_data"
    }
   ],
   "source": [
    "sns.heatmap(cm_cnn, annot=True, \n",
    "             cmap='Blues')"
   ]
  },
  {
   "cell_type": "code",
   "execution_count": 69,
   "id": "5aad85c2",
   "metadata": {},
   "outputs": [
    {
     "name": "stdout",
     "output_type": "stream",
     "text": [
      "              precision    recall  f1-score   support\n",
      "\n",
      "           0       0.83      0.83      0.83         6\n",
      "           1       1.00      1.00      1.00         1\n",
      "           2       1.00      1.00      1.00        13\n",
      "           3       1.00      1.00      1.00         4\n",
      "           4       1.00      0.75      0.86         4\n",
      "           5       1.00      1.00      1.00         8\n",
      "           6       0.90      1.00      0.95         9\n",
      "\n",
      "    accuracy                           0.96        45\n",
      "   macro avg       0.96      0.94      0.95        45\n",
      "weighted avg       0.96      0.96      0.95        45\n",
      "\n"
     ]
    }
   ],
   "source": [
    "print(metrics.classification_report(y_test.argmax(axis=1),y_pred.argmax(axis=1)))"
   ]
  },
  {
   "cell_type": "code",
   "execution_count": 9,
   "id": "8fea272f",
   "metadata": {},
   "outputs": [],
   "source": [
    "from sklearn.manifold import TSNE\n",
    "# TSNE reduction\n",
    "vect_weight = text_vect.toarray()\n",
    "tsne = TSNE(n_components=2)\n",
    "decomposition_data = tsne.fit_transform(vect_weight)"
   ]
  },
  {
   "cell_type": "code",
   "execution_count": 10,
   "id": "fe937931",
   "metadata": {},
   "outputs": [
    {
     "data": {
      "text/plain": [
       "array([[-6.22601032e-01,  1.26282799e+00],\n",
       "       [ 3.22480226e+00,  2.27322650e+00],\n",
       "       [ 1.73380148e+00,  1.86240363e+00],\n",
       "       [ 1.88923621e+00,  1.16426992e+00],\n",
       "       [ 2.41927505e+00,  2.47692540e-01],\n",
       "       [-6.02482080e-01,  4.38980579e+00],\n",
       "       [ 6.27352178e-01,  2.28392935e+00],\n",
       "       [ 5.56729460e+00, -1.76941216e+00],\n",
       "       [ 1.35343897e+00,  1.88288167e-01],\n",
       "       [ 1.35502231e+00,  1.86030224e-01],\n",
       "       [ 3.36803436e+00, -8.37474704e-01],\n",
       "       [-4.74302351e-01,  2.60629630e+00],\n",
       "       [ 4.38947773e+00,  1.57557845e-01],\n",
       "       [ 3.50303793e+00, -1.10096443e+00],\n",
       "       [-1.43522835e+00,  2.68295598e+00],\n",
       "       [-1.41961705e-02, -1.61486506e-01],\n",
       "       [ 8.59943628e-01,  3.32129693e+00],\n",
       "       [ 6.38164520e-01,  3.66385508e+00],\n",
       "       [ 8.39136958e-01, -1.23332417e+00],\n",
       "       [-1.09258937e-02, -1.62878945e-01],\n",
       "       [ 2.23510551e+00,  1.80090690e+00],\n",
       "       [ 2.16301656e+00,  3.25542307e+00],\n",
       "       [-1.52101707e+00, -2.45917726e+00],\n",
       "       [-1.01190555e+00, -3.14231801e+00],\n",
       "       [-9.46135402e-01, -1.42279053e+00],\n",
       "       [-3.14776331e-01, -2.47701240e+00],\n",
       "       [-1.82373810e+00, -1.86765301e+00],\n",
       "       [-1.52137005e+00, -2.45982289e+00],\n",
       "       [ 3.17019391e+00,  8.77510250e-01],\n",
       "       [ 3.16710401e+00,  8.74443054e-01],\n",
       "       [ 4.75254154e+00,  1.69066751e+00],\n",
       "       [ 2.63016677e+00,  3.82593870e+00],\n",
       "       [ 2.95910907e+00,  3.62793136e+00],\n",
       "       [ 7.05427051e-01,  1.15707290e+00],\n",
       "       [ 3.61656094e+00,  4.25373888e+00],\n",
       "       [-2.49825501e+00, -6.76595211e-01],\n",
       "       [ 4.32359171e+00,  1.68422413e+00],\n",
       "       [-3.70757890e+00, -1.72147799e+00],\n",
       "       [-2.84336734e+00, -2.14597511e+00],\n",
       "       [-1.93228436e+00, -6.41596556e+00],\n",
       "       [-3.77091622e+00, -6.02398872e+00],\n",
       "       [-1.21415889e+00, -5.90361595e+00],\n",
       "       [-2.28330898e+00, -6.54791927e+00],\n",
       "       [-3.63230228e+00, -6.15886164e+00],\n",
       "       [-2.17285609e+00, -4.83938837e+00],\n",
       "       [-3.96988606e+00, -4.53112984e+00],\n",
       "       [-1.30823946e+00, -5.12542725e+00],\n",
       "       [-2.54601240e+00, -4.56355143e+00],\n",
       "       [-3.87046623e+00, -4.37439537e+00],\n",
       "       [ 4.20204687e+00, -4.30383873e+00],\n",
       "       [ 4.20202971e+00, -4.28040934e+00],\n",
       "       [ 7.18893242e+00,  8.17265797e+00],\n",
       "       [ 2.00532079e+00, -8.61925781e-01],\n",
       "       [ 5.77082586e+00,  2.65791655e-01],\n",
       "       [ 6.50029325e+00,  4.15781975e+00],\n",
       "       [-2.12844896e+00, -2.84075618e+00],\n",
       "       [ 5.41612101e+00,  3.72583270e+00],\n",
       "       [ 5.63730812e+00,  3.20036530e+00],\n",
       "       [ 8.47772598e+00,  2.45786047e+00],\n",
       "       [ 9.14660645e+00,  7.45826721e-01],\n",
       "       [ 5.17858219e+00,  5.10541296e+00],\n",
       "       [ 7.84167576e+00,  1.24241376e+00],\n",
       "       [ 8.44567966e+00,  1.27120340e+00],\n",
       "       [ 1.08502131e+01,  1.47062719e+00],\n",
       "       [-5.71795368e+00,  2.59540772e+00],\n",
       "       [ 3.69002867e+00,  6.35990381e+00],\n",
       "       [ 2.22233176e+00,  6.79318666e+00],\n",
       "       [ 2.79911065e+00,  5.87875271e+00],\n",
       "       [-6.05658484e+00,  8.23693562e+00],\n",
       "       [ 1.21270490e+00, -6.19462013e+00],\n",
       "       [ 1.21276021e+00, -6.19452524e+00],\n",
       "       [-6.05802488e+00,  8.23610020e+00],\n",
       "       [-4.46532011e+00, -3.10683918e+00],\n",
       "       [-3.30994034e+00, -7.44246387e+00],\n",
       "       [ 1.02404070e+00, -4.80414343e+00],\n",
       "       [ 3.21773601e+00,  2.26218009e+00],\n",
       "       [ 4.03072596e+00, -1.94371390e+00],\n",
       "       [-6.24467254e-01,  1.26264369e+00],\n",
       "       [-1.99617290e+00,  1.39404750e+00],\n",
       "       [-2.87921453e+00,  2.03781414e+00],\n",
       "       [-1.99278307e+00,  1.39186990e+00],\n",
       "       [ 5.46774149e+00, -2.01870203e+00],\n",
       "       [-8.07274103e-01,  4.68098736e+00],\n",
       "       [-2.49961233e+00,  4.71521139e+00],\n",
       "       [-2.10482335e+00,  5.91479158e+00],\n",
       "       [-2.49941874e+00,  2.53542542e+00],\n",
       "       [ 1.16848886e+00,  1.63708103e+00],\n",
       "       [ 1.64488232e+00,  2.43877602e+00],\n",
       "       [ 1.46636868e+00,  4.97001171e+00],\n",
       "       [ 4.56591547e-01,  5.99921894e+00],\n",
       "       [-8.13268566e+00, -2.72583842e+00],\n",
       "       [-8.13186264e+00, -2.72574830e+00],\n",
       "       [-8.58490181e+00, -2.54612899e+00],\n",
       "       [-1.22548103e+01, -8.53756666e-01],\n",
       "       [-1.09802475e+01, -2.82176328e+00],\n",
       "       [-9.10663319e+00, -4.37324667e+00],\n",
       "       [-1.13381176e+01, -3.52626181e+00],\n",
       "       [-5.23963881e+00, -5.73344088e+00],\n",
       "       [-7.91165733e+00, -6.34622431e+00],\n",
       "       [-5.70101452e+00, -6.96753645e+00],\n",
       "       [-5.83004427e+00, -5.26345062e+00],\n",
       "       [-7.91112471e+00, -6.34701443e+00],\n",
       "       [-5.82895994e+00, -5.26449728e+00],\n",
       "       [-1.18174896e+01, -2.20459580e+00],\n",
       "       [-1.21347189e+01, -2.05695510e+00],\n",
       "       [-1.23684044e+01, -2.14057755e+00],\n",
       "       [ 3.05987775e-01, -1.01120882e+01],\n",
       "       [-7.06312537e-01, -9.23780155e+00],\n",
       "       [-4.80740547e-01, -9.91229057e+00],\n",
       "       [-1.54184175e+00, -9.65307617e+00],\n",
       "       [-2.78279811e-01, -9.95563126e+00],\n",
       "       [-1.21939650e+01, -1.60895538e+00],\n",
       "       [-5.24459124e+00, -1.06300106e+01],\n",
       "       [-5.24737167e+00, -1.06306553e+01],\n",
       "       [ 9.99998093e+00, -8.58908653e+00],\n",
       "       [ 1.03860340e+01, -8.42164516e+00],\n",
       "       [ 8.06986523e+00, -5.58053732e+00],\n",
       "       [ 9.54773808e+00, -9.08224297e+00],\n",
       "       [ 8.06892300e+00, -5.57860661e+00],\n",
       "       [ 9.60311317e+00, -8.12216473e+00],\n",
       "       [ 1.01592426e+01, -7.94038677e+00],\n",
       "       [ 8.83183861e+00, -6.68492222e+00],\n",
       "       [ 9.41331577e+00, -7.80909729e+00],\n",
       "       [ 9.20013809e+00, -8.78700542e+00],\n",
       "       [ 2.15266585e+00, -2.11812925e+00],\n",
       "       [ 7.82107067e+00,  8.36536312e+00],\n",
       "       [ 7.80698156e+00,  9.49792576e+00],\n",
       "       [ 8.54848194e+00,  7.46402693e+00],\n",
       "       [ 7.81957150e+00,  8.36649990e+00],\n",
       "       [ 7.82102776e+00,  8.36530018e+00],\n",
       "       [-3.51051807e-01,  8.05992889e+00],\n",
       "       [-1.31882410e-02,  9.09443378e+00],\n",
       "       [-4.99078721e-01,  8.68188190e+00],\n",
       "       [ 1.16110897e+01,  2.48049140e+00],\n",
       "       [ 9.64510250e+00, -1.40756890e-01],\n",
       "       [ 9.65906715e+00, -1.85518324e-01],\n",
       "       [ 9.28737640e+00, -2.98292816e-01],\n",
       "       [ 9.30366421e+00, -3.19176793e-01],\n",
       "       [ 1.14573793e+01,  2.22169995e+00],\n",
       "       [-5.94919157e+00,  2.85933685e+00],\n",
       "       [-6.60368824e+00,  4.92613268e+00],\n",
       "       [-7.69537735e+00,  4.26945734e+00],\n",
       "       [-7.09232330e+00,  4.82896233e+00],\n",
       "       [-9.53960705e+00,  5.69655466e+00],\n",
       "       [-1.04004965e+01,  4.91224003e+00],\n",
       "       [-1.03996382e+01,  4.91276073e+00],\n",
       "       [-9.53588867e+00,  5.69335032e+00],\n",
       "       [-8.67266560e+00,  4.14546680e+00],\n",
       "       [-8.59853649e+00,  4.37808657e+00],\n",
       "       [-5.86081743e+00,  4.77753925e+00]], dtype=float32)"
      ]
     },
     "execution_count": 10,
     "metadata": {},
     "output_type": "execute_result"
    }
   ],
   "source": [
    "decomposition_data "
   ]
  },
  {
   "cell_type": "code",
   "execution_count": 11,
   "id": "ddc8a4ce",
   "metadata": {},
   "outputs": [
    {
     "data": {
      "text/html": [
       "<div>\n",
       "<style scoped>\n",
       "    .dataframe tbody tr th:only-of-type {\n",
       "        vertical-align: middle;\n",
       "    }\n",
       "\n",
       "    .dataframe tbody tr th {\n",
       "        vertical-align: top;\n",
       "    }\n",
       "\n",
       "    .dataframe thead th {\n",
       "        text-align: right;\n",
       "    }\n",
       "</style>\n",
       "<table border=\"1\" class=\"dataframe\">\n",
       "  <thead>\n",
       "    <tr style=\"text-align: right;\">\n",
       "      <th></th>\n",
       "      <th>text</th>\n",
       "      <th>Intent</th>\n",
       "      <th>tag</th>\n",
       "      <th>text_clean</th>\n",
       "      <th>index</th>\n",
       "    </tr>\n",
       "  </thead>\n",
       "  <tbody>\n",
       "    <tr>\n",
       "      <th>0</th>\n",
       "      <td>Hi</td>\n",
       "      <td>greeting</td>\n",
       "      <td>Welcome</td>\n",
       "      <td>hi</td>\n",
       "      <td>0</td>\n",
       "    </tr>\n",
       "    <tr>\n",
       "      <th>1</th>\n",
       "      <td>Hey</td>\n",
       "      <td>greeting</td>\n",
       "      <td>Welcome</td>\n",
       "      <td>hey</td>\n",
       "      <td>0</td>\n",
       "    </tr>\n",
       "    <tr>\n",
       "      <th>2</th>\n",
       "      <td>How are you</td>\n",
       "      <td>greeting</td>\n",
       "      <td>Welcome</td>\n",
       "      <td></td>\n",
       "      <td>0</td>\n",
       "    </tr>\n",
       "    <tr>\n",
       "      <th>3</th>\n",
       "      <td>Is anyone there?</td>\n",
       "      <td>greeting</td>\n",
       "      <td>Welcome</td>\n",
       "      <td>anyone</td>\n",
       "      <td>0</td>\n",
       "    </tr>\n",
       "    <tr>\n",
       "      <th>4</th>\n",
       "      <td>Hello</td>\n",
       "      <td>greeting</td>\n",
       "      <td>Welcome</td>\n",
       "      <td>hello</td>\n",
       "      <td>0</td>\n",
       "    </tr>\n",
       "    <tr>\n",
       "      <th>...</th>\n",
       "      <td>...</td>\n",
       "      <td>...</td>\n",
       "      <td>...</td>\n",
       "      <td>...</td>\n",
       "      <td>...</td>\n",
       "    </tr>\n",
       "    <tr>\n",
       "      <th>145</th>\n",
       "      <td>Sure, one small chicken pizza and one Pepsi ar...</td>\n",
       "      <td>NaN</td>\n",
       "      <td>Order</td>\n",
       "      <td>sure one small chicken pizza one pepsi order d...</td>\n",
       "      <td>6</td>\n",
       "    </tr>\n",
       "    <tr>\n",
       "      <th>146</th>\n",
       "      <td>Sure, one large chicken pizza and one Coca are...</td>\n",
       "      <td>NaN</td>\n",
       "      <td>Order</td>\n",
       "      <td>sure one large chicken pizza one coca order de...</td>\n",
       "      <td>6</td>\n",
       "    </tr>\n",
       "    <tr>\n",
       "      <th>147</th>\n",
       "      <td>Sure, one large veg pizza is in your order. Wh...</td>\n",
       "      <td>NaN</td>\n",
       "      <td>Order</td>\n",
       "      <td>sure one large veg pizza order deliver</td>\n",
       "      <td>6</td>\n",
       "    </tr>\n",
       "    <tr>\n",
       "      <th>148</th>\n",
       "      <td>Sure, one chicken pizza is in your order. Wher...</td>\n",
       "      <td>NaN</td>\n",
       "      <td>Order</td>\n",
       "      <td>sure one chicken pizza order deliver</td>\n",
       "      <td>6</td>\n",
       "    </tr>\n",
       "    <tr>\n",
       "      <th>149</th>\n",
       "      <td>Sure, five small vegetarian is in your order. ...</td>\n",
       "      <td>NaN</td>\n",
       "      <td>Order</td>\n",
       "      <td>sure five small vegetarian order deliver</td>\n",
       "      <td>6</td>\n",
       "    </tr>\n",
       "  </tbody>\n",
       "</table>\n",
       "<p>150 rows × 5 columns</p>\n",
       "</div>"
      ],
      "text/plain": [
       "                                                  text    Intent      tag  \\\n",
       "0                                                   Hi  greeting  Welcome   \n",
       "1                                                  Hey  greeting  Welcome   \n",
       "2                                          How are you  greeting  Welcome   \n",
       "3                                     Is anyone there?  greeting  Welcome   \n",
       "4                                                Hello  greeting  Welcome   \n",
       "..                                                 ...       ...      ...   \n",
       "145  Sure, one small chicken pizza and one Pepsi ar...       NaN    Order   \n",
       "146  Sure, one large chicken pizza and one Coca are...       NaN    Order   \n",
       "147  Sure, one large veg pizza is in your order. Wh...       NaN    Order   \n",
       "148  Sure, one chicken pizza is in your order. Wher...       NaN    Order   \n",
       "149  Sure, five small vegetarian is in your order. ...       NaN    Order   \n",
       "\n",
       "                                            text_clean  index  \n",
       "0                                                   hi      0  \n",
       "1                                                  hey      0  \n",
       "2                                                           0  \n",
       "3                                               anyone      0  \n",
       "4                                                hello      0  \n",
       "..                                                 ...    ...  \n",
       "145  sure one small chicken pizza one pepsi order d...      6  \n",
       "146  sure one large chicken pizza one coca order de...      6  \n",
       "147             sure one large veg pizza order deliver      6  \n",
       "148               sure one chicken pizza order deliver      6  \n",
       "149           sure five small vegetarian order deliver      6  \n",
       "\n",
       "[150 rows x 5 columns]"
      ]
     },
     "execution_count": 11,
     "metadata": {},
     "output_type": "execute_result"
    }
   ],
   "source": [
    "# Map label into index for Kappa score\n",
    "Index = {\n",
    "    \"Welcome\":0,\n",
    "    \"Food\":1,\n",
    "    \"Price and Size\":2,\n",
    "    \"Payment\":3,\n",
    "    \"Delivery\":4,\n",
    "    'Booking':5,\n",
    "    'Order':6\n",
    "}\n",
    "data[\"index\"] = data['tag'].map(Index)\n",
    "data"
   ]
  },
  {
   "cell_type": "code",
   "execution_count": null,
   "id": "9ca27311",
   "metadata": {},
   "outputs": [],
   "source": []
  },
  {
   "cell_type": "code",
   "execution_count": 12,
   "id": "61ea30a3",
   "metadata": {},
   "outputs": [],
   "source": [
    "label = data['index']"
   ]
  },
  {
   "cell_type": "code",
   "execution_count": 13,
   "id": "3cd93a25",
   "metadata": {},
   "outputs": [
    {
     "name": "stderr",
     "output_type": "stream",
     "text": [
      "C:\\Users\\Wu\\anaconda3\\lib\\site-packages\\sklearn\\cluster\\_kmeans.py:881: UserWarning: KMeans is known to have a memory leak on Windows with MKL, when there are less chunks than available threads. You can avoid it by setting the environment variable OMP_NUM_THREADS=1.\n",
      "  warnings.warn(\n"
     ]
    },
    {
     "data": {
      "image/png": "[encoded data removed]",
      "text/plain": [
       "<Figure size 432x288 with 1 Axes>"
      ]
     },
     "metadata": {
      "needs_background": "light"
     },
     "output_type": "display_data"
    }
   ],
   "source": [
    "# Kmeans clustering \n",
    "from sklearn.cluster import KMeans\n",
    "from matplotlib import pyplot as plt\n",
    "\n",
    "wcss = []\n",
    "for i in range(1, 21):\n",
    "    kmeans = KMeans(n_clusters=i, init='k-means++', max_iter=300, n_init=10, random_state=0)\n",
    "    kmeans.fit(decomposition_data)\n",
    "    wcss.append(kmeans.inertia_)\n",
    "plt.plot(range(1, 21), wcss)\n",
    "plt.title('Elbow Method')\n",
    "plt.xlabel('Number of clusters')\n",
    "plt.ylabel('WCSS')\n",
    "plt.show()"
   ]
  },
  {
   "cell_type": "code",
   "execution_count": null,
   "id": "56ab4085",
   "metadata": {},
   "outputs": [],
   "source": []
  },
  {
   "cell_type": "code",
   "execution_count": 14,
   "id": "2e7c4b97",
   "metadata": {},
   "outputs": [
    {
     "data": {
      "text/plain": [
       "KMeans(n_clusters=7, random_state=5)"
      ]
     },
     "execution_count": 14,
     "metadata": {},
     "output_type": "execute_result"
    }
   ],
   "source": [
    "km = KMeans(n_clusters = 7, init='k-means++', max_iter=300, n_init=10, random_state=5)\n",
    "#km.fit(decomposition_data,label)\n",
    "km.fit(text_vect,label)"
   ]
  },
  {
   "cell_type": "code",
   "execution_count": 15,
   "id": "0b2fea14",
   "metadata": {},
   "outputs": [
    {
     "name": "stdout",
     "output_type": "stream",
     "text": [
      "['table', 'book', 'help', 'sure', 'hi', 'dollar', 'want', 'thanks', 'see', 'order']\n",
      "['pizza', 'chicken', 'veg', 'new', 'small', 'large', 'york', 'coca', 'pepsi', 'cost']\n",
      "['beer', 'pepsi', 'coca', 'spirit', 'like', 'drink', 'soft', 'pizza', 'also', 'chicken']\n",
      "['dollar', '10', 'large', 'medium', 'small', '12', 'need', 'get', 'pay', 'price']\n",
      "['one', 'deliver', 'sure', 'order', 'pizza', 'address', 'chicken', 'small', 'coca', 'large']\n",
      "['pay', 'google', 'cash', 'etransfer', 'use', 'method', 'payment', 'convenience', 'online', 'may']\n",
      "['deliver', 'place', 'campus', 'would', 'glad', '247', 'course', 'every', 'everywhere', 'get']\n"
     ]
    }
   ],
   "source": [
    "oc = km.cluster_centers_.argsort()[:,::-1]\n",
    "u_words = count_vect.get_feature_names()\n",
    "# top 10 word in \n",
    "for i in range(0,7):\n",
    "    top_words = [u_words[x] for x in oc[i,:10]]\n",
    "    print(top_words)"
   ]
  },
  {
   "cell_type": "code",
   "execution_count": 16,
   "id": "3ef0be95",
   "metadata": {},
   "outputs": [
    {
     "data": {
      "image/png": "[encoded data removed]",
      "text/plain": [
       "<Figure size 720x720 with 1 Axes>"
      ]
     },
     "metadata": {},
     "output_type": "display_data"
    }
   ],
   "source": [
    "km.fit(decomposition_data,label)\n",
    "x = []\n",
    "y = []\n",
    "\n",
    "for i in decomposition_data:\n",
    "    x.append(i[0])\n",
    "    y.append(i[1])\n",
    "\n",
    "fig = plt.figure(figsize=(10, 10))\n",
    "ax = plt.axes()\n",
    "plt.scatter(x, y, c=km.labels_, marker=\"x\")\n",
    "plt.scatter(km.cluster_centers_[:, 0], km.cluster_centers_[:, 1], s=100, c='red')\n",
    "plt.xticks(())\n",
    "plt.yticks(())\n",
    "plt.show()"
   ]
  },
  {
   "cell_type": "code",
   "execution_count": 17,
   "id": "743edb22",
   "metadata": {},
   "outputs": [
    {
     "data": {
      "text/plain": [
       "0.09499948870027608"
      ]
     },
     "execution_count": 17,
     "metadata": {},
     "output_type": "execute_result"
    }
   ],
   "source": [
    "# Calculate Kappa score\n",
    "from sklearn.metrics import cohen_kappa_score\n",
    "cohen_kappa_score(km.labels_, label)"
   ]
  },
  {
   "cell_type": "code",
   "execution_count": 18,
   "id": "e4050eb4",
   "metadata": {},
   "outputs": [
    {
     "data": {
      "text/plain": [
       "0.4168966"
      ]
     },
     "execution_count": 18,
     "metadata": {},
     "output_type": "execute_result"
    }
   ],
   "source": [
    "# Calculate Silhouette score\n",
    "X = decomposition_data\n",
    "\n",
    "from sklearn.metrics import silhouette_score\n",
    "silhouette_score(X, km.labels_, metric = \"euclidean\")"
   ]
  },
  {
   "cell_type": "code",
   "execution_count": 19,
   "id": "04013038",
   "metadata": {},
   "outputs": [],
   "source": [
    "# Hierarchical clustering\n",
    "import scipy.cluster.hierarchy as sch\n",
    "from sklearn.cluster import AgglomerativeClustering"
   ]
  },
  {
   "cell_type": "code",
   "execution_count": 20,
   "id": "4053f31f",
   "metadata": {},
   "outputs": [
    {
     "data": {
      "image/png": "[encoded data removed]",
      "text/plain": [
       "<Figure size 432x288 with 1 Axes>"
      ]
     },
     "metadata": {
      "needs_background": "light"
     },
     "output_type": "display_data"
    }
   ],
   "source": [
    "# create dendrogram text_vect.toarray()\n",
    "dendrogram = sch.dendrogram(sch.linkage(X, method='ward'))"
   ]
  },
  {
   "cell_type": "code",
   "execution_count": 21,
   "id": "6de5d2f1",
   "metadata": {},
   "outputs": [],
   "source": [
    "# create clusters\n",
    "hc = AgglomerativeClustering(n_clusters=7, affinity = 'euclidean', linkage = 'ward')\n",
    "# save clusters for chart\n",
    "y_hc = hc.fit_predict(X,label)"
   ]
  },
  {
   "cell_type": "code",
   "execution_count": 22,
   "id": "79a632b1",
   "metadata": {},
   "outputs": [
    {
     "data": {
      "text/plain": [
       "<matplotlib.collections.PathCollection at 0x1da2f46b280>"
      ]
     },
     "execution_count": 22,
     "metadata": {},
     "output_type": "execute_result"
    },
    {
     "data": {
      "image/png": "[encoded data removed]",
      "text/plain": [
       "<Figure size 432x288 with 1 Axes>"
      ]
     },
     "metadata": {
      "needs_background": "light"
     },
     "output_type": "display_data"
    }
   ],
   "source": [
    "plt.scatter(X[y_hc ==0,0], X[y_hc == 0,1], s=100, c='red')\n",
    "plt.scatter(X[y_hc==1,0], X[y_hc == 1,1], s=100, c='black')\n",
    "plt.scatter(X[y_hc ==2,0], X[y_hc == 2,1], s=100, c='blue')\n",
    "plt.scatter(X[y_hc ==3,0], X[y_hc == 3,1], s=100, c='cyan')\n",
    "plt.scatter(X[y_hc ==4,0], X[y_hc == 4,1], s=100, c='green')\n",
    "plt.scatter(X[y_hc ==5,0], X[y_hc == 5,1], s=100, c='yellow')\n",
    "plt.scatter(X[y_hc ==6,0], X[y_hc == 6,1], s=100, c='orange')"
   ]
  },
  {
   "cell_type": "code",
   "execution_count": 23,
   "id": "90820aaf",
   "metadata": {},
   "outputs": [
    {
     "data": {
      "text/plain": [
       "-0.034592529711375164"
      ]
     },
     "execution_count": 23,
     "metadata": {},
     "output_type": "execute_result"
    }
   ],
   "source": [
    "# Calculate Kappa score\n",
    "from sklearn.metrics import cohen_kappa_score\n",
    "cohen_kappa_score(y_hc, label)"
   ]
  },
  {
   "cell_type": "code",
   "execution_count": 24,
   "id": "af35457b",
   "metadata": {},
   "outputs": [
    {
     "data": {
      "text/plain": [
       "0.38303298"
      ]
     },
     "execution_count": 24,
     "metadata": {},
     "output_type": "execute_result"
    }
   ],
   "source": [
    "# Calculate Kappa score\n",
    "from sklearn.metrics import silhouette_score\n",
    "silhouette_score(X,y_hc, metric = \"euclidean\")"
   ]
  },
  {
   "cell_type": "code",
   "execution_count": 86,
   "id": "861024a9",
   "metadata": {},
   "outputs": [],
   "source": [
    "# EM Gaussian Mixture\n",
    "from sklearn.mixture import GaussianMixture\n",
    "import numpy as np"
   ]
  },
  {
   "cell_type": "code",
   "execution_count": 87,
   "id": "015c5c34",
   "metadata": {},
   "outputs": [
    {
     "name": "stderr",
     "output_type": "stream",
     "text": [
      "C:\\Users\\Wu\\anaconda3\\lib\\site-packages\\sklearn\\cluster\\_kmeans.py:881: UserWarning: KMeans is known to have a memory leak on Windows with MKL, when there are less chunks than available threads. You can avoid it by setting the environment variable OMP_NUM_THREADS=1.\n",
      "  warnings.warn(\n"
     ]
    },
    {
     "data": {
      "text/plain": [
       "Text(0.5, 0, 'n_components')"
      ]
     },
     "execution_count": 87,
     "metadata": {},
     "output_type": "execute_result"
    },
    {
     "data": {
      "image/png": "[encoded data removed]",
      "text/plain": [
       "<Figure size 432x288 with 1 Axes>"
      ]
     },
     "metadata": {
      "needs_background": "light"
     },
     "output_type": "display_data"
    }
   ],
   "source": [
    "n_components = np.arange(1, 21)\n",
    "models = [GaussianMixture(n, covariance_type='full', random_state=0).fit(X) for n in n_components]\n",
    "plt.plot(n_components, [m.bic(X) for m in models], label='BIC')\n",
    "plt.plot(n_components, [m.aic(X) for m in models], label='AIC')\n",
    "plt.legend(loc='best')\n",
    "plt.xlabel('n_components')"
   ]
  },
  {
   "cell_type": "code",
   "execution_count": 88,
   "id": "969aff8b",
   "metadata": {},
   "outputs": [
    {
     "data": {
      "text/plain": [
       "GaussianMixture(n_components=7)"
      ]
     },
     "execution_count": 88,
     "metadata": {},
     "output_type": "execute_result"
    }
   ],
   "source": [
    "gmm = GaussianMixture(n_components=7)\n",
    "gmm.fit(X,label)"
   ]
  },
  {
   "cell_type": "code",
   "execution_count": 89,
   "id": "8ce2a8a9",
   "metadata": {},
   "outputs": [
    {
     "data": {
      "text/plain": [
       "<matplotlib.collections.PathCollection at 0x28d6f6ed340>"
      ]
     },
     "execution_count": 89,
     "metadata": {},
     "output_type": "execute_result"
    },
    {
     "data": {
      "image/png": "[encoded data removed]",
      "text/plain": [
       "<Figure size 432x288 with 1 Axes>"
      ]
     },
     "metadata": {
      "needs_background": "light"
     },
     "output_type": "display_data"
    }
   ],
   "source": [
    "pred_label = gmm.predict(X)\n",
    "plt.scatter(X[:, 0], X[:, 1], c=pred_label, cmap='viridis')"
   ]
  },
  {
   "cell_type": "code",
   "execution_count": 90,
   "id": "d0c348bc",
   "metadata": {},
   "outputs": [
    {
     "data": {
      "text/plain": [
       "0.12515762925598983"
      ]
     },
     "execution_count": 90,
     "metadata": {},
     "output_type": "execute_result"
    }
   ],
   "source": [
    "# Calculate Kappa score\n",
    "from sklearn.metrics import cohen_kappa_score\n",
    "cohen_kappa_score(pred_label, label)"
   ]
  },
  {
   "cell_type": "code",
   "execution_count": 91,
   "id": "c68c6036",
   "metadata": {},
   "outputs": [
    {
     "data": {
      "text/plain": [
       "0.3723873"
      ]
     },
     "execution_count": 91,
     "metadata": {},
     "output_type": "execute_result"
    }
   ],
   "source": [
    "# Calculate Kappa score\n",
    "\n",
    "from sklearn.metrics import silhouette_score\n",
    "silhouette_score(X,pred_label, metric = \"euclidean\")"
   ]
  },
  {
   "cell_type": "code",
   "execution_count": null,
   "id": "3c37a88d",
   "metadata": {},
   "outputs": [],
   "source": []
  }
 ],
 "metadata": {
  "kernelspec": {
   "display_name": "Python 3 (ipykernel)",
   "language": "python",
   "name": "python3"
  },
  "language_info": {
   "codemirror_mode": {
    "name": "ipython",
    "version": 3
   },
   "file_extension": ".py",
   "mimetype": "text/x-python",
   "name": "python",
   "nbconvert_exporter": "python",
   "pygments_lexer": "ipython3",
   "version": "3.8.8"
  }
 },
 "nbformat": 4,
 "nbformat_minor": 5
}
