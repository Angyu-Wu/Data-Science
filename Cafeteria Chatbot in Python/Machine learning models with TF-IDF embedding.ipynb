{
 "cells": [
  {
   "cell_type": "code",
   "execution_count": 1,
   "id": "11df4c9c",
   "metadata": {},
   "outputs": [],
   "source": [
    "import pandas as pd\n",
    "\n",
    "data = pd.read_csv('chatbot_data_1.csv')"
   ]
  },
  {
   "cell_type": "code",
   "execution_count": 2,
   "id": "7c416929",
   "metadata": {},
   "outputs": [
    {
     "data": {
      "text/html": [
       "<div>\n",
       "<style scoped>\n",
       "    .dataframe tbody tr th:only-of-type {\n",
       "        vertical-align: middle;\n",
       "    }\n",
       "\n",
       "    .dataframe tbody tr th {\n",
       "        vertical-align: top;\n",
       "    }\n",
       "\n",
       "    .dataframe thead th {\n",
       "        text-align: right;\n",
       "    }\n",
       "</style>\n",
       "<table border=\"1\" class=\"dataframe\">\n",
       "  <thead>\n",
       "    <tr style=\"text-align: right;\">\n",
       "      <th></th>\n",
       "      <th>Question</th>\n",
       "      <th>Answer</th>\n",
       "      <th>Intent</th>\n",
       "      <th>tag</th>\n",
       "    </tr>\n",
       "  </thead>\n",
       "  <tbody>\n",
       "    <tr>\n",
       "      <th>0</th>\n",
       "      <td>Hi</td>\n",
       "      <td>Hey :-)</td>\n",
       "      <td>greeting</td>\n",
       "      <td>Welcome</td>\n",
       "    </tr>\n",
       "    <tr>\n",
       "      <th>1</th>\n",
       "      <td>Hey</td>\n",
       "      <td>Hello, thanks for visiting</td>\n",
       "      <td>greeting</td>\n",
       "      <td>Welcome</td>\n",
       "    </tr>\n",
       "    <tr>\n",
       "      <th>2</th>\n",
       "      <td>How are you</td>\n",
       "      <td>Hi there, what can I do for you?</td>\n",
       "      <td>greeting</td>\n",
       "      <td>Welcome</td>\n",
       "    </tr>\n",
       "    <tr>\n",
       "      <th>3</th>\n",
       "      <td>Is anyone there?</td>\n",
       "      <td>Hi there, how can I help?</td>\n",
       "      <td>greeting</td>\n",
       "      <td>Welcome</td>\n",
       "    </tr>\n",
       "    <tr>\n",
       "      <th>4</th>\n",
       "      <td>Hello</td>\n",
       "      <td>Is there anything I can help you.</td>\n",
       "      <td>greeting</td>\n",
       "      <td>Welcome</td>\n",
       "    </tr>\n",
       "    <tr>\n",
       "      <th>...</th>\n",
       "      <td>...</td>\n",
       "      <td>...</td>\n",
       "      <td>...</td>\n",
       "      <td>...</td>\n",
       "    </tr>\n",
       "    <tr>\n",
       "      <th>70</th>\n",
       "      <td>A small chicken pizza and a Pepsi plz.</td>\n",
       "      <td>Sure, one small chicken pizza and one Pepsi ar...</td>\n",
       "      <td>order - pizza</td>\n",
       "      <td>Order</td>\n",
       "    </tr>\n",
       "    <tr>\n",
       "      <th>71</th>\n",
       "      <td>I wanna order a large chicken pizza and a Coca.</td>\n",
       "      <td>Sure, one large chicken pizza and one Coca are...</td>\n",
       "      <td>order - pizza</td>\n",
       "      <td>Order</td>\n",
       "    </tr>\n",
       "    <tr>\n",
       "      <th>72</th>\n",
       "      <td>Two large veg pizzas, please.</td>\n",
       "      <td>Sure, one large veg pizza is in your order. Wh...</td>\n",
       "      <td>order - pizza</td>\n",
       "      <td>Order</td>\n",
       "    </tr>\n",
       "    <tr>\n",
       "      <th>73</th>\n",
       "      <td>One chicken pizza, please.</td>\n",
       "      <td>Sure, one chicken pizza is in your order. Wher...</td>\n",
       "      <td>order - pizza</td>\n",
       "      <td>Order</td>\n",
       "    </tr>\n",
       "    <tr>\n",
       "      <th>74</th>\n",
       "      <td>Five small vegetarian pizzas plz.</td>\n",
       "      <td>Sure, five small vegetarian is in your order. ...</td>\n",
       "      <td>order - pizza</td>\n",
       "      <td>Order</td>\n",
       "    </tr>\n",
       "  </tbody>\n",
       "</table>\n",
       "<p>75 rows × 4 columns</p>\n",
       "</div>"
      ],
      "text/plain": [
       "                                           Question  \\\n",
       "0                                                Hi   \n",
       "1                                               Hey   \n",
       "2                                       How are you   \n",
       "3                                  Is anyone there?   \n",
       "4                                             Hello   \n",
       "..                                              ...   \n",
       "70           A small chicken pizza and a Pepsi plz.   \n",
       "71  I wanna order a large chicken pizza and a Coca.   \n",
       "72                    Two large veg pizzas, please.   \n",
       "73                       One chicken pizza, please.   \n",
       "74                Five small vegetarian pizzas plz.   \n",
       "\n",
       "                                               Answer         Intent      tag  \n",
       "0                                             Hey :-)       greeting  Welcome  \n",
       "1                          Hello, thanks for visiting       greeting  Welcome  \n",
       "2                    Hi there, what can I do for you?       greeting  Welcome  \n",
       "3                           Hi there, how can I help?       greeting  Welcome  \n",
       "4                   Is there anything I can help you.       greeting  Welcome  \n",
       "..                                                ...            ...      ...  \n",
       "70  Sure, one small chicken pizza and one Pepsi ar...  order - pizza    Order  \n",
       "71  Sure, one large chicken pizza and one Coca are...  order - pizza    Order  \n",
       "72  Sure, one large veg pizza is in your order. Wh...  order - pizza    Order  \n",
       "73  Sure, one chicken pizza is in your order. Wher...  order - pizza    Order  \n",
       "74  Sure, five small vegetarian is in your order. ...  order - pizza    Order  \n",
       "\n",
       "[75 rows x 4 columns]"
      ]
     },
     "execution_count": 2,
     "metadata": {},
     "output_type": "execute_result"
    }
   ],
   "source": [
    "data"
   ]
  },
  {
   "cell_type": "code",
   "execution_count": 3,
   "id": "60432f31",
   "metadata": {},
   "outputs": [],
   "source": [
    "temp = pd.DataFrame()\n",
    "temp['Question'] = data['Answer']\n",
    "temp['tag'] = data['tag']"
   ]
  },
  {
   "cell_type": "code",
   "execution_count": 4,
   "id": "c7fae1a3",
   "metadata": {},
   "outputs": [
    {
     "name": "stderr",
     "output_type": "stream",
     "text": [
      "C:\\Users\\Wu\\AppData\\Local\\Temp/ipykernel_11944/2506823793.py:2: FutureWarning: The frame.append method is deprecated and will be removed from pandas in a future version. Use pandas.concat instead.\n",
      "  data = data.append(temp,ignore_index=True)\n"
     ]
    }
   ],
   "source": [
    "data = data.drop([\"Answer\"],axis = 1)\n",
    "data = data.append(temp,ignore_index=True)"
   ]
  },
  {
   "cell_type": "code",
   "execution_count": 5,
   "id": "b4630768",
   "metadata": {},
   "outputs": [],
   "source": [
    "data = data.rename(columns={'Question':'text'})"
   ]
  },
  {
   "cell_type": "code",
   "execution_count": 6,
   "id": "51f0cd3c",
   "metadata": {},
   "outputs": [],
   "source": [
    "import re\n",
    "import nltk\n",
    "def utils_preprocess_text(text, flg_lemm=True,lst_stopwords=None):\n",
    "    ## clean (convert to lowercase and remove punctuations and characters and then strip)\n",
    "    text = re.sub(r'[^\\w\\s]', '', str(text).lower().strip())\n",
    "            \n",
    "    ## Tokenize (convert from string to list)\n",
    "    lst_text = text.split()\n",
    "    ## remove Stopwords\n",
    "    if lst_stopwords is not None:\n",
    "        lst_text = [word for word in lst_text if word not in \n",
    "                    lst_stopwords]\n",
    "                \n",
    "                \n",
    "    ## Lemmatisation (convert the word into root word)\n",
    "    if flg_lemm == True:\n",
    "        lem = nltk.stem.wordnet.WordNetLemmatizer()\n",
    "        lst_text = [lem.lemmatize(word) for word in lst_text]\n",
    "            \n",
    "    ## back to string from list\n",
    "    text = \" \".join(lst_text)\n",
    "    return text"
   ]
  },
  {
   "cell_type": "code",
   "execution_count": 7,
   "id": "20e82d07",
   "metadata": {},
   "outputs": [
    {
     "data": {
      "text/html": [
       "<div>\n",
       "<style scoped>\n",
       "    .dataframe tbody tr th:only-of-type {\n",
       "        vertical-align: middle;\n",
       "    }\n",
       "\n",
       "    .dataframe tbody tr th {\n",
       "        vertical-align: top;\n",
       "    }\n",
       "\n",
       "    .dataframe thead th {\n",
       "        text-align: right;\n",
       "    }\n",
       "</style>\n",
       "<table border=\"1\" class=\"dataframe\">\n",
       "  <thead>\n",
       "    <tr style=\"text-align: right;\">\n",
       "      <th></th>\n",
       "      <th>text</th>\n",
       "      <th>Intent</th>\n",
       "      <th>tag</th>\n",
       "      <th>text_clean</th>\n",
       "    </tr>\n",
       "  </thead>\n",
       "  <tbody>\n",
       "    <tr>\n",
       "      <th>0</th>\n",
       "      <td>Hi</td>\n",
       "      <td>greeting</td>\n",
       "      <td>Welcome</td>\n",
       "      <td>hi</td>\n",
       "    </tr>\n",
       "    <tr>\n",
       "      <th>1</th>\n",
       "      <td>Hey</td>\n",
       "      <td>greeting</td>\n",
       "      <td>Welcome</td>\n",
       "      <td>hey</td>\n",
       "    </tr>\n",
       "    <tr>\n",
       "      <th>2</th>\n",
       "      <td>How are you</td>\n",
       "      <td>greeting</td>\n",
       "      <td>Welcome</td>\n",
       "      <td></td>\n",
       "    </tr>\n",
       "    <tr>\n",
       "      <th>3</th>\n",
       "      <td>Is anyone there?</td>\n",
       "      <td>greeting</td>\n",
       "      <td>Welcome</td>\n",
       "      <td>anyone</td>\n",
       "    </tr>\n",
       "    <tr>\n",
       "      <th>4</th>\n",
       "      <td>Hello</td>\n",
       "      <td>greeting</td>\n",
       "      <td>Welcome</td>\n",
       "      <td>hello</td>\n",
       "    </tr>\n",
       "    <tr>\n",
       "      <th>...</th>\n",
       "      <td>...</td>\n",
       "      <td>...</td>\n",
       "      <td>...</td>\n",
       "      <td>...</td>\n",
       "    </tr>\n",
       "    <tr>\n",
       "      <th>145</th>\n",
       "      <td>Sure, one small chicken pizza and one Pepsi ar...</td>\n",
       "      <td>NaN</td>\n",
       "      <td>Order</td>\n",
       "      <td>sure one small chicken pizza one pepsi order d...</td>\n",
       "    </tr>\n",
       "    <tr>\n",
       "      <th>146</th>\n",
       "      <td>Sure, one large chicken pizza and one Coca are...</td>\n",
       "      <td>NaN</td>\n",
       "      <td>Order</td>\n",
       "      <td>sure one large chicken pizza one coca order de...</td>\n",
       "    </tr>\n",
       "    <tr>\n",
       "      <th>147</th>\n",
       "      <td>Sure, one large veg pizza is in your order. Wh...</td>\n",
       "      <td>NaN</td>\n",
       "      <td>Order</td>\n",
       "      <td>sure one large veg pizza order deliver</td>\n",
       "    </tr>\n",
       "    <tr>\n",
       "      <th>148</th>\n",
       "      <td>Sure, one chicken pizza is in your order. Wher...</td>\n",
       "      <td>NaN</td>\n",
       "      <td>Order</td>\n",
       "      <td>sure one chicken pizza order deliver</td>\n",
       "    </tr>\n",
       "    <tr>\n",
       "      <th>149</th>\n",
       "      <td>Sure, five small vegetarian is in your order. ...</td>\n",
       "      <td>NaN</td>\n",
       "      <td>Order</td>\n",
       "      <td>sure five small vegetarian order deliver</td>\n",
       "    </tr>\n",
       "  </tbody>\n",
       "</table>\n",
       "<p>150 rows × 4 columns</p>\n",
       "</div>"
      ],
      "text/plain": [
       "                                                  text    Intent      tag  \\\n",
       "0                                                   Hi  greeting  Welcome   \n",
       "1                                                  Hey  greeting  Welcome   \n",
       "2                                          How are you  greeting  Welcome   \n",
       "3                                     Is anyone there?  greeting  Welcome   \n",
       "4                                                Hello  greeting  Welcome   \n",
       "..                                                 ...       ...      ...   \n",
       "145  Sure, one small chicken pizza and one Pepsi ar...       NaN    Order   \n",
       "146  Sure, one large chicken pizza and one Coca are...       NaN    Order   \n",
       "147  Sure, one large veg pizza is in your order. Wh...       NaN    Order   \n",
       "148  Sure, one chicken pizza is in your order. Wher...       NaN    Order   \n",
       "149  Sure, five small vegetarian is in your order. ...       NaN    Order   \n",
       "\n",
       "                                            text_clean  \n",
       "0                                                   hi  \n",
       "1                                                  hey  \n",
       "2                                                       \n",
       "3                                               anyone  \n",
       "4                                                hello  \n",
       "..                                                 ...  \n",
       "145  sure one small chicken pizza one pepsi order d...  \n",
       "146  sure one large chicken pizza one coca order de...  \n",
       "147             sure one large veg pizza order deliver  \n",
       "148               sure one chicken pizza order deliver  \n",
       "149           sure five small vegetarian order deliver  \n",
       "\n",
       "[150 rows x 4 columns]"
      ]
     },
     "execution_count": 7,
     "metadata": {},
     "output_type": "execute_result"
    }
   ],
   "source": [
    "lst_stopwords = nltk.corpus.stopwords.words(\"english\")\n",
    "\n",
    "data[\"text_clean\"] = data[\"text\"].apply(lambda x: utils_preprocess_text(x, flg_lemm=True,lst_stopwords = lst_stopwords))\n",
    "data"
   ]
  },
  {
   "cell_type": "code",
   "execution_count": 8,
   "id": "87803f96",
   "metadata": {},
   "outputs": [],
   "source": [
    "from sklearn.feature_extraction.text import CountVectorizer\n",
    "from sklearn.feature_extraction.text import TfidfVectorizer\n",
    "count_vect = CountVectorizer()\n",
    "tfidf_vect = TfidfVectorizer()\n",
    "\n",
    "#text_vect = count_vect.fit_transform(data[\"text_clean\"])\n",
    "text_vect = tfidf_vect.fit_transform(data[\"text_clean\"])"
   ]
  },
  {
   "cell_type": "code",
   "execution_count": 9,
   "id": "38c4f13a",
   "metadata": {},
   "outputs": [],
   "source": [
    "from sklearn.model_selection import train_test_split\n",
    "\n",
    "x_train, x_test, y_train, y_test = train_test_split(text_vect, data[\"tag\"], test_size = 0.3, random_state = 0)"
   ]
  },
  {
   "cell_type": "code",
   "execution_count": 10,
   "id": "428e48a0",
   "metadata": {},
   "outputs": [
    {
     "name": "stdout",
     "output_type": "stream",
     "text": [
      "Training accuracy is 1.00 and test accuracy is 0.98\n"
     ]
    }
   ],
   "source": [
    "# Apply linear SVM model\n",
    "from sklearn.svm import LinearSVC\n",
    "\n",
    "svc = LinearSVC(C=1.5, penalty='l2').fit(x_train, y_train)\n",
    "print('Training accuracy is %.2f and test accuracy is %.2f' %(svc.score(x_train,y_train),svc.score(x_test,y_test)))"
   ]
  },
  {
   "cell_type": "code",
   "execution_count": 11,
   "id": "a98a1c44",
   "metadata": {},
   "outputs": [
    {
     "name": "stdout",
     "output_type": "stream",
     "text": [
      "[[ 6  0  0  0  0  0  0]\n",
      " [ 0  1  0  0  0  0  0]\n",
      " [ 0  0 13  0  0  0  0]\n",
      " [ 0  0  0  4  0  0  0]\n",
      " [ 0  1  0  0  3  0  0]\n",
      " [ 0  0  0  0  0  8  0]\n",
      " [ 0  0  0  0  0  0  9]]\n"
     ]
    }
   ],
   "source": [
    "from sklearn.metrics import confusion_matrix \n",
    "import numpy as np\n",
    "\n",
    "cm_svc = confusion_matrix(y_test, svc.predict(x_test))\n",
    "print(cm_svc)"
   ]
  },
  {
   "cell_type": "code",
   "execution_count": 12,
   "id": "31b00e9c",
   "metadata": {},
   "outputs": [
    {
     "data": {
      "text/plain": [
       "<AxesSubplot:>"
      ]
     },
     "execution_count": 12,
     "metadata": {},
     "output_type": "execute_result"
    },
    {
     "data": {
      "image/png": "[encoded data removed]",
      "text/plain": [
       "<Figure size 432x288 with 2 Axes>"
      ]
     },
     "metadata": {
      "needs_background": "light"
     },
     "output_type": "display_data"
    }
   ],
   "source": [
    "import numpy as np\n",
    "import seaborn as sns\n",
    "sns.heatmap(cm_svc, annot=True, \n",
    "             cmap='Blues')"
   ]
  },
  {
   "cell_type": "code",
   "execution_count": 13,
   "id": "89d2926e",
   "metadata": {},
   "outputs": [
    {
     "name": "stdout",
     "output_type": "stream",
     "text": [
      "                precision    recall  f1-score   support\n",
      "\n",
      "       Booking       1.00      1.00      1.00         6\n",
      "      Delivery       0.50      1.00      0.67         1\n",
      "          Food       1.00      1.00      1.00        13\n",
      "         Order       1.00      1.00      1.00         4\n",
      "       Payment       1.00      0.75      0.86         4\n",
      "Price and Size       1.00      1.00      1.00         8\n",
      "       Welcome       1.00      1.00      1.00         9\n",
      "\n",
      "      accuracy                           0.98        45\n",
      "     macro avg       0.93      0.96      0.93        45\n",
      "  weighted avg       0.99      0.98      0.98        45\n",
      "\n"
     ]
    }
   ],
   "source": [
    "from sklearn import metrics\n",
    "print(metrics.classification_report(y_test, svc.predict(x_test)))"
   ]
  },
  {
   "cell_type": "code",
   "execution_count": 14,
   "id": "5d25054d",
   "metadata": {},
   "outputs": [
    {
     "name": "stdout",
     "output_type": "stream",
     "text": [
      "Training accuracy is 0.69 and test accuracy is 0.69\n"
     ]
    }
   ],
   "source": [
    "# Apply decision tree model\n",
    "from sklearn.tree import DecisionTreeClassifier\n",
    "dt = DecisionTreeClassifier(max_depth=5)  # build the model\n",
    "dt.fit(x_train, y_train)\n",
    "print('Training accuracy is %.2f and test accuracy is %.2f' %(dt.score(x_train, y_train),dt.score(x_test, y_test)))"
   ]
  },
  {
   "cell_type": "code",
   "execution_count": 15,
   "id": "af172608",
   "metadata": {},
   "outputs": [
    {
     "name": "stdout",
     "output_type": "stream",
     "text": [
      "[[ 5  0  0  0  0  0  1]\n",
      " [ 0  0  0  0  0  0  1]\n",
      " [ 0  0 10  0  0  0  3]\n",
      " [ 0  0  1  2  0  0  1]\n",
      " [ 0  0  0  1  2  0  1]\n",
      " [ 0  0  5  0  0  3  0]\n",
      " [ 0  0  0  0  0  0  9]]\n"
     ]
    }
   ],
   "source": [
    "from sklearn.metrics import confusion_matrix \n",
    "import numpy as np\n",
    "\n",
    "cm_dt = confusion_matrix(y_test, dt.predict(x_test))\n",
    "print(cm_dt)"
   ]
  },
  {
   "cell_type": "code",
   "execution_count": 16,
   "id": "c699adcd",
   "metadata": {},
   "outputs": [
    {
     "data": {
      "text/plain": [
       "<AxesSubplot:>"
      ]
     },
     "execution_count": 16,
     "metadata": {},
     "output_type": "execute_result"
    },
    {
     "data": {
      "image/png": "[encoded data removed]",
      "text/plain": [
       "<Figure size 432x288 with 2 Axes>"
      ]
     },
     "metadata": {
      "needs_background": "light"
     },
     "output_type": "display_data"
    }
   ],
   "source": [
    "import numpy as np\n",
    "import seaborn as sns\n",
    "sns.heatmap(cm_dt, annot=True, \n",
    "             cmap='Blues')"
   ]
  },
  {
   "cell_type": "code",
   "execution_count": 17,
   "id": "a17dd059",
   "metadata": {},
   "outputs": [
    {
     "name": "stdout",
     "output_type": "stream",
     "text": [
      "                precision    recall  f1-score   support\n",
      "\n",
      "       Booking       1.00      0.83      0.91         6\n",
      "      Delivery       0.00      0.00      0.00         1\n",
      "          Food       0.62      0.77      0.69        13\n",
      "         Order       0.67      0.50      0.57         4\n",
      "       Payment       1.00      0.50      0.67         4\n",
      "Price and Size       1.00      0.38      0.55         8\n",
      "       Welcome       0.56      1.00      0.72         9\n",
      "\n",
      "      accuracy                           0.69        45\n",
      "     macro avg       0.69      0.57      0.59        45\n",
      "  weighted avg       0.75      0.69      0.67        45\n",
      "\n"
     ]
    },
    {
     "name": "stderr",
     "output_type": "stream",
     "text": [
      "C:\\Users\\Wu\\anaconda3\\lib\\site-packages\\sklearn\\metrics\\_classification.py:1245: UndefinedMetricWarning: Precision and F-score are ill-defined and being set to 0.0 in labels with no predicted samples. Use `zero_division` parameter to control this behavior.\n",
      "  _warn_prf(average, modifier, msg_start, len(result))\n",
      "C:\\Users\\Wu\\anaconda3\\lib\\site-packages\\sklearn\\metrics\\_classification.py:1245: UndefinedMetricWarning: Precision and F-score are ill-defined and being set to 0.0 in labels with no predicted samples. Use `zero_division` parameter to control this behavior.\n",
      "  _warn_prf(average, modifier, msg_start, len(result))\n",
      "C:\\Users\\Wu\\anaconda3\\lib\\site-packages\\sklearn\\metrics\\_classification.py:1245: UndefinedMetricWarning: Precision and F-score are ill-defined and being set to 0.0 in labels with no predicted samples. Use `zero_division` parameter to control this behavior.\n",
      "  _warn_prf(average, modifier, msg_start, len(result))\n"
     ]
    }
   ],
   "source": [
    "from sklearn import metrics\n",
    "print(metrics.classification_report(y_test, dt.predict(x_test)))"
   ]
  },
  {
   "cell_type": "code",
   "execution_count": 18,
   "id": "830a8bcf",
   "metadata": {},
   "outputs": [
    {
     "name": "stdout",
     "output_type": "stream",
     "text": [
      "Training accuracy is 1.00 and test accuracy is 0.78\n"
     ]
    }
   ],
   "source": [
    "# Apply GradientBoosting model\n",
    "from sklearn.ensemble import GradientBoostingClassifier\n",
    "gbrt = GradientBoostingClassifier(random_state=0)\n",
    "gbrt.fit(x_train, y_train)\n",
    "print('Training accuracy is %.2f and test accuracy is %.2f' %(gbrt.score(x_train, y_train),gbrt.score(x_test, y_test)))"
   ]
  },
  {
   "cell_type": "code",
   "execution_count": 19,
   "id": "939f7228",
   "metadata": {},
   "outputs": [
    {
     "name": "stdout",
     "output_type": "stream",
     "text": [
      "[[5 0 0 0 0 0 1]\n",
      " [0 1 0 0 0 0 0]\n",
      " [0 2 9 0 0 0 2]\n",
      " [0 0 0 4 0 0 0]\n",
      " [0 1 0 0 2 0 1]\n",
      " [0 0 3 0 0 5 0]\n",
      " [0 0 0 0 0 0 9]]\n"
     ]
    }
   ],
   "source": [
    "cm_gbrt = confusion_matrix(y_test, gbrt.predict(x_test))\n",
    "print(cm_gbrt)"
   ]
  },
  {
   "cell_type": "code",
   "execution_count": 20,
   "id": "149942f4",
   "metadata": {},
   "outputs": [
    {
     "data": {
      "text/plain": [
       "<AxesSubplot:>"
      ]
     },
     "execution_count": 20,
     "metadata": {},
     "output_type": "execute_result"
    },
    {
     "data": {
      "image/png": "[encoded data removed]",
      "text/plain": [
       "<Figure size 432x288 with 2 Axes>"
      ]
     },
     "metadata": {
      "needs_background": "light"
     },
     "output_type": "display_data"
    }
   ],
   "source": [
    "sns.heatmap(cm_gbrt, annot=True, \n",
    "             cmap='Blues')"
   ]
  },
  {
   "cell_type": "code",
   "execution_count": 21,
   "id": "0691b62e",
   "metadata": {},
   "outputs": [
    {
     "name": "stdout",
     "output_type": "stream",
     "text": [
      "                precision    recall  f1-score   support\n",
      "\n",
      "       Booking       1.00      0.83      0.91         6\n",
      "      Delivery       0.25      1.00      0.40         1\n",
      "          Food       0.75      0.69      0.72        13\n",
      "         Order       1.00      1.00      1.00         4\n",
      "       Payment       1.00      0.50      0.67         4\n",
      "Price and Size       1.00      0.62      0.77         8\n",
      "       Welcome       0.69      1.00      0.82         9\n",
      "\n",
      "      accuracy                           0.78        45\n",
      "     macro avg       0.81      0.81      0.75        45\n",
      "  weighted avg       0.85      0.78      0.79        45\n",
      "\n"
     ]
    }
   ],
   "source": [
    "print(metrics.classification_report(y_test, gbrt.predict(x_test)))"
   ]
  },
  {
   "cell_type": "code",
   "execution_count": 22,
   "id": "007c7d0b",
   "metadata": {},
   "outputs": [
    {
     "name": "stdout",
     "output_type": "stream",
     "text": [
      "Training accuracy is 1.00 and test accuracy is 0.87\n"
     ]
    }
   ],
   "source": [
    "# Apply KNN model\n",
    "from sklearn.neighbors import KNeighborsClassifier\n",
    "\n",
    "KNN = KNeighborsClassifier(n_neighbors=1)\n",
    "KNN.fit(x_train, y_train)\n",
    "print('Training accuracy is %.2f and test accuracy is %.2f' %(KNN.score(x_train, y_train),KNN.score(x_test, y_test)))"
   ]
  },
  {
   "cell_type": "code",
   "execution_count": 23,
   "id": "eac41357",
   "metadata": {},
   "outputs": [
    {
     "name": "stdout",
     "output_type": "stream",
     "text": [
      "[[ 5  0  0  1  0  0  0]\n",
      " [ 0  1  0  0  0  0  0]\n",
      " [ 0  2 11  0  0  0  0]\n",
      " [ 0  0  0  4  0  0  0]\n",
      " [ 0  1  0  0  3  0  0]\n",
      " [ 0  0  0  0  0  8  0]\n",
      " [ 0  0  0  2  0  0  7]]\n"
     ]
    }
   ],
   "source": [
    "cm_KNN = confusion_matrix(y_test, KNN.predict(x_test))\n",
    "print(cm_KNN)"
   ]
  },
  {
   "cell_type": "code",
   "execution_count": 24,
   "id": "801c0b31",
   "metadata": {},
   "outputs": [
    {
     "data": {
      "text/plain": [
       "<AxesSubplot:>"
      ]
     },
     "execution_count": 24,
     "metadata": {},
     "output_type": "execute_result"
    },
    {
     "data": {
      "image/png": "[encoded data removed]",
      "text/plain": [
       "<Figure size 432x288 with 2 Axes>"
      ]
     },
     "metadata": {
      "needs_background": "light"
     },
     "output_type": "display_data"
    }
   ],
   "source": [
    "sns.heatmap(cm_KNN, annot=True, \n",
    "             cmap='Blues')"
   ]
  },
  {
   "cell_type": "code",
   "execution_count": 25,
   "id": "6f109879",
   "metadata": {
    "scrolled": true
   },
   "outputs": [
    {
     "name": "stdout",
     "output_type": "stream",
     "text": [
      "                precision    recall  f1-score   support\n",
      "\n",
      "       Booking       1.00      0.83      0.91         6\n",
      "      Delivery       0.25      1.00      0.40         1\n",
      "          Food       1.00      0.85      0.92        13\n",
      "         Order       0.57      1.00      0.73         4\n",
      "       Payment       1.00      0.75      0.86         4\n",
      "Price and Size       1.00      1.00      1.00         8\n",
      "       Welcome       1.00      0.78      0.88         9\n",
      "\n",
      "      accuracy                           0.87        45\n",
      "     macro avg       0.83      0.89      0.81        45\n",
      "  weighted avg       0.95      0.87      0.89        45\n",
      "\n"
     ]
    }
   ],
   "source": [
    "print(metrics.classification_report(y_test, KNN.predict(x_test)))"
   ]
  },
  {
   "cell_type": "code",
   "execution_count": 26,
   "id": "3885de9f",
   "metadata": {},
   "outputs": [
    {
     "data": {
      "text/html": [
       "<div>\n",
       "<style scoped>\n",
       "    .dataframe tbody tr th:only-of-type {\n",
       "        vertical-align: middle;\n",
       "    }\n",
       "\n",
       "    .dataframe tbody tr th {\n",
       "        vertical-align: top;\n",
       "    }\n",
       "\n",
       "    .dataframe thead th {\n",
       "        text-align: right;\n",
       "    }\n",
       "</style>\n",
       "<table border=\"1\" class=\"dataframe\">\n",
       "  <thead>\n",
       "    <tr style=\"text-align: right;\">\n",
       "      <th></th>\n",
       "      <th>text</th>\n",
       "      <th>Intent</th>\n",
       "      <th>tag</th>\n",
       "      <th>text_clean</th>\n",
       "    </tr>\n",
       "  </thead>\n",
       "  <tbody>\n",
       "    <tr>\n",
       "      <th>0</th>\n",
       "      <td>Hi</td>\n",
       "      <td>greeting</td>\n",
       "      <td>Welcome</td>\n",
       "      <td>hi</td>\n",
       "    </tr>\n",
       "    <tr>\n",
       "      <th>1</th>\n",
       "      <td>Hey</td>\n",
       "      <td>greeting</td>\n",
       "      <td>Welcome</td>\n",
       "      <td>hey</td>\n",
       "    </tr>\n",
       "    <tr>\n",
       "      <th>2</th>\n",
       "      <td>How are you</td>\n",
       "      <td>greeting</td>\n",
       "      <td>Welcome</td>\n",
       "      <td></td>\n",
       "    </tr>\n",
       "    <tr>\n",
       "      <th>3</th>\n",
       "      <td>Is anyone there?</td>\n",
       "      <td>greeting</td>\n",
       "      <td>Welcome</td>\n",
       "      <td>anyone</td>\n",
       "    </tr>\n",
       "    <tr>\n",
       "      <th>4</th>\n",
       "      <td>Hello</td>\n",
       "      <td>greeting</td>\n",
       "      <td>Welcome</td>\n",
       "      <td>hello</td>\n",
       "    </tr>\n",
       "    <tr>\n",
       "      <th>...</th>\n",
       "      <td>...</td>\n",
       "      <td>...</td>\n",
       "      <td>...</td>\n",
       "      <td>...</td>\n",
       "    </tr>\n",
       "    <tr>\n",
       "      <th>145</th>\n",
       "      <td>Sure, one small chicken pizza and one Pepsi ar...</td>\n",
       "      <td>NaN</td>\n",
       "      <td>Order</td>\n",
       "      <td>sure one small chicken pizza one pepsi order d...</td>\n",
       "    </tr>\n",
       "    <tr>\n",
       "      <th>146</th>\n",
       "      <td>Sure, one large chicken pizza and one Coca are...</td>\n",
       "      <td>NaN</td>\n",
       "      <td>Order</td>\n",
       "      <td>sure one large chicken pizza one coca order de...</td>\n",
       "    </tr>\n",
       "    <tr>\n",
       "      <th>147</th>\n",
       "      <td>Sure, one large veg pizza is in your order. Wh...</td>\n",
       "      <td>NaN</td>\n",
       "      <td>Order</td>\n",
       "      <td>sure one large veg pizza order deliver</td>\n",
       "    </tr>\n",
       "    <tr>\n",
       "      <th>148</th>\n",
       "      <td>Sure, one chicken pizza is in your order. Wher...</td>\n",
       "      <td>NaN</td>\n",
       "      <td>Order</td>\n",
       "      <td>sure one chicken pizza order deliver</td>\n",
       "    </tr>\n",
       "    <tr>\n",
       "      <th>149</th>\n",
       "      <td>Sure, five small vegetarian is in your order. ...</td>\n",
       "      <td>NaN</td>\n",
       "      <td>Order</td>\n",
       "      <td>sure five small vegetarian order deliver</td>\n",
       "    </tr>\n",
       "  </tbody>\n",
       "</table>\n",
       "<p>150 rows × 4 columns</p>\n",
       "</div>"
      ],
      "text/plain": [
       "                                                  text    Intent      tag  \\\n",
       "0                                                   Hi  greeting  Welcome   \n",
       "1                                                  Hey  greeting  Welcome   \n",
       "2                                          How are you  greeting  Welcome   \n",
       "3                                     Is anyone there?  greeting  Welcome   \n",
       "4                                                Hello  greeting  Welcome   \n",
       "..                                                 ...       ...      ...   \n",
       "145  Sure, one small chicken pizza and one Pepsi ar...       NaN    Order   \n",
       "146  Sure, one large chicken pizza and one Coca are...       NaN    Order   \n",
       "147  Sure, one large veg pizza is in your order. Wh...       NaN    Order   \n",
       "148  Sure, one chicken pizza is in your order. Wher...       NaN    Order   \n",
       "149  Sure, five small vegetarian is in your order. ...       NaN    Order   \n",
       "\n",
       "                                            text_clean  \n",
       "0                                                   hi  \n",
       "1                                                  hey  \n",
       "2                                                       \n",
       "3                                               anyone  \n",
       "4                                                hello  \n",
       "..                                                 ...  \n",
       "145  sure one small chicken pizza one pepsi order d...  \n",
       "146  sure one large chicken pizza one coca order de...  \n",
       "147             sure one large veg pizza order deliver  \n",
       "148               sure one chicken pizza order deliver  \n",
       "149           sure five small vegetarian order deliver  \n",
       "\n",
       "[150 rows x 4 columns]"
      ]
     },
     "execution_count": 26,
     "metadata": {},
     "output_type": "execute_result"
    }
   ],
   "source": [
    "data"
   ]
  },
  {
   "cell_type": "code",
   "execution_count": 27,
   "id": "8fea272f",
   "metadata": {},
   "outputs": [],
   "source": [
    "# Clustering\n",
    "\n",
    "from sklearn.manifold import TSNE\n",
    "\n",
    "vect_weight = text_vect.toarray()\n",
    "tsne = TSNE(n_components=2)\n",
    "decomposition_data = tsne.fit_transform(vect_weight)"
   ]
  },
  {
   "cell_type": "code",
   "execution_count": 28,
   "id": "fe937931",
   "metadata": {},
   "outputs": [
    {
     "data": {
      "text/plain": [
       "array([[ -69.52469   ,   -5.552261  ],\n",
       "       [  90.960915  ,   54.27574   ],\n",
       "       [ -22.131166  ,  -16.093529  ],\n",
       "       [ -15.242271  ,  -21.898476  ],\n",
       "       [ -98.54915   ,  -17.056921  ],\n",
       "       [ -47.2639    ,   20.984833  ],\n",
       "       [ -49.87341   ,  -11.496665  ],\n",
       "       [  34.10171   ,   86.27371   ],\n",
       "       [ -17.696577  ,  109.1744    ],\n",
       "       [ -16.2938    ,  114.70915   ],\n",
       "       [  15.066331  ,   94.62648   ],\n",
       "       [ -31.619322  ,  -50.17133   ],\n",
       "       [ -51.06653   ,   68.07895   ],\n",
       "       [  10.194567  ,   99.31955   ],\n",
       "       [  54.47947   ,  -49.660725  ],\n",
       "       [  87.97722   ,  -13.72067   ],\n",
       "       [   7.898149  ,  -41.10743   ],\n",
       "       [   2.3571186 ,  -35.495922  ],\n",
       "       [  56.31489   ,   -3.4291925 ],\n",
       "       [  85.805954  ,  -20.200504  ],\n",
       "       [ -33.289448  ,  -34.406067  ],\n",
       "       [ -19.444357  ,  -63.339626  ],\n",
       "       [   7.4036827 ,   -1.2792796 ],\n",
       "       [ -40.025497  ,  -64.16701   ],\n",
       "       [  79.857216  ,  -14.694362  ],\n",
       "       [  51.8124    ,    1.1373827 ],\n",
       "       [  -0.6897674 ,  -29.962358  ],\n",
       "       [  13.242885  ,   -1.162842  ],\n",
       "       [  24.566181  ,  -61.962833  ],\n",
       "       [  23.513517  ,  -67.54508   ],\n",
       "       [  82.48746   ,   17.108662  ],\n",
       "       [ -15.593981  ,  -57.32243   ],\n",
       "       [ -12.542691  ,  -49.909058  ],\n",
       "       [   3.3308194 ,  -53.962055  ],\n",
       "       [ -15.9067    ,  -41.350246  ],\n",
       "       [  -4.2860084 ,  -52.173004  ],\n",
       "       [  87.040054  ,   22.96594   ],\n",
       "       [  -0.53498495,   11.390837  ],\n",
       "       [  -5.135163  ,    5.4354463 ],\n",
       "       [ -26.39397   ,   34.63986   ],\n",
       "       [  45.97361   ,  -26.572216  ],\n",
       "       [ -38.472137  ,   39.029053  ],\n",
       "       [ -18.291103  ,   31.989098  ],\n",
       "       [  46.250305  ,  -17.739443  ],\n",
       "       [ -24.67074   ,   42.193882  ],\n",
       "       [  39.314938  ,  -25.586313  ],\n",
       "       [ -36.282753  ,   45.307823  ],\n",
       "       [ -16.447426  ,   40.06937   ],\n",
       "       [  38.007126  ,  -16.726746  ],\n",
       "       [  76.36223   ,   60.651703  ],\n",
       "       [  39.75211   ,  -77.73038   ],\n",
       "       [ -81.23567   ,  -38.93293   ],\n",
       "       [ -55.913918  ,  -43.298607  ],\n",
       "       [ -44.727036  ,  -24.880054  ],\n",
       "       [ -58.890278  ,   29.72311   ],\n",
       "       [  11.65769   ,   10.540409  ],\n",
       "       [ -55.33037   ,  -72.64583   ],\n",
       "       [ -45.50396   ,  -69.17355   ],\n",
       "       [ -86.18357   ,   55.40651   ],\n",
       "       [ -97.69952   ,   34.638035  ],\n",
       "       [ -65.159775  ,  -66.58909   ],\n",
       "       [-101.79168   ,   49.847176  ],\n",
       "       [ -95.5283    ,   46.28321   ],\n",
       "       [ -97.03669   ,   16.730354  ],\n",
       "       [ -22.526863  ,   62.939175  ],\n",
       "       [  27.4178    ,   33.345074  ],\n",
       "       [  34.22844   ,   53.966816  ],\n",
       "       [  43.301994  ,   57.62021   ],\n",
       "       [   4.2700963 ,   27.413094  ],\n",
       "       [  43.526287  ,   45.570187  ],\n",
       "       [  37.78917   ,   44.208305  ],\n",
       "       [  -0.8331937 ,   29.98749   ],\n",
       "       [  18.9358    ,   24.021086  ],\n",
       "       [  17.55023   ,   34.812202  ],\n",
       "       [ -26.719576  ,   16.955849  ],\n",
       "       [ -19.391066  ,   86.11012   ],\n",
       "       [ -92.50205   ,  -13.01144   ],\n",
       "       [ -65.04423   ,   -0.8304319 ],\n",
       "       [  41.6624    ,  -50.344177  ],\n",
       "       [  62.42433   ,  -58.586124  ],\n",
       "       [  42.599606  ,  -56.71798   ],\n",
       "       [  27.648972  ,   87.20042   ],\n",
       "       [ -40.155533  ,   20.90683   ],\n",
       "       [  58.699196  ,   61.33899   ],\n",
       "       [ -33.47121   ,  -20.3572    ],\n",
       "       [  52.3515    ,  -62.560165  ],\n",
       "       [ -28.860407  ,  -11.8502    ],\n",
       "       [ -23.73283   ,  -27.166353  ],\n",
       "       [ -47.830082  ,    1.2755709 ],\n",
       "       [  -7.743514  ,  -14.175586  ],\n",
       "       [  42.05683   ,   25.252758  ],\n",
       "       [  37.191273  ,   21.395115  ],\n",
       "       [  44.378906  ,   16.47529   ],\n",
       "       [  74.44089   ,   31.610216  ],\n",
       "       [  69.08939   ,   14.76243   ],\n",
       "       [  75.48245   ,   -2.7166662 ],\n",
       "       [  58.59285   ,    9.796285  ],\n",
       "       [  44.629246  ,   -1.607409  ],\n",
       "       [  66.11027   ,  -25.803988  ],\n",
       "       [  22.012772  ,    8.725721  ],\n",
       "       [  29.564579  ,   -3.060093  ],\n",
       "       [  64.588715  ,  -20.150995  ],\n",
       "       [  32.257523  ,    2.2970176 ],\n",
       "       [  66.78764   ,   22.764091  ],\n",
       "       [  60.37887   ,   29.160776  ],\n",
       "       [  57.537636  ,   22.180824  ],\n",
       "       [  25.53797   ,  -30.310492  ],\n",
       "       [  22.811487  ,  -19.919039  ],\n",
       "       [  14.17762   ,  -24.957382  ],\n",
       "       [  11.357368  ,  -15.804104  ],\n",
       "       [  18.575665  ,  -30.001682  ],\n",
       "       [  67.14812   ,   33.41671   ],\n",
       "       [ -14.137395  ,   13.00453   ],\n",
       "       [  -9.672095  ,   16.70734   ],\n",
       "       [  -4.7458525 ,  -88.3473    ],\n",
       "       [  -3.9959557 ,  -97.54305   ],\n",
       "       [  11.634014  , -104.8565    ],\n",
       "       [ -12.442003  ,  -83.79354   ],\n",
       "       [  16.894098  , -101.372765  ],\n",
       "       [   2.7123692 ,  -91.718956  ],\n",
       "       [ -11.67064   ,  -93.78848   ],\n",
       "       [  12.984542  ,  -88.04925   ],\n",
       "       [   3.4031246 ,  -83.03341   ],\n",
       "       [  -5.076147  ,  -78.89706   ],\n",
       "       [ -52.828075  ,  -34.176086  ],\n",
       "       [ -71.52236   ,  -27.901348  ],\n",
       "       [ -71.00275   ,  -45.02265   ],\n",
       "       [ -62.264786  ,  -31.423584  ],\n",
       "       [ -72.115005  ,  -35.79567   ],\n",
       "       [ -78.75392   ,  -30.855185  ],\n",
       "       [ -16.661016  ,   -6.269173  ],\n",
       "       [ -31.171717  ,   -0.8390502 ],\n",
       "       [ -23.25908   ,   -0.27188882],\n",
       "       [ -84.92444   ,    9.189497  ],\n",
       "       [ -82.09008   ,   29.808699  ],\n",
       "       [ -80.84859   ,   37.867115  ],\n",
       "       [ -89.960014  ,   29.1406    ],\n",
       "       [ -88.53077   ,   37.068687  ],\n",
       "       [ -91.86127   ,   10.996048  ],\n",
       "       [ -15.453326  ,   60.230473  ],\n",
       "       [  -0.42588726,   65.39669   ],\n",
       "       [  13.154214  ,   66.68639   ],\n",
       "       [   5.42247   ,   59.868404  ],\n",
       "       [   8.460804  ,   51.34777   ],\n",
       "       [  19.260283  ,   49.637318  ],\n",
       "       [  16.370672  ,   56.075222  ],\n",
       "       [  11.612844  ,   45.01138   ],\n",
       "       [  -1.878712  ,   50.870045  ],\n",
       "       [   2.954802  ,   43.934544  ],\n",
       "       [  -7.185421  ,   70.92756   ]], dtype=float32)"
      ]
     },
     "execution_count": 28,
     "metadata": {},
     "output_type": "execute_result"
    }
   ],
   "source": [
    "decomposition_data "
   ]
  },
  {
   "cell_type": "code",
   "execution_count": 29,
   "id": "ddc8a4ce",
   "metadata": {},
   "outputs": [
    {
     "data": {
      "text/html": [
       "<div>\n",
       "<style scoped>\n",
       "    .dataframe tbody tr th:only-of-type {\n",
       "        vertical-align: middle;\n",
       "    }\n",
       "\n",
       "    .dataframe tbody tr th {\n",
       "        vertical-align: top;\n",
       "    }\n",
       "\n",
       "    .dataframe thead th {\n",
       "        text-align: right;\n",
       "    }\n",
       "</style>\n",
       "<table border=\"1\" class=\"dataframe\">\n",
       "  <thead>\n",
       "    <tr style=\"text-align: right;\">\n",
       "      <th></th>\n",
       "      <th>text</th>\n",
       "      <th>Intent</th>\n",
       "      <th>tag</th>\n",
       "      <th>text_clean</th>\n",
       "      <th>index</th>\n",
       "    </tr>\n",
       "  </thead>\n",
       "  <tbody>\n",
       "    <tr>\n",
       "      <th>0</th>\n",
       "      <td>Hi</td>\n",
       "      <td>greeting</td>\n",
       "      <td>Welcome</td>\n",
       "      <td>hi</td>\n",
       "      <td>0</td>\n",
       "    </tr>\n",
       "    <tr>\n",
       "      <th>1</th>\n",
       "      <td>Hey</td>\n",
       "      <td>greeting</td>\n",
       "      <td>Welcome</td>\n",
       "      <td>hey</td>\n",
       "      <td>0</td>\n",
       "    </tr>\n",
       "    <tr>\n",
       "      <th>2</th>\n",
       "      <td>How are you</td>\n",
       "      <td>greeting</td>\n",
       "      <td>Welcome</td>\n",
       "      <td></td>\n",
       "      <td>0</td>\n",
       "    </tr>\n",
       "    <tr>\n",
       "      <th>3</th>\n",
       "      <td>Is anyone there?</td>\n",
       "      <td>greeting</td>\n",
       "      <td>Welcome</td>\n",
       "      <td>anyone</td>\n",
       "      <td>0</td>\n",
       "    </tr>\n",
       "    <tr>\n",
       "      <th>4</th>\n",
       "      <td>Hello</td>\n",
       "      <td>greeting</td>\n",
       "      <td>Welcome</td>\n",
       "      <td>hello</td>\n",
       "      <td>0</td>\n",
       "    </tr>\n",
       "    <tr>\n",
       "      <th>...</th>\n",
       "      <td>...</td>\n",
       "      <td>...</td>\n",
       "      <td>...</td>\n",
       "      <td>...</td>\n",
       "      <td>...</td>\n",
       "    </tr>\n",
       "    <tr>\n",
       "      <th>145</th>\n",
       "      <td>Sure, one small chicken pizza and one Pepsi ar...</td>\n",
       "      <td>NaN</td>\n",
       "      <td>Order</td>\n",
       "      <td>sure one small chicken pizza one pepsi order d...</td>\n",
       "      <td>6</td>\n",
       "    </tr>\n",
       "    <tr>\n",
       "      <th>146</th>\n",
       "      <td>Sure, one large chicken pizza and one Coca are...</td>\n",
       "      <td>NaN</td>\n",
       "      <td>Order</td>\n",
       "      <td>sure one large chicken pizza one coca order de...</td>\n",
       "      <td>6</td>\n",
       "    </tr>\n",
       "    <tr>\n",
       "      <th>147</th>\n",
       "      <td>Sure, one large veg pizza is in your order. Wh...</td>\n",
       "      <td>NaN</td>\n",
       "      <td>Order</td>\n",
       "      <td>sure one large veg pizza order deliver</td>\n",
       "      <td>6</td>\n",
       "    </tr>\n",
       "    <tr>\n",
       "      <th>148</th>\n",
       "      <td>Sure, one chicken pizza is in your order. Wher...</td>\n",
       "      <td>NaN</td>\n",
       "      <td>Order</td>\n",
       "      <td>sure one chicken pizza order deliver</td>\n",
       "      <td>6</td>\n",
       "    </tr>\n",
       "    <tr>\n",
       "      <th>149</th>\n",
       "      <td>Sure, five small vegetarian is in your order. ...</td>\n",
       "      <td>NaN</td>\n",
       "      <td>Order</td>\n",
       "      <td>sure five small vegetarian order deliver</td>\n",
       "      <td>6</td>\n",
       "    </tr>\n",
       "  </tbody>\n",
       "</table>\n",
       "<p>150 rows × 5 columns</p>\n",
       "</div>"
      ],
      "text/plain": [
       "                                                  text    Intent      tag  \\\n",
       "0                                                   Hi  greeting  Welcome   \n",
       "1                                                  Hey  greeting  Welcome   \n",
       "2                                          How are you  greeting  Welcome   \n",
       "3                                     Is anyone there?  greeting  Welcome   \n",
       "4                                                Hello  greeting  Welcome   \n",
       "..                                                 ...       ...      ...   \n",
       "145  Sure, one small chicken pizza and one Pepsi ar...       NaN    Order   \n",
       "146  Sure, one large chicken pizza and one Coca are...       NaN    Order   \n",
       "147  Sure, one large veg pizza is in your order. Wh...       NaN    Order   \n",
       "148  Sure, one chicken pizza is in your order. Wher...       NaN    Order   \n",
       "149  Sure, five small vegetarian is in your order. ...       NaN    Order   \n",
       "\n",
       "                                            text_clean  index  \n",
       "0                                                   hi      0  \n",
       "1                                                  hey      0  \n",
       "2                                                           0  \n",
       "3                                               anyone      0  \n",
       "4                                                hello      0  \n",
       "..                                                 ...    ...  \n",
       "145  sure one small chicken pizza one pepsi order d...      6  \n",
       "146  sure one large chicken pizza one coca order de...      6  \n",
       "147             sure one large veg pizza order deliver      6  \n",
       "148               sure one chicken pizza order deliver      6  \n",
       "149           sure five small vegetarian order deliver      6  \n",
       "\n",
       "[150 rows x 5 columns]"
      ]
     },
     "execution_count": 29,
     "metadata": {},
     "output_type": "execute_result"
    }
   ],
   "source": [
    "# Map label into index for Kappa score\n",
    "Index = {\n",
    "    \"Welcome\":0,\n",
    "    \"Food\":1,\n",
    "    \"Price and Size\":2,\n",
    "    \"Payment\":3,\n",
    "    \"Delivery\":4,\n",
    "    'Booking':5,\n",
    "    'Order':6\n",
    "    \n",
    "}\n",
    "data[\"index\"] = data['tag'].map(Index)\n",
    "data"
   ]
  },
  {
   "cell_type": "code",
   "execution_count": null,
   "id": "9ca27311",
   "metadata": {},
   "outputs": [],
   "source": []
  },
  {
   "cell_type": "code",
   "execution_count": 30,
   "id": "61ea30a3",
   "metadata": {},
   "outputs": [],
   "source": [
    "label = data['index']"
   ]
  },
  {
   "cell_type": "code",
   "execution_count": 31,
   "id": "3cd93a25",
   "metadata": {},
   "outputs": [
    {
     "name": "stderr",
     "output_type": "stream",
     "text": [
      "C:\\Users\\Wu\\anaconda3\\lib\\site-packages\\sklearn\\cluster\\_kmeans.py:881: UserWarning: KMeans is known to have a memory leak on Windows with MKL, when there are less chunks than available threads. You can avoid it by setting the environment variable OMP_NUM_THREADS=1.\n",
      "  warnings.warn(\n"
     ]
    },
    {
     "data": {
      "image/png": "[encoded data removed]",
      "text/plain": [
       "<Figure size 432x288 with 1 Axes>"
      ]
     },
     "metadata": {
      "needs_background": "light"
     },
     "output_type": "display_data"
    }
   ],
   "source": [
    "# Kmeans clustering \n",
    "from sklearn.cluster import KMeans\n",
    "from matplotlib import pyplot as plt\n",
    "\n",
    "wcss = []\n",
    "for i in range(1, 21):\n",
    "    kmeans = KMeans(n_clusters=i, init='k-means++', max_iter=300, n_init=10, random_state=0)\n",
    "    kmeans.fit(decomposition_data)\n",
    "    wcss.append(kmeans.inertia_)\n",
    "plt.plot(range(1, 21), wcss)\n",
    "plt.title('Elbow Method')\n",
    "plt.xlabel('Number of clusters')\n",
    "plt.ylabel('WCSS')\n",
    "plt.show()"
   ]
  },
  {
   "cell_type": "code",
   "execution_count": null,
   "id": "56ab4085",
   "metadata": {},
   "outputs": [],
   "source": []
  },
  {
   "cell_type": "code",
   "execution_count": 32,
   "id": "2e7c4b97",
   "metadata": {},
   "outputs": [
    {
     "data": {
      "text/plain": [
       "KMeans(n_clusters=7, random_state=5)"
      ]
     },
     "execution_count": 32,
     "metadata": {},
     "output_type": "execute_result"
    }
   ],
   "source": [
    "km = KMeans(n_clusters = 7, init='k-means++', max_iter=300, n_init=10, random_state=5)\n",
    "#km.fit(decomposition_data,label)\n",
    "km.fit(text_vect,label)"
   ]
  },
  {
   "cell_type": "code",
   "execution_count": 33,
   "id": "b5731541",
   "metadata": {},
   "outputs": [
    {
     "name": "stdout",
     "output_type": "stream",
     "text": [
      "['hi', 'help', 'special', 'thanks', 'beverage', 'get', 'goodbye', 'hey', 'thank', 'item']\n",
      "['one', 'order', 'deliver', 'sure', 'address', 'chicken', 'coca', 'pizza', 'large', 'wanna']\n",
      "['pay', 'google', 'delivery', 'etransfer', 'cash', 'make', 'available', 'much', 'order', 'welcome']\n",
      "['dollar', '10', 'medium', 'large', 'small', 'price', '12', 'small7', 'dollarsmedium10', 'large12']\n",
      "['spirit', 'beer', 'pepsi', 'coca', 'like', 'drink', 'soft', 'pizza', 'also', 'chicken']\n",
      "['table', 'book', 'sure', 'want', 'people', 'december', '4pm', 'tomorrow', 'yes', 'set']\n",
      "['pizza', 'chicken', 'veg', 'cost', 'price', 'size', 'offer', 'new', 'york', 'small']\n"
     ]
    }
   ],
   "source": [
    "oc = km.cluster_centers_.argsort()[:,::-1]\n",
    "u_words = tfidf_vect.get_feature_names()\n",
    "# top 10 word in 7 clusters\n",
    "for i in range(0,7):\n",
    "    top_words = [u_words[x] for x in oc[i,:10]]\n",
    "    print(top_words)"
   ]
  },
  {
   "cell_type": "code",
   "execution_count": 34,
   "id": "3ef0be95",
   "metadata": {},
   "outputs": [
    {
     "data": {
      "image/png": "[encoded data removed]",
      "text/plain": [
       "<Figure size 720x720 with 1 Axes>"
      ]
     },
     "metadata": {},
     "output_type": "display_data"
    }
   ],
   "source": [
    "km.fit(decomposition_data,label)\n",
    "x = []\n",
    "y = []\n",
    "\n",
    "for i in decomposition_data:\n",
    "    x.append(i[0])\n",
    "    y.append(i[1])\n",
    "\n",
    "fig = plt.figure(figsize=(10, 10))\n",
    "ax = plt.axes()\n",
    "plt.scatter(x, y, c=km.labels_, marker=\"x\")\n",
    "plt.scatter(km.cluster_centers_[:, 0], km.cluster_centers_[:, 1], s=100, c='red')\n",
    "plt.xticks(())\n",
    "plt.yticks(())\n",
    "plt.show()"
   ]
  },
  {
   "cell_type": "code",
   "execution_count": 35,
   "id": "743edb22",
   "metadata": {},
   "outputs": [
    {
     "data": {
      "text/plain": [
       "0.016137428422696498"
      ]
     },
     "execution_count": 35,
     "metadata": {},
     "output_type": "execute_result"
    }
   ],
   "source": [
    "# Calculate Kappa score\n",
    "from sklearn.metrics import cohen_kappa_score\n",
    "cohen_kappa_score(km.labels_, label)"
   ]
  },
  {
   "cell_type": "code",
   "execution_count": 36,
   "id": "e4050eb4",
   "metadata": {},
   "outputs": [
    {
     "data": {
      "text/plain": [
       "0.37088078"
      ]
     },
     "execution_count": 36,
     "metadata": {},
     "output_type": "execute_result"
    }
   ],
   "source": [
    "# Calculate Silhouette score\n",
    "X = decomposition_data\n",
    "\n",
    "from sklearn.metrics import silhouette_score\n",
    "silhouette_score(X, km.labels_, metric = \"euclidean\")"
   ]
  },
  {
   "cell_type": "code",
   "execution_count": 37,
   "id": "04013038",
   "metadata": {},
   "outputs": [],
   "source": [
    "# Hierarchical clustering\n",
    "import scipy.cluster.hierarchy as sch\n",
    "from sklearn.cluster import AgglomerativeClustering"
   ]
  },
  {
   "cell_type": "code",
   "execution_count": 38,
   "id": "4053f31f",
   "metadata": {},
   "outputs": [
    {
     "data": {
      "image/png": "[encoded data removed]",
      "text/plain": [
       "<Figure size 432x288 with 1 Axes>"
      ]
     },
     "metadata": {
      "needs_background": "light"
     },
     "output_type": "display_data"
    }
   ],
   "source": [
    "# create dendrogram text_vect.toarray()\n",
    "dendrogram = sch.dendrogram(sch.linkage(X, method='ward'))"
   ]
  },
  {
   "cell_type": "code",
   "execution_count": 39,
   "id": "6de5d2f1",
   "metadata": {},
   "outputs": [],
   "source": [
    "# create clusters\n",
    "hc = AgglomerativeClustering(n_clusters=7, affinity = 'euclidean', linkage = 'ward')\n",
    "# save clusters for chart\n",
    "y_hc = hc.fit_predict(X,label)"
   ]
  },
  {
   "cell_type": "code",
   "execution_count": 40,
   "id": "79a632b1",
   "metadata": {},
   "outputs": [
    {
     "data": {
      "text/plain": [
       "<matplotlib.collections.PathCollection at 0x2713b858910>"
      ]
     },
     "execution_count": 40,
     "metadata": {},
     "output_type": "execute_result"
    },
    {
     "data": {
      "image/png": "[encoded data removed]",
      "text/plain": [
       "<Figure size 432x288 with 1 Axes>"
      ]
     },
     "metadata": {
      "needs_background": "light"
     },
     "output_type": "display_data"
    }
   ],
   "source": [
    "plt.scatter(X[y_hc ==0,0], X[y_hc == 0,1], s=100, c='red')\n",
    "plt.scatter(X[y_hc==1,0], X[y_hc == 1,1], s=100, c='black')\n",
    "plt.scatter(X[y_hc ==2,0], X[y_hc == 2,1], s=100, c='blue')\n",
    "plt.scatter(X[y_hc ==3,0], X[y_hc == 3,1], s=100, c='cyan')\n",
    "plt.scatter(X[y_hc ==4,0], X[y_hc == 4,1], s=100, c='green')\n",
    "plt.scatter(X[y_hc ==5,0], X[y_hc == 5,1], s=100, c='yellow')\n",
    "plt.scatter(X[y_hc ==6,0], X[y_hc == 6,1], s=100, c='orange')"
   ]
  },
  {
   "cell_type": "code",
   "execution_count": 41,
   "id": "90820aaf",
   "metadata": {},
   "outputs": [
    {
     "data": {
      "text/plain": [
       "-0.02941176470588247"
      ]
     },
     "execution_count": 41,
     "metadata": {},
     "output_type": "execute_result"
    }
   ],
   "source": [
    "# Calculate Kappa score\n",
    "from sklearn.metrics import cohen_kappa_score\n",
    "cohen_kappa_score(y_hc, label)"
   ]
  },
  {
   "cell_type": "code",
   "execution_count": 42,
   "id": "af35457b",
   "metadata": {},
   "outputs": [
    {
     "data": {
      "text/plain": [
       "0.31455776"
      ]
     },
     "execution_count": 42,
     "metadata": {},
     "output_type": "execute_result"
    }
   ],
   "source": [
    "# Calculate Kappa score\n",
    "from sklearn.metrics import silhouette_score\n",
    "silhouette_score(X,y_hc, metric = \"euclidean\")"
   ]
  },
  {
   "cell_type": "code",
   "execution_count": 43,
   "id": "861024a9",
   "metadata": {},
   "outputs": [],
   "source": [
    "# EM Gaussian Mixture\n",
    "from sklearn.mixture import GaussianMixture\n",
    "import numpy as np"
   ]
  },
  {
   "cell_type": "code",
   "execution_count": 44,
   "id": "015c5c34",
   "metadata": {},
   "outputs": [
    {
     "name": "stderr",
     "output_type": "stream",
     "text": [
      "C:\\Users\\Wu\\anaconda3\\lib\\site-packages\\sklearn\\cluster\\_kmeans.py:881: UserWarning: KMeans is known to have a memory leak on Windows with MKL, when there are less chunks than available threads. You can avoid it by setting the environment variable OMP_NUM_THREADS=1.\n",
      "  warnings.warn(\n"
     ]
    },
    {
     "data": {
      "text/plain": [
       "Text(0.5, 0, 'n_components')"
      ]
     },
     "execution_count": 44,
     "metadata": {},
     "output_type": "execute_result"
    },
    {
     "data": {
      "image/png": "[encoded data removed]",
      "text/plain": [
       "<Figure size 432x288 with 1 Axes>"
      ]
     },
     "metadata": {
      "needs_background": "light"
     },
     "output_type": "display_data"
    }
   ],
   "source": [
    "n_components = np.arange(1, 21)\n",
    "models = [GaussianMixture(n, covariance_type='full', random_state=0).fit(X) for n in n_components]\n",
    "plt.plot(n_components, [m.bic(X) for m in models], label='BIC')\n",
    "plt.plot(n_components, [m.aic(X) for m in models], label='AIC')\n",
    "plt.legend(loc='best')\n",
    "plt.xlabel('n_components')"
   ]
  },
  {
   "cell_type": "code",
   "execution_count": 45,
   "id": "969aff8b",
   "metadata": {},
   "outputs": [
    {
     "data": {
      "text/plain": [
       "GaussianMixture(n_components=7)"
      ]
     },
     "execution_count": 45,
     "metadata": {},
     "output_type": "execute_result"
    }
   ],
   "source": [
    "gmm = GaussianMixture(n_components=7)\n",
    "gmm.fit(X,label)"
   ]
  },
  {
   "cell_type": "code",
   "execution_count": 46,
   "id": "8ce2a8a9",
   "metadata": {},
   "outputs": [
    {
     "data": {
      "text/plain": [
       "<matplotlib.collections.PathCollection at 0x2713bb7cc40>"
      ]
     },
     "execution_count": 46,
     "metadata": {},
     "output_type": "execute_result"
    },
    {
     "data": {
      "image/png": "[encoded data removed]",
      "text/plain": [
       "<Figure size 432x288 with 1 Axes>"
      ]
     },
     "metadata": {
      "needs_background": "light"
     },
     "output_type": "display_data"
    }
   ],
   "source": [
    "pred_label = gmm.predict(X)\n",
    "plt.scatter(X[:, 0], X[:, 1], c=pred_label, cmap='viridis')"
   ]
  },
  {
   "cell_type": "code",
   "execution_count": 47,
   "id": "d0c348bc",
   "metadata": {},
   "outputs": [
    {
     "data": {
      "text/plain": [
       "-0.13483262514250183"
      ]
     },
     "execution_count": 47,
     "metadata": {},
     "output_type": "execute_result"
    }
   ],
   "source": [
    "# Calculate Kappa score\n",
    "from sklearn.metrics import cohen_kappa_score\n",
    "cohen_kappa_score(pred_label, label)"
   ]
  },
  {
   "cell_type": "code",
   "execution_count": 48,
   "id": "c68c6036",
   "metadata": {},
   "outputs": [
    {
     "data": {
      "text/plain": [
       "0.32717103"
      ]
     },
     "execution_count": 48,
     "metadata": {},
     "output_type": "execute_result"
    }
   ],
   "source": [
    "# Calculate Kappa score\n",
    "\n",
    "from sklearn.metrics import silhouette_score\n",
    "silhouette_score(X,pred_label, metric = \"euclidean\")"
   ]
  },
  {
   "cell_type": "code",
   "execution_count": 49,
   "id": "3c37a88d",
   "metadata": {},
   "outputs": [
    {
     "data": {
      "image/png": "[encoded data removed]",
      "text/plain": [
       "<Figure size 432x288 with 1 Axes>"
      ]
     },
     "metadata": {
      "needs_background": "light"
     },
     "output_type": "display_data"
    }
   ],
   "source": [
    "import wordcloud\n",
    "wc = wordcloud.WordCloud(background_color='white', max_words=50, \n",
    "                         max_font_size=35)\n",
    "wc = wc.generate(str(data['text']))\n",
    "fig = plt.figure(num=1)\n",
    "plt.axis('off')\n",
    "plt.imshow(wc, cmap=None)\n",
    "plt.show()"
   ]
  },
  {
   "cell_type": "code",
   "execution_count": null,
   "id": "dbda52e7",
   "metadata": {},
   "outputs": [],
   "source": []
  },
  {
   "cell_type": "code",
   "execution_count": null,
   "id": "cf54fd96",
   "metadata": {},
   "outputs": [],
   "source": []
  }
 ],
 "metadata": {
  "kernelspec": {
   "display_name": "Python 3 (ipykernel)",
   "language": "python",
   "name": "python3"
  },
  "language_info": {
   "codemirror_mode": {
    "name": "ipython",
    "version": 3
   },
   "file_extension": ".py",
   "mimetype": "text/x-python",
   "name": "python",
   "nbconvert_exporter": "python",
   "pygments_lexer": "ipython3",
   "version": "3.8.8"
  }
 },
 "nbformat": 4,
 "nbformat_minor": 5
}
