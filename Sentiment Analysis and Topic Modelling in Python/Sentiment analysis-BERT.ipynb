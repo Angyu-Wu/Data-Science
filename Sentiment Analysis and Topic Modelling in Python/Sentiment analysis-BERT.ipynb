{
 "cells": [
  {
   "cell_type": "code",
   "execution_count": 1,
   "id": "ecb47163",
   "metadata": {},
   "outputs": [
    {
     "data": {
      "text/html": [
       "<div>\n",
       "<style scoped>\n",
       "    .dataframe tbody tr th:only-of-type {\n",
       "        vertical-align: middle;\n",
       "    }\n",
       "\n",
       "    .dataframe tbody tr th {\n",
       "        vertical-align: top;\n",
       "    }\n",
       "\n",
       "    .dataframe thead th {\n",
       "        text-align: right;\n",
       "    }\n",
       "</style>\n",
       "<table border=\"1\" class=\"dataframe\">\n",
       "  <thead>\n",
       "    <tr style=\"text-align: right;\">\n",
       "      <th></th>\n",
       "      <th>Unnamed: 0</th>\n",
       "      <th>Content</th>\n",
       "      <th>Star_rating</th>\n",
       "      <th>Rating</th>\n",
       "    </tr>\n",
       "  </thead>\n",
       "  <tbody>\n",
       "    <tr>\n",
       "      <th>0</th>\n",
       "      <td>0</td>\n",
       "      <td>easy website easy website fast shipping wonder...</td>\n",
       "      <td>4</td>\n",
       "      <td>Great</td>\n",
       "    </tr>\n",
       "    <tr>\n",
       "      <th>1</th>\n",
       "      <td>1</td>\n",
       "      <td>hey merry christmas nike hey merry christmas n...</td>\n",
       "      <td>1</td>\n",
       "      <td>Bad</td>\n",
       "    </tr>\n",
       "    <tr>\n",
       "      <th>2</th>\n",
       "      <td>2</td>\n",
       "      <td>nike along apple coca cola supporting slavery ...</td>\n",
       "      <td>1</td>\n",
       "      <td>Bad</td>\n",
       "    </tr>\n",
       "    <tr>\n",
       "      <th>3</th>\n",
       "      <td>3</td>\n",
       "      <td>ordered shoe 16th day ordered shoe 16th day or...</td>\n",
       "      <td>1</td>\n",
       "      <td>Bad</td>\n",
       "    </tr>\n",
       "    <tr>\n",
       "      <th>4</th>\n",
       "      <td>4</td>\n",
       "      <td>bad service good product</td>\n",
       "      <td>1</td>\n",
       "      <td>Bad</td>\n",
       "    </tr>\n",
       "    <tr>\n",
       "      <th>...</th>\n",
       "      <td>...</td>\n",
       "      <td>...</td>\n",
       "      <td>...</td>\n",
       "      <td>...</td>\n",
       "    </tr>\n",
       "    <tr>\n",
       "      <th>231</th>\n",
       "      <td>231</td>\n",
       "      <td>recommend nikecom give nikecom 5 star always s...</td>\n",
       "      <td>5</td>\n",
       "      <td>Excellent</td>\n",
       "    </tr>\n",
       "    <tr>\n",
       "      <th>232</th>\n",
       "      <td>232</td>\n",
       "      <td>great shoe jogger</td>\n",
       "      <td>4</td>\n",
       "      <td>Great</td>\n",
       "    </tr>\n",
       "    <tr>\n",
       "      <th>233</th>\n",
       "      <td>233</td>\n",
       "      <td>bought expensive running shoe bought expensive...</td>\n",
       "      <td>1</td>\n",
       "      <td>Bad</td>\n",
       "    </tr>\n",
       "    <tr>\n",
       "      <th>234</th>\n",
       "      <td>234</td>\n",
       "      <td>ordered lot site ordered lot site always get g...</td>\n",
       "      <td>5</td>\n",
       "      <td>Excellent</td>\n",
       "    </tr>\n",
       "    <tr>\n",
       "      <th>235</th>\n",
       "      <td>235</td>\n",
       "      <td>great offer fast delievery large variety produ...</td>\n",
       "      <td>5</td>\n",
       "      <td>Excellent</td>\n",
       "    </tr>\n",
       "  </tbody>\n",
       "</table>\n",
       "<p>236 rows × 4 columns</p>\n",
       "</div>"
      ],
      "text/plain": [
       "     Unnamed: 0                                            Content  \\\n",
       "0             0  easy website easy website fast shipping wonder...   \n",
       "1             1  hey merry christmas nike hey merry christmas n...   \n",
       "2             2  nike along apple coca cola supporting slavery ...   \n",
       "3             3  ordered shoe 16th day ordered shoe 16th day or...   \n",
       "4             4                           bad service good product   \n",
       "..          ...                                                ...   \n",
       "231         231  recommend nikecom give nikecom 5 star always s...   \n",
       "232         232                                  great shoe jogger   \n",
       "233         233  bought expensive running shoe bought expensive...   \n",
       "234         234  ordered lot site ordered lot site always get g...   \n",
       "235         235  great offer fast delievery large variety produ...   \n",
       "\n",
       "     Star_rating      Rating  \n",
       "0              4       Great  \n",
       "1              1         Bad  \n",
       "2              1         Bad  \n",
       "3              1         Bad  \n",
       "4              1         Bad  \n",
       "..           ...         ...  \n",
       "231            5   Excellent  \n",
       "232            4       Great  \n",
       "233            1         Bad  \n",
       "234            5   Excellent  \n",
       "235            5   Excellent  \n",
       "\n",
       "[236 rows x 4 columns]"
      ]
     },
     "execution_count": 1,
     "metadata": {},
     "output_type": "execute_result"
    }
   ],
   "source": [
    "import pandas as pd\n",
    "\n",
    "data = pd.read_csv('C:/Users/Wu/Desktop/uOttawa/MDTI/DTI6997 Research Project/Data Cleaned.csv')\n",
    "data"
   ]
  },
  {
   "cell_type": "code",
   "execution_count": 2,
   "id": "6d4cb3a2",
   "metadata": {},
   "outputs": [],
   "source": [
    "data['Star_rating'] = data['Star_rating'] -1"
   ]
  },
  {
   "cell_type": "code",
   "execution_count": 3,
   "id": "c1a5546c",
   "metadata": {},
   "outputs": [
    {
     "data": {
      "text/html": [
       "<div>\n",
       "<style scoped>\n",
       "    .dataframe tbody tr th:only-of-type {\n",
       "        vertical-align: middle;\n",
       "    }\n",
       "\n",
       "    .dataframe tbody tr th {\n",
       "        vertical-align: top;\n",
       "    }\n",
       "\n",
       "    .dataframe thead th {\n",
       "        text-align: right;\n",
       "    }\n",
       "</style>\n",
       "<table border=\"1\" class=\"dataframe\">\n",
       "  <thead>\n",
       "    <tr style=\"text-align: right;\">\n",
       "      <th></th>\n",
       "      <th>Unnamed: 0</th>\n",
       "      <th>Content</th>\n",
       "      <th>Star_rating</th>\n",
       "      <th>Rating</th>\n",
       "    </tr>\n",
       "  </thead>\n",
       "  <tbody>\n",
       "    <tr>\n",
       "      <th>0</th>\n",
       "      <td>0</td>\n",
       "      <td>easy website easy website fast shipping wonder...</td>\n",
       "      <td>3</td>\n",
       "      <td>Great</td>\n",
       "    </tr>\n",
       "    <tr>\n",
       "      <th>1</th>\n",
       "      <td>1</td>\n",
       "      <td>hey merry christmas nike hey merry christmas n...</td>\n",
       "      <td>0</td>\n",
       "      <td>Bad</td>\n",
       "    </tr>\n",
       "    <tr>\n",
       "      <th>2</th>\n",
       "      <td>2</td>\n",
       "      <td>nike along apple coca cola supporting slavery ...</td>\n",
       "      <td>0</td>\n",
       "      <td>Bad</td>\n",
       "    </tr>\n",
       "    <tr>\n",
       "      <th>3</th>\n",
       "      <td>3</td>\n",
       "      <td>ordered shoe 16th day ordered shoe 16th day or...</td>\n",
       "      <td>0</td>\n",
       "      <td>Bad</td>\n",
       "    </tr>\n",
       "    <tr>\n",
       "      <th>4</th>\n",
       "      <td>4</td>\n",
       "      <td>bad service good product</td>\n",
       "      <td>0</td>\n",
       "      <td>Bad</td>\n",
       "    </tr>\n",
       "    <tr>\n",
       "      <th>...</th>\n",
       "      <td>...</td>\n",
       "      <td>...</td>\n",
       "      <td>...</td>\n",
       "      <td>...</td>\n",
       "    </tr>\n",
       "    <tr>\n",
       "      <th>231</th>\n",
       "      <td>231</td>\n",
       "      <td>recommend nikecom give nikecom 5 star always s...</td>\n",
       "      <td>4</td>\n",
       "      <td>Excellent</td>\n",
       "    </tr>\n",
       "    <tr>\n",
       "      <th>232</th>\n",
       "      <td>232</td>\n",
       "      <td>great shoe jogger</td>\n",
       "      <td>3</td>\n",
       "      <td>Great</td>\n",
       "    </tr>\n",
       "    <tr>\n",
       "      <th>233</th>\n",
       "      <td>233</td>\n",
       "      <td>bought expensive running shoe bought expensive...</td>\n",
       "      <td>0</td>\n",
       "      <td>Bad</td>\n",
       "    </tr>\n",
       "    <tr>\n",
       "      <th>234</th>\n",
       "      <td>234</td>\n",
       "      <td>ordered lot site ordered lot site always get g...</td>\n",
       "      <td>4</td>\n",
       "      <td>Excellent</td>\n",
       "    </tr>\n",
       "    <tr>\n",
       "      <th>235</th>\n",
       "      <td>235</td>\n",
       "      <td>great offer fast delievery large variety produ...</td>\n",
       "      <td>4</td>\n",
       "      <td>Excellent</td>\n",
       "    </tr>\n",
       "  </tbody>\n",
       "</table>\n",
       "<p>236 rows × 4 columns</p>\n",
       "</div>"
      ],
      "text/plain": [
       "     Unnamed: 0                                            Content  \\\n",
       "0             0  easy website easy website fast shipping wonder...   \n",
       "1             1  hey merry christmas nike hey merry christmas n...   \n",
       "2             2  nike along apple coca cola supporting slavery ...   \n",
       "3             3  ordered shoe 16th day ordered shoe 16th day or...   \n",
       "4             4                           bad service good product   \n",
       "..          ...                                                ...   \n",
       "231         231  recommend nikecom give nikecom 5 star always s...   \n",
       "232         232                                  great shoe jogger   \n",
       "233         233  bought expensive running shoe bought expensive...   \n",
       "234         234  ordered lot site ordered lot site always get g...   \n",
       "235         235  great offer fast delievery large variety produ...   \n",
       "\n",
       "     Star_rating      Rating  \n",
       "0              3       Great  \n",
       "1              0         Bad  \n",
       "2              0         Bad  \n",
       "3              0         Bad  \n",
       "4              0         Bad  \n",
       "..           ...         ...  \n",
       "231            4   Excellent  \n",
       "232            3       Great  \n",
       "233            0         Bad  \n",
       "234            4   Excellent  \n",
       "235            4   Excellent  \n",
       "\n",
       "[236 rows x 4 columns]"
      ]
     },
     "execution_count": 3,
     "metadata": {},
     "output_type": "execute_result"
    }
   ],
   "source": [
    "data"
   ]
  },
  {
   "cell_type": "markdown",
   "id": "ac964c7b",
   "metadata": {},
   "source": [
    "# BERT"
   ]
  },
  {
   "cell_type": "code",
   "execution_count": 4,
   "id": "262a3d79",
   "metadata": {},
   "outputs": [],
   "source": [
    "import tensorflow as tf\n",
    "import tensorflow_hub as hub\n",
    "import pandas as pd\n",
    "from sklearn.model_selection import train_test_split\n",
    "import numpy as np\n",
    "import re\n",
    "import unicodedata\n",
    "import nltk\n",
    "from nltk.corpus import stopwords\n",
    "import keras\n",
    "from tqdm import tqdm\n",
    "import pickle\n",
    "from keras.models import Model\n",
    "import keras.backend as K\n",
    "from sklearn.metrics import confusion_matrix,f1_score,classification_report\n",
    "import matplotlib.pyplot as plt\n",
    "from keras.callbacks import ModelCheckpoint\n",
    "import itertools\n",
    "from keras.models import load_model\n",
    "from sklearn.utils import shuffle\n",
    "import transformers as trfs\n",
    "from transformers import BertTokenizer, TFBertModel, BertConfig"
   ]
  },
  {
   "cell_type": "code",
   "execution_count": 5,
   "id": "4edbbe1c",
   "metadata": {},
   "outputs": [],
   "source": [
    "import transformers \n",
    "import transformers as trfs\n",
    "num_classes=len(data.Star_rating.unique())\n",
    "bert_tokenizer = BertTokenizer.from_pretrained(\"bert-base-uncased\")\n",
    "#bert_model = trfs.TFBertForSequenceClassification.from_pretrained('bert-base-uncased',num_labels=num_classes)"
   ]
  },
  {
   "cell_type": "code",
   "execution_count": 6,
   "id": "25cda195",
   "metadata": {},
   "outputs": [
    {
     "data": {
      "text/plain": [
       "(236, 236)"
      ]
     },
     "execution_count": 6,
     "metadata": {},
     "output_type": "execute_result"
    }
   ],
   "source": [
    "sentences=data['Content']\n",
    "labels_rating=data['Star_rating']\n",
    "len(sentences),len(labels_rating)"
   ]
  },
  {
   "cell_type": "code",
   "execution_count": 7,
   "id": "cf79140c",
   "metadata": {},
   "outputs": [
    {
     "name": "stderr",
     "output_type": "stream",
     "text": [
      "Truncation was not explicitly activated but `max_length` is provided a specific value, please use `truncation=True` to explicitly truncate examples to max length. Defaulting to 'longest_first' truncation strategy. If you encode pairs of sequences (GLUE-style) with the tokenizer you can select this strategy more precisely by providing a specific strategy to `truncation`.\n",
      "C:\\Users\\Wu\\anaconda3\\lib\\site-packages\\transformers\\tokenization_utils_base.py:2251: FutureWarning: The `pad_to_max_length` argument is deprecated and will be removed in a future version, use `padding=True` or `padding='longest'` to pad to the longest sequence in the batch, or use `padding='max_length'` to pad to a max length. In this case, you can give a specific length with `max_length` (e.g. `max_length=45`) or leave max_length to None to pad to the maximal input size of the model (e.g. 512 for Bert).\n",
      "  warnings.warn(\n"
     ]
    }
   ],
   "source": [
    "input_ids=[]\n",
    "attention_masks=[]\n",
    "\n",
    "for sent in sentences:\n",
    "    bert_inp=bert_tokenizer.encode_plus(sent,add_special_tokens = True,max_length =64,pad_to_max_length = True,return_attention_mask = True)\n",
    "    input_ids.append(bert_inp['input_ids'])\n",
    "    attention_masks.append(bert_inp['attention_mask'])\n",
    "\n",
    "input_ids=np.asarray(input_ids)\n",
    "attention_masks=np.array(attention_masks)\n",
    "labels_rating=np.array(labels_rating)"
   ]
  },
  {
   "cell_type": "code",
   "execution_count": 8,
   "id": "c5ff0288",
   "metadata": {},
   "outputs": [
    {
     "name": "stdout",
     "output_type": "stream",
     "text": [
      "Train inp shape (188, 64) Val input shape (48, 64)\n",
      "Train label shape (188,) Val label shape (48,)\n",
      "Train attention mask shape (188, 64) Val attention mask shape (48, 64)\n"
     ]
    }
   ],
   "source": [
    "train_inp,val_inp,train_label,val_label,train_mask,val_mask=train_test_split(input_ids,labels_rating,attention_masks,test_size=0.2)\n",
    "\n",
    "print('Train inp shape {} Val input shape {}\\nTrain label shape {} Val label shape {}\\nTrain attention mask shape {} Val attention mask shape {}'.format(train_inp.shape,val_inp.shape,train_label.shape,val_label.shape,train_mask.shape,val_mask.shape))"
   ]
  },
  {
   "cell_type": "code",
   "execution_count": 9,
   "id": "195774ef",
   "metadata": {},
   "outputs": [
    {
     "name": "stderr",
     "output_type": "stream",
     "text": [
      "All model checkpoint layers were used when initializing TFBertForSequenceClassification.\n",
      "\n",
      "Some layers of TFBertForSequenceClassification were not initialized from the model checkpoint at bert-base-uncased and are newly initialized: ['classifier']\n",
      "You should probably TRAIN this model on a down-stream task to be able to use it for predictions and inference.\n"
     ]
    },
    {
     "name": "stdout",
     "output_type": "stream",
     "text": [
      "Model: \"tf_bert_for_sequence_classification\"\n",
      "_________________________________________________________________\n",
      " Layer (type)                Output Shape              Param #   \n",
      "=================================================================\n",
      " bert (TFBertMainLayer)      multiple                  109482240 \n",
      "                                                                 \n",
      " dropout_37 (Dropout)        multiple                  0         \n",
      "                                                                 \n",
      " classifier (Dense)          multiple                  3845      \n",
      "                                                                 \n",
      "=================================================================\n",
      "Total params: 109,486,085\n",
      "Trainable params: 109,486,085\n",
      "Non-trainable params: 0\n",
      "_________________________________________________________________\n"
     ]
    }
   ],
   "source": [
    "bert_model = trfs.TFBertForSequenceClassification.from_pretrained('bert-base-uncased',num_labels=num_classes,\n",
    "                                                                  attention_probs_dropout_prob=0.1,\n",
    "                                                                  hidden_dropout_prob=0.1)\n",
    "loss = tf.keras.losses.SparseCategoricalCrossentropy(from_logits=True)\n",
    "metric = tf.keras.metrics.SparseCategoricalAccuracy('accuracy')\n",
    "optimizer = tf.keras.optimizers.Adam(learning_rate=2e-5,epsilon=1e-08)\n",
    "\n",
    "bert_model.compile(loss=loss,optimizer=optimizer,metrics=[metric])\n",
    "bert_model.summary()"
   ]
  },
  {
   "cell_type": "code",
   "execution_count": 10,
   "id": "a8f47c55",
   "metadata": {},
   "outputs": [
    {
     "name": "stdout",
     "output_type": "stream",
     "text": [
      "Epoch 1/5\n",
      "94/94 [==============================] - 99s 888ms/step - loss: 1.3256 - accuracy: 0.4681 - val_loss: 1.0111 - val_accuracy: 0.7708\n",
      "Epoch 2/5\n",
      "94/94 [==============================] - 81s 863ms/step - loss: 0.9733 - accuracy: 0.6436 - val_loss: 0.8204 - val_accuracy: 0.7500\n"
     ]
    }
   ],
   "source": [
    "from keras.callbacks import EarlyStopping\n",
    "callbacks = [EarlyStopping(monitor='val_accuracy')]\n",
    "history=bert_model.fit([train_inp,train_mask],train_label,batch_size=2,epochs=5,validation_data=([val_inp,val_mask],val_label),\n",
    "                      callbacks = callbacks)"
   ]
  },
  {
   "cell_type": "code",
   "execution_count": 11,
   "id": "4e455fe2",
   "metadata": {},
   "outputs": [
    {
     "data": {
      "text/plain": [
       "<keras.callbacks.History at 0x1da58b31b20>"
      ]
     },
     "execution_count": 11,
     "metadata": {},
     "output_type": "execute_result"
    }
   ],
   "source": [
    "history"
   ]
  },
  {
   "cell_type": "code",
   "execution_count": 12,
   "id": "f815e0ee",
   "metadata": {},
   "outputs": [
    {
     "name": "stdout",
     "output_type": "stream",
     "text": [
      "              precision    recall  f1-score   support\n",
      "\n",
      "           0       0.88      0.88      0.88        17\n",
      "           1       0.00      0.00      0.00         1\n",
      "           2       0.00      0.00      0.00         3\n",
      "           3       0.00      0.00      0.00         3\n",
      "           4       0.81      0.88      0.84        24\n",
      "\n",
      "    accuracy                           0.75        48\n",
      "   macro avg       0.34      0.35      0.34        48\n",
      "weighted avg       0.72      0.75      0.73        48\n",
      "\n"
     ]
    },
    {
     "name": "stderr",
     "output_type": "stream",
     "text": [
      "C:\\Users\\Wu\\anaconda3\\lib\\site-packages\\sklearn\\metrics\\_classification.py:1245: UndefinedMetricWarning: Precision and F-score are ill-defined and being set to 0.0 in labels with no predicted samples. Use `zero_division` parameter to control this behavior.\n",
      "  _warn_prf(average, modifier, msg_start, len(result))\n",
      "C:\\Users\\Wu\\anaconda3\\lib\\site-packages\\sklearn\\metrics\\_classification.py:1245: UndefinedMetricWarning: Precision and F-score are ill-defined and being set to 0.0 in labels with no predicted samples. Use `zero_division` parameter to control this behavior.\n",
      "  _warn_prf(average, modifier, msg_start, len(result))\n",
      "C:\\Users\\Wu\\anaconda3\\lib\\site-packages\\sklearn\\metrics\\_classification.py:1245: UndefinedMetricWarning: Precision and F-score are ill-defined and being set to 0.0 in labels with no predicted samples. Use `zero_division` parameter to control this behavior.\n",
      "  _warn_prf(average, modifier, msg_start, len(result))\n"
     ]
    }
   ],
   "source": [
    "from sklearn import metrics\n",
    "preds = bert_model.predict([val_inp,val_mask],batch_size=2)\n",
    "pred_labels = np.argmax(preds.logits, axis=1)\n",
    "print(metrics.classification_report(val_label,pred_labels))"
   ]
  },
  {
   "cell_type": "code",
   "execution_count": 13,
   "id": "984618b0",
   "metadata": {},
   "outputs": [
    {
     "name": "stdout",
     "output_type": "stream",
     "text": [
      "[[15  0  1  0  1]\n",
      " [ 1  0  0  0  0]\n",
      " [ 0  0  0  2  1]\n",
      " [ 0  0  0  0  3]\n",
      " [ 1  0  0  2 21]]\n"
     ]
    }
   ],
   "source": [
    "from sklearn.metrics import confusion_matrix \n",
    "import numpy as np\n",
    "\n",
    "cm = confusion_matrix(val_label,pred_labels)\n",
    "print(cm)"
   ]
  },
  {
   "cell_type": "code",
   "execution_count": 14,
   "id": "127ed52e",
   "metadata": {},
   "outputs": [
    {
     "data": {
      "text/plain": [
       "<AxesSubplot:>"
      ]
     },
     "execution_count": 14,
     "metadata": {},
     "output_type": "execute_result"
    },
    {
     "data": {
      "image/png": "[encoded data removed]",
      "text/plain": [
       "<Figure size 432x288 with 2 Axes>"
      ]
     },
     "metadata": {
      "needs_background": "light"
     },
     "output_type": "display_data"
    }
   ],
   "source": [
    "import seaborn as sns\n",
    "import numpy as np\n",
    "sns.heatmap(cm, annot=True,  cmap='Blues')"
   ]
  },
  {
   "cell_type": "code",
   "execution_count": 15,
   "id": "aa2e6140",
   "metadata": {},
   "outputs": [
    {
     "data": {
      "text/plain": [
       "array([[-0.33898512, -1.429492  , -0.31318933, -0.01507185,  0.0211365 ],\n",
       "       [ 1.9275086 , -0.7308455 , -0.9657937 , -1.1278162 , -0.04357605],\n",
       "       [-1.465809  , -0.91377956,  0.33127117,  0.8474854 ,  0.22013621],\n",
       "       [ 2.0356114 , -0.35325664, -0.92944443, -0.97362995, -0.03767537],\n",
       "       [-1.6026136 , -1.258723  ,  0.06710305,  0.76048905,  0.6824107 ],\n",
       "       [-1.5579227 , -1.4082282 , -0.02783175,  0.8344845 ,  0.8645972 ],\n",
       "       [-1.3559352 , -1.6357368 , -0.49377713,  0.6604058 ,  1.5390002 ],\n",
       "       [-0.8499198 , -1.5365305 , -0.3138421 ,  0.18969135,  1.1764474 ],\n",
       "       [-0.76417387, -1.719555  , -0.6101762 ,  0.22387652,  1.7361094 ],\n",
       "       [ 2.0913498 , -0.34928787, -0.9694742 , -1.026795  , -0.05983317],\n",
       "       [ 1.9088932 , -0.57193255, -0.91181505, -1.0745575 , -0.09587662],\n",
       "       [ 2.0883095 , -0.34944874, -0.9381955 , -1.0598178 , -0.01031119],\n",
       "       [-0.14570366, -1.0123057 , -0.0815651 , -0.26284352,  0.2676012 ],\n",
       "       [ 1.8951652 , -0.42501256, -0.87174124, -0.93330675,  0.09343947],\n",
       "       [-0.84930605, -1.3132117 ,  0.1384597 ,  0.07667969,  1.2554594 ],\n",
       "       [ 1.8834096 , -0.77504903, -0.8334658 , -1.2693588 , -0.18301179],\n",
       "       [-1.3710648 , -1.5680711 , -0.5023194 ,  0.63083035,  1.509708  ],\n",
       "       [-1.3995    , -1.5534109 , -0.4170357 ,  0.67718697,  1.5259784 ],\n",
       "       [ 2.0144217 , -0.34636524, -0.9214506 , -0.96905935,  0.02564598],\n",
       "       [ 2.0513265 , -0.43461165, -0.9131021 , -1.0596617 , -0.02253139],\n",
       "       [-1.5021952 , -1.3293139 , -0.14432958,  0.7187038 ,  0.97282755],\n",
       "       [-0.77742577, -1.7545166 , -0.551739  ,  0.274399  ,  1.1314105 ],\n",
       "       [-0.6112047 , -0.9191415 ,  0.53137547, -0.20608027,  0.36083084],\n",
       "       [-0.84535   , -1.5351536 , -0.63296807,  0.1723043 ,  1.686543  ],\n",
       "       [-1.5539254 , -1.2299008 ,  0.05633749,  0.6189551 ,  0.73790234],\n",
       "       [ 2.0603206 , -0.52204806, -0.93756914, -1.1360885 , -0.11453658],\n",
       "       [ 0.06080934, -0.8859584 ,  0.15711914, -0.5478339 ,  0.60474026],\n",
       "       [ 1.9419888 , -0.33460045, -0.89845383, -0.8571315 , -0.06042745],\n",
       "       [ 2.2193217 , -0.39972526, -1.0207927 , -1.2011905 , -0.06695291],\n",
       "       [-1.5810498 , -1.1622604 ,  0.027042  ,  0.8862162 ,  0.72199816],\n",
       "       [-0.02796612, -1.618403  , -0.62890303, -0.2241442 ,  0.36566904],\n",
       "       [-0.31766337, -1.1597575 , -0.37384373, -0.07523429,  0.32892776],\n",
       "       [ 2.0500174 , -0.39282894, -1.0130363 , -1.2259527 ,  0.17507452],\n",
       "       [ 2.015615  , -0.22811696, -0.91011417, -0.940827  , -0.07205561],\n",
       "       [-0.98152196, -1.7532415 , -0.6117916 ,  0.35679233,  1.3173932 ],\n",
       "       [ 0.27145416, -1.3965268 , -0.55183405, -0.364118  ,  1.0153607 ],\n",
       "       [-0.8521323 , -1.581604  , -0.49138108,  0.1319864 ,  1.6409482 ],\n",
       "       [-1.0255136 , -1.4902884 , -0.62442786,  0.3852263 ,  1.1000446 ],\n",
       "       [ 1.9746631 , -0.363623  , -0.9244814 , -0.9104107 , -0.09065001],\n",
       "       [-1.2666738 , -1.6263331 , -0.37863296,  0.65903723,  1.4410433 ],\n",
       "       [-1.5497504 , -1.0554852 ,  0.26641473,  0.84791964,  0.5071965 ],\n",
       "       [-1.4035823 , -1.5769042 , -0.22675902,  0.630099  ,  1.2526627 ],\n",
       "       [ 2.1619341 , -0.34168893, -0.9540092 , -1.102513  , -0.03653536],\n",
       "       [-0.7870222 , -1.661324  , -0.18859495,  0.12884626,  1.2940153 ],\n",
       "       [-0.16833012, -1.6906238 , -0.7252282 ,  0.04196452,  1.1832484 ],\n",
       "       [ 2.1327763 , -0.37421373, -0.9414935 , -1.216584  , -0.06869401],\n",
       "       [-1.3802263 , -1.5274589 , -0.11480769,  0.6777695 ,  0.8863621 ],\n",
       "       [-1.2709163 , -1.5577368 , -0.42794365,  0.54050386,  1.7305554 ]],\n",
       "      dtype=float32)"
      ]
     },
     "execution_count": 15,
     "metadata": {},
     "output_type": "execute_result"
    }
   ],
   "source": [
    "preds.logits"
   ]
  },
  {
   "cell_type": "code",
   "execution_count": 16,
   "id": "0e131989",
   "metadata": {},
   "outputs": [],
   "source": [
    "from sklearn.preprocessing import label_binarize\n",
    "from sklearn.metrics import roc_curve, auc"
   ]
  },
  {
   "cell_type": "code",
   "execution_count": 17,
   "id": "b3ba2d8a",
   "metadata": {},
   "outputs": [],
   "source": [
    "# Binarize the output\n",
    "y_temp = val_label\n",
    "y_temp = label_binarize(y_temp, classes=[0, 1, 2, 3, 4])\n",
    "n_classes = y_temp.shape[1]"
   ]
  },
  {
   "cell_type": "code",
   "execution_count": 18,
   "id": "575bf005",
   "metadata": {},
   "outputs": [],
   "source": [
    "y_score = preds.logits"
   ]
  },
  {
   "cell_type": "code",
   "execution_count": 19,
   "id": "73c62380",
   "metadata": {},
   "outputs": [],
   "source": [
    "# Compute ROC curve and ROC area for each class\n",
    "fpr = dict()\n",
    "tpr = dict()\n",
    "roc_auc = dict()\n",
    "for i in range(n_classes):\n",
    "    fpr[i], tpr[i], _ = roc_curve(y_temp[:, i], y_score[:, i])\n",
    "    roc_auc[i] = auc(fpr[i], tpr[i])"
   ]
  },
  {
   "cell_type": "code",
   "execution_count": 20,
   "id": "147c0d11",
   "metadata": {},
   "outputs": [],
   "source": [
    "from scipy import interp\n",
    "from numpy import interp\n",
    "# First aggregate all false positive rates\n",
    "all_fpr = np.unique(np.concatenate([fpr[i] for i in range(n_classes)]))\n",
    "# Then interpolate all ROC curves at this points\n",
    "mean_tpr = np.zeros_like(all_fpr)\n",
    "for i in range(n_classes):\n",
    "    mean_tpr += interp(all_fpr, fpr[i], tpr[i])\n",
    "# Finally average it and compute AUC\n",
    "mean_tpr /= n_classes\n",
    "fpr[\"macro\"] = all_fpr\n",
    "tpr[\"macro\"] = mean_tpr\n",
    "roc_auc[\"macro\"] = auc(fpr[\"macro\"], tpr[\"macro\"])"
   ]
  },
  {
   "cell_type": "code",
   "execution_count": 21,
   "id": "ba80c6bd",
   "metadata": {},
   "outputs": [],
   "source": [
    "fpr[\"micro\"], tpr[\"micro\"], _ = roc_curve(y_temp.ravel(), y_score.ravel())\n",
    "roc_auc[\"micro\"] = auc(fpr[\"micro\"], tpr[\"micro\"])"
   ]
  },
  {
   "cell_type": "code",
   "execution_count": 22,
   "id": "21ea345a",
   "metadata": {},
   "outputs": [
    {
     "data": {
      "image/png": "[encoded data removed]",
      "text/plain": [
       "<Figure size 432x288 with 1 Axes>"
      ]
     },
     "metadata": {
      "needs_background": "light"
     },
     "output_type": "display_data"
    }
   ],
   "source": [
    "import matplotlib.pyplot as plt\n",
    "from itertools import cycle\n",
    "lw=2\n",
    "plt.figure()\n",
    "plt.plot(fpr[\"micro\"], tpr[\"micro\"],\n",
    "         label='micro-average ROC curve (area = {0:0.2f})'\n",
    "               ''.format(roc_auc[\"micro\"]),\n",
    "         color='deeppink', linestyle=':', linewidth=4)\n",
    " \n",
    "plt.plot(fpr[\"macro\"], tpr[\"macro\"],\n",
    "         label='macro-average ROC curve (area = {0:0.2f})'\n",
    "               ''.format(roc_auc[\"macro\"]),\n",
    "         color='navy', linestyle=':', linewidth=4)\n",
    " \n",
    "colors = cycle(['aqua', 'darkorange', 'cornflowerblue'])\n",
    "for i, color in zip(range(n_classes), colors):\n",
    "    plt.plot(fpr[i], tpr[i], color=color, lw=lw,\n",
    "             label='ROC curve of class {0} (area = {1:0.2f})'\n",
    "             ''.format(i, roc_auc[i]))\n",
    " \n",
    "plt.plot([0, 1], [0, 1], 'k--', lw=lw)\n",
    "plt.xlim([0.0, 1.0])\n",
    "plt.ylim([0.0, 1.05])\n",
    "plt.xlabel('False Positive Rate')\n",
    "plt.ylabel('True Positive Rate')\n",
    "plt.title('multi-calss ROC')\n",
    "plt.legend(loc=\"lower right\")\n",
    "plt.show()"
   ]
  },
  {
   "cell_type": "code",
   "execution_count": null,
   "id": "e1e5a742",
   "metadata": {},
   "outputs": [],
   "source": []
  }
 ],
 "metadata": {
  "kernelspec": {
   "display_name": "Python 3 (ipykernel)",
   "language": "python",
   "name": "python3"
  },
  "language_info": {
   "codemirror_mode": {
    "name": "ipython",
    "version": 3
   },
   "file_extension": ".py",
   "mimetype": "text/x-python",
   "name": "python",
   "nbconvert_exporter": "python",
   "pygments_lexer": "ipython3",
   "version": "3.8.8"
  }
 },
 "nbformat": 4,
 "nbformat_minor": 5
}
